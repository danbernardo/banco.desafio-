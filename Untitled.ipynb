{
 "cells": [
  {
   "cell_type": "code",
   "execution_count": 14,
   "id": "4529e4e0-635a-4874-a55a-8d850ff60bd2",
   "metadata": {
    "tags": []
   },
   "outputs": [],
   "source": [
    "import pandas as pd \n",
    "import numpy as np\n",
    "import plotly.express as px\n"
   ]
  },
  {
   "cell_type": "code",
   "execution_count": 7,
   "id": "cc11eff3-be9a-4c55-93b1-bec0c2d48ea5",
   "metadata": {
    "tags": []
   },
   "outputs": [],
   "source": [
    "df_data = pd.read_excel (\"Financial Sample.xlsx\")"
   ]
  },
  {
   "cell_type": "code",
   "execution_count": 8,
   "id": "448e523d-e03c-48b5-89df-4c4ab98dc26b",
   "metadata": {
    "tags": []
   },
   "outputs": [
    {
     "data": {
      "text/html": [
       "<div>\n",
       "<style scoped>\n",
       "    .dataframe tbody tr th:only-of-type {\n",
       "        vertical-align: middle;\n",
       "    }\n",
       "\n",
       "    .dataframe tbody tr th {\n",
       "        vertical-align: top;\n",
       "    }\n",
       "\n",
       "    .dataframe thead th {\n",
       "        text-align: right;\n",
       "    }\n",
       "</style>\n",
       "<table border=\"1\" class=\"dataframe\">\n",
       "  <thead>\n",
       "    <tr style=\"text-align: right;\">\n",
       "      <th></th>\n",
       "      <th>Segment</th>\n",
       "      <th>Country</th>\n",
       "      <th>Product</th>\n",
       "      <th>Discount Band</th>\n",
       "      <th>Units Sold</th>\n",
       "      <th>Manufacturing Price</th>\n",
       "      <th>Sale Price</th>\n",
       "      <th>Gross Sales</th>\n",
       "      <th>Discounts</th>\n",
       "      <th>Sales</th>\n",
       "      <th>COGS</th>\n",
       "      <th>Profit</th>\n",
       "      <th>Date</th>\n",
       "      <th>Month Number</th>\n",
       "      <th>Month Name</th>\n",
       "      <th>Year</th>\n",
       "    </tr>\n",
       "  </thead>\n",
       "  <tbody>\n",
       "    <tr>\n",
       "      <th>0</th>\n",
       "      <td>Government</td>\n",
       "      <td>Canada</td>\n",
       "      <td>Carretera</td>\n",
       "      <td>NaN</td>\n",
       "      <td>1618.5</td>\n",
       "      <td>3</td>\n",
       "      <td>20</td>\n",
       "      <td>32370.0</td>\n",
       "      <td>0.0</td>\n",
       "      <td>32370.0</td>\n",
       "      <td>16185.0</td>\n",
       "      <td>16185.0</td>\n",
       "      <td>2014-01-01</td>\n",
       "      <td>1</td>\n",
       "      <td>January</td>\n",
       "      <td>2014</td>\n",
       "    </tr>\n",
       "    <tr>\n",
       "      <th>1</th>\n",
       "      <td>Government</td>\n",
       "      <td>Germany</td>\n",
       "      <td>Carretera</td>\n",
       "      <td>NaN</td>\n",
       "      <td>1321.0</td>\n",
       "      <td>3</td>\n",
       "      <td>20</td>\n",
       "      <td>26420.0</td>\n",
       "      <td>0.0</td>\n",
       "      <td>26420.0</td>\n",
       "      <td>13210.0</td>\n",
       "      <td>13210.0</td>\n",
       "      <td>2014-01-01</td>\n",
       "      <td>1</td>\n",
       "      <td>January</td>\n",
       "      <td>2014</td>\n",
       "    </tr>\n",
       "    <tr>\n",
       "      <th>2</th>\n",
       "      <td>Midmarket</td>\n",
       "      <td>France</td>\n",
       "      <td>Carretera</td>\n",
       "      <td>NaN</td>\n",
       "      <td>2178.0</td>\n",
       "      <td>3</td>\n",
       "      <td>15</td>\n",
       "      <td>32670.0</td>\n",
       "      <td>0.0</td>\n",
       "      <td>32670.0</td>\n",
       "      <td>21780.0</td>\n",
       "      <td>10890.0</td>\n",
       "      <td>2014-06-01</td>\n",
       "      <td>6</td>\n",
       "      <td>June</td>\n",
       "      <td>2014</td>\n",
       "    </tr>\n",
       "    <tr>\n",
       "      <th>3</th>\n",
       "      <td>Midmarket</td>\n",
       "      <td>Germany</td>\n",
       "      <td>Carretera</td>\n",
       "      <td>NaN</td>\n",
       "      <td>888.0</td>\n",
       "      <td>3</td>\n",
       "      <td>15</td>\n",
       "      <td>13320.0</td>\n",
       "      <td>0.0</td>\n",
       "      <td>13320.0</td>\n",
       "      <td>8880.0</td>\n",
       "      <td>4440.0</td>\n",
       "      <td>2014-06-01</td>\n",
       "      <td>6</td>\n",
       "      <td>June</td>\n",
       "      <td>2014</td>\n",
       "    </tr>\n",
       "    <tr>\n",
       "      <th>4</th>\n",
       "      <td>Midmarket</td>\n",
       "      <td>Mexico</td>\n",
       "      <td>Carretera</td>\n",
       "      <td>NaN</td>\n",
       "      <td>2470.0</td>\n",
       "      <td>3</td>\n",
       "      <td>15</td>\n",
       "      <td>37050.0</td>\n",
       "      <td>0.0</td>\n",
       "      <td>37050.0</td>\n",
       "      <td>24700.0</td>\n",
       "      <td>12350.0</td>\n",
       "      <td>2014-06-01</td>\n",
       "      <td>6</td>\n",
       "      <td>June</td>\n",
       "      <td>2014</td>\n",
       "    </tr>\n",
       "  </tbody>\n",
       "</table>\n",
       "</div>"
      ],
      "text/plain": [
       "      Segment  Country    Product Discount Band  Units Sold  \\\n",
       "0  Government   Canada  Carretera           NaN      1618.5   \n",
       "1  Government  Germany  Carretera           NaN      1321.0   \n",
       "2   Midmarket   France  Carretera           NaN      2178.0   \n",
       "3   Midmarket  Germany  Carretera           NaN       888.0   \n",
       "4   Midmarket   Mexico  Carretera           NaN      2470.0   \n",
       "\n",
       "   Manufacturing Price  Sale Price  Gross Sales  Discounts    Sales     COGS  \\\n",
       "0                    3          20      32370.0        0.0  32370.0  16185.0   \n",
       "1                    3          20      26420.0        0.0  26420.0  13210.0   \n",
       "2                    3          15      32670.0        0.0  32670.0  21780.0   \n",
       "3                    3          15      13320.0        0.0  13320.0   8880.0   \n",
       "4                    3          15      37050.0        0.0  37050.0  24700.0   \n",
       "\n",
       "    Profit       Date  Month Number Month Name  Year  \n",
       "0  16185.0 2014-01-01             1    January  2014  \n",
       "1  13210.0 2014-01-01             1    January  2014  \n",
       "2  10890.0 2014-06-01             6       June  2014  \n",
       "3   4440.0 2014-06-01             6       June  2014  \n",
       "4  12350.0 2014-06-01             6       June  2014  "
      ]
     },
     "execution_count": 8,
     "metadata": {},
     "output_type": "execute_result"
    }
   ],
   "source": [
    "df_data.head()"
   ]
  },
  {
   "cell_type": "code",
   "execution_count": 18,
   "id": "cb4b8db8-1e08-4940-969d-3c2e7f29582d",
   "metadata": {
    "tags": []
   },
   "outputs": [
    {
     "data": {
      "application/vnd.plotly.v1+json": {
       "config": {
        "plotlyServerURL": "https://plot.ly"
       },
       "data": [
        {
         "coloraxis": "coloraxis",
         "customdata": [
          [
           1618.5
          ],
          [
           1321
          ],
          [
           2178
          ],
          [
           888
          ],
          [
           2470
          ],
          [
           1513
          ],
          [
           921
          ],
          [
           2518
          ],
          [
           1899
          ],
          [
           1545
          ],
          [
           2470
          ],
          [
           2665.5
          ],
          [
           958
          ],
          [
           2146
          ],
          [
           345
          ],
          [
           615
          ],
          [
           292
          ],
          [
           974
          ],
          [
           2518
          ],
          [
           1006
          ],
          [
           367
          ],
          [
           883
          ],
          [
           549
          ],
          [
           788
          ],
          [
           2472
          ],
          [
           1143
          ],
          [
           1725
          ],
          [
           912
          ],
          [
           2152
          ],
          [
           1817
          ],
          [
           1513
          ],
          [
           1493
          ],
          [
           1804
          ],
          [
           2161
          ],
          [
           1006
          ],
          [
           1545
          ],
          [
           2821
          ],
          [
           345
          ],
          [
           2001
          ],
          [
           2838
          ],
          [
           2178
          ],
          [
           888
          ],
          [
           1527
          ],
          [
           2151
          ],
          [
           1817
          ],
          [
           2750
          ],
          [
           1953
          ],
          [
           4219.5
          ],
          [
           1899
          ],
          [
           1686
          ],
          [
           2141
          ],
          [
           1143
          ],
          [
           615
          ],
          [
           3945
          ],
          [
           2296
          ],
          [
           1030
          ],
          [
           639
          ],
          [
           1326
          ],
          [
           1858
          ],
          [
           1210
          ],
          [
           2529
          ],
          [
           1445
          ],
          [
           330
          ],
          [
           2671
          ],
          [
           766
          ],
          [
           494
          ],
          [
           1397
          ],
          [
           2155
          ],
          [
           2214
          ],
          [
           2301
          ],
          [
           1375.5
          ],
          [
           1830
          ],
          [
           2498
          ],
          [
           663
          ],
          [
           1514
          ],
          [
           4492.5
          ],
          [
           727
          ],
          [
           787
          ],
          [
           1823
          ],
          [
           747
          ],
          [
           766
          ],
          [
           2905
          ],
          [
           2155
          ],
          [
           3864
          ],
          [
           362
          ],
          [
           923
          ],
          [
           663
          ],
          [
           2092
          ],
          [
           263
          ],
          [
           943.5
          ],
          [
           727
          ],
          [
           787
          ],
          [
           986
          ],
          [
           494
          ],
          [
           1397
          ],
          [
           1744
          ],
          [
           1989
          ],
          [
           321
          ],
          [
           742.5
          ],
          [
           1295
          ],
          [
           214
          ],
          [
           2145
          ],
          [
           2852
          ],
          [
           1142
          ],
          [
           1566
          ],
          [
           690
          ],
          [
           1660
          ],
          [
           2363
          ],
          [
           918
          ],
          [
           1728
          ],
          [
           1142
          ],
          [
           662
          ],
          [
           1295
          ],
          [
           809
          ],
          [
           2145
          ],
          [
           1785
          ],
          [
           1916
          ],
          [
           2852
          ],
          [
           2729
          ],
          [
           1925
          ],
          [
           2013
          ],
          [
           1055
          ],
          [
           1084
          ],
          [
           1566
          ],
          [
           2966
          ],
          [
           2877
          ],
          [
           809
          ],
          [
           2145
          ],
          [
           1055
          ],
          [
           544
          ],
          [
           1084
          ],
          [
           662
          ],
          [
           214
          ],
          [
           2877
          ],
          [
           2729
          ],
          [
           266
          ],
          [
           1940
          ],
          [
           259
          ],
          [
           1101
          ],
          [
           2276
          ],
          [
           2966
          ],
          [
           1236
          ],
          [
           941
          ],
          [
           1916
          ],
          [
           4243.5
          ],
          [
           2580
          ],
          [
           689
          ],
          [
           1947
          ],
          [
           908
          ],
          [
           1958
          ],
          [
           1901
          ],
          [
           544
          ],
          [
           1797
          ],
          [
           1287
          ],
          [
           1706
          ],
          [
           2434.5
          ],
          [
           1774
          ],
          [
           1901
          ],
          [
           689
          ],
          [
           1570
          ],
          [
           1369.5
          ],
          [
           2009
          ],
          [
           1945
          ],
          [
           1287
          ],
          [
           1706
          ],
          [
           2009
          ],
          [
           2844
          ],
          [
           1916
          ],
          [
           1570
          ],
          [
           1874
          ],
          [
           1642
          ],
          [
           1945
          ],
          [
           831
          ],
          [
           1760
          ],
          [
           3850.5
          ],
          [
           2479
          ],
          [
           2031
          ],
          [
           2031
          ],
          [
           2261
          ],
          [
           736
          ],
          [
           2851
          ],
          [
           2021
          ],
          [
           274
          ],
          [
           1967
          ],
          [
           1859
          ],
          [
           2851
          ],
          [
           2021
          ],
          [
           1138
          ],
          [
           4251
          ],
          [
           795
          ],
          [
           1414.5
          ],
          [
           2918
          ],
          [
           3450
          ],
          [
           2988
          ],
          [
           218
          ],
          [
           2074
          ],
          [
           1056
          ],
          [
           671
          ],
          [
           1514
          ],
          [
           274
          ],
          [
           1138
          ],
          [
           1465
          ],
          [
           2646
          ],
          [
           2177
          ],
          [
           866
          ],
          [
           349
          ],
          [
           2177
          ],
          [
           1514
          ],
          [
           1865
          ],
          [
           1074
          ],
          [
           1907
          ],
          [
           671
          ],
          [
           1778
          ],
          [
           1159
          ],
          [
           1372
          ],
          [
           2349
          ],
          [
           2689
          ],
          [
           2431
          ],
          [
           2431
          ],
          [
           2689
          ],
          [
           1683
          ],
          [
           1123
          ],
          [
           1159
          ],
          [
           1865
          ],
          [
           1116
          ],
          [
           1563
          ],
          [
           991
          ],
          [
           1016
          ],
          [
           2791
          ],
          [
           570
          ],
          [
           2487
          ],
          [
           1384.5
          ],
          [
           3627
          ],
          [
           720
          ],
          [
           2342
          ],
          [
           1100
          ],
          [
           1303
          ],
          [
           2992
          ],
          [
           2385
          ],
          [
           1607
          ],
          [
           2327
          ],
          [
           991
          ],
          [
           602
          ],
          [
           2620
          ],
          [
           1228
          ],
          [
           1389
          ],
          [
           861
          ],
          [
           704
          ],
          [
           1802
          ],
          [
           2663
          ],
          [
           2136
          ],
          [
           2116
          ],
          [
           555
          ],
          [
           2861
          ],
          [
           807
          ],
          [
           602
          ],
          [
           2832
          ],
          [
           1579
          ],
          [
           861
          ],
          [
           704
          ],
          [
           1033
          ],
          [
           1250
          ],
          [
           1389
          ],
          [
           1265
          ],
          [
           2297
          ],
          [
           2663
          ],
          [
           570
          ],
          [
           2487
          ],
          [
           1350
          ],
          [
           552
          ],
          [
           1228
          ],
          [
           1250
          ],
          [
           3801
          ],
          [
           1117.5
          ],
          [
           2844
          ],
          [
           562
          ],
          [
           2299
          ],
          [
           2030
          ],
          [
           263
          ],
          [
           887
          ],
          [
           980
          ],
          [
           1460
          ],
          [
           1403
          ],
          [
           2723
          ],
          [
           1496
          ],
          [
           2299
          ],
          [
           727
          ],
          [
           952
          ],
          [
           2755
          ],
          [
           1530
          ],
          [
           1496
          ],
          [
           1498
          ],
          [
           1221
          ],
          [
           2076
          ],
          [
           2844
          ],
          [
           1498
          ],
          [
           1221
          ],
          [
           1123
          ],
          [
           2436
          ],
          [
           1987.5
          ],
          [
           1679
          ],
          [
           727
          ],
          [
           1403
          ],
          [
           2076
          ],
          [
           1757
          ],
          [
           2198
          ],
          [
           1743
          ],
          [
           1153
          ],
          [
           1757
          ],
          [
           1001
          ],
          [
           1333
          ],
          [
           1153
          ],
          [
           727
          ],
          [
           1884
          ],
          [
           1834
          ],
          [
           2340
          ],
          [
           2342
          ],
          [
           1031
          ],
          [
           1262
          ],
          [
           1135
          ],
          [
           547
          ],
          [
           1582
          ],
          [
           1738.5
          ],
          [
           2215
          ],
          [
           1582
          ],
          [
           1135
          ],
          [
           1761
          ],
          [
           448
          ],
          [
           2181
          ],
          [
           1976
          ],
          [
           2181
          ],
          [
           2500
          ],
          [
           1702
          ],
          [
           448
          ],
          [
           3513
          ],
          [
           2101
          ],
          [
           2931
          ],
          [
           1535
          ],
          [
           1123
          ],
          [
           1404
          ],
          [
           2763
          ],
          [
           2125
          ],
          [
           1659
          ],
          [
           609
          ],
          [
           2087
          ],
          [
           1976
          ],
          [
           1421
          ],
          [
           1372
          ],
          [
           588
          ],
          [
           3244.5
          ],
          [
           959
          ],
          [
           2747
          ],
          [
           1645
          ],
          [
           2876
          ],
          [
           994
          ],
          [
           1118
          ],
          [
           1372
          ],
          [
           488
          ],
          [
           1282
          ],
          [
           257
          ],
          [
           1282
          ],
          [
           1540
          ],
          [
           490
          ],
          [
           1362
          ],
          [
           2501
          ],
          [
           708
          ],
          [
           645
          ],
          [
           1562
          ],
          [
           1283
          ],
          [
           711
          ],
          [
           1114
          ],
          [
           1259
          ],
          [
           1095
          ],
          [
           1366
          ],
          [
           2460
          ],
          [
           678
          ],
          [
           1598
          ],
          [
           2409
          ],
          [
           1934
          ],
          [
           2993
          ],
          [
           2146
          ],
          [
           1946
          ],
          [
           1362
          ],
          [
           598
          ],
          [
           2907
          ],
          [
           2338
          ],
          [
           386
          ],
          [
           635
          ],
          [
           574.5
          ],
          [
           2338
          ],
          [
           381
          ],
          [
           422
          ],
          [
           2134
          ],
          [
           808
          ],
          [
           708
          ],
          [
           2907
          ],
          [
           1366
          ],
          [
           2460
          ],
          [
           1520
          ],
          [
           711
          ],
          [
           1375
          ],
          [
           635
          ],
          [
           436.5
          ],
          [
           1094
          ],
          [
           367
          ],
          [
           3802.5
          ],
          [
           1666
          ],
          [
           322
          ],
          [
           2321
          ],
          [
           1857
          ],
          [
           1611
          ],
          [
           2797
          ],
          [
           334
          ],
          [
           2565
          ],
          [
           2417
          ],
          [
           3675
          ],
          [
           1094
          ],
          [
           1227
          ],
          [
           367
          ],
          [
           1324
          ],
          [
           1775
          ],
          [
           2797
          ],
          [
           245
          ],
          [
           3793.5
          ],
          [
           1307
          ],
          [
           567
          ],
          [
           2110
          ],
          [
           1269
          ],
          [
           1956
          ],
          [
           2659
          ],
          [
           1351.5
          ],
          [
           880
          ],
          [
           1867
          ],
          [
           2234
          ],
          [
           1227
          ],
          [
           877
          ],
          [
           2071
          ],
          [
           1269
          ],
          [
           970
          ],
          [
           1694
          ],
          [
           663
          ],
          [
           819
          ],
          [
           1580
          ],
          [
           521
          ],
          [
           973
          ],
          [
           1038
          ],
          [
           360
          ],
          [
           1967
          ],
          [
           2628
          ],
          [
           360
          ],
          [
           2682
          ],
          [
           521
          ],
          [
           1038
          ],
          [
           1630.5
          ],
          [
           306
          ],
          [
           386
          ],
          [
           2328
          ],
          [
           386
          ],
          [
           3445.5
          ],
          [
           1482
          ],
          [
           2313
          ],
          [
           1804
          ],
          [
           2072
          ],
          [
           1954
          ],
          [
           591
          ],
          [
           2167
          ],
          [
           241
          ],
          [
           681
          ],
          [
           510
          ],
          [
           790
          ],
          [
           639
          ],
          [
           1596
          ],
          [
           2294
          ],
          [
           241
          ],
          [
           2665
          ],
          [
           1916
          ],
          [
           853
          ],
          [
           341
          ],
          [
           641
          ],
          [
           2807
          ],
          [
           432
          ],
          [
           2294
          ],
          [
           2167
          ],
          [
           2529
          ],
          [
           1870
          ],
          [
           579
          ],
          [
           2240
          ],
          [
           2993
          ],
          [
           3520.5
          ],
          [
           2039
          ],
          [
           2574
          ],
          [
           707
          ],
          [
           2072
          ],
          [
           853
          ],
          [
           1198
          ],
          [
           2532
          ],
          [
           1198
          ],
          [
           384
          ],
          [
           472
          ],
          [
           1579
          ],
          [
           1005
          ],
          [
           3199.5
          ],
          [
           472
          ],
          [
           1937
          ],
          [
           792
          ],
          [
           2811
          ],
          [
           2441
          ],
          [
           1560
          ],
          [
           2706
          ],
          [
           766
          ],
          [
           2992
          ],
          [
           2157
          ],
          [
           873
          ],
          [
           1122
          ],
          [
           2104.5
          ],
          [
           4026
          ],
          [
           2425.5
          ],
          [
           2394
          ],
          [
           1984
          ],
          [
           2441
          ],
          [
           2992
          ],
          [
           1366
          ],
          [
           2805
          ],
          [
           655
          ],
          [
           344
          ],
          [
           1808
          ],
          [
           1734
          ],
          [
           554
          ],
          [
           2935
          ],
          [
           3165
          ],
          [
           2629
          ],
          [
           1433
          ],
          [
           947
          ],
          [
           344
          ],
          [
           2157
          ],
          [
           380
          ],
          [
           886
          ],
          [
           2416
          ],
          [
           2156
          ],
          [
           2689
          ],
          [
           677
          ],
          [
           1773
          ],
          [
           2420
          ],
          [
           2734
          ],
          [
           1715
          ],
          [
           1186
          ],
          [
           3495
          ],
          [
           886
          ],
          [
           2156
          ],
          [
           905
          ],
          [
           1715
          ],
          [
           1594
          ],
          [
           1359
          ],
          [
           2150
          ],
          [
           1197
          ],
          [
           380
          ],
          [
           1233
          ],
          [
           1395
          ],
          [
           986
          ],
          [
           905
          ],
          [
           2109
          ],
          [
           3874.5
          ],
          [
           623
          ],
          [
           986
          ],
          [
           2387
          ],
          [
           1233
          ],
          [
           270
          ],
          [
           3421.5
          ],
          [
           2734
          ],
          [
           2548
          ],
          [
           2521.5
          ],
          [
           2661
          ],
          [
           1531
          ],
          [
           1491
          ],
          [
           1531
          ],
          [
           2761
          ],
          [
           2567
          ],
          [
           2567
          ],
          [
           923
          ],
          [
           1790
          ],
          [
           442
          ],
          [
           982.5
          ],
          [
           1298
          ],
          [
           604
          ],
          [
           2255
          ],
          [
           1249
          ],
          [
           1438.5
          ],
          [
           807
          ],
          [
           2641
          ],
          [
           2708
          ],
          [
           2632
          ],
          [
           1583
          ],
          [
           571
          ],
          [
           2696
          ],
          [
           1565
          ],
          [
           1249
          ],
          [
           357
          ],
          [
           1013
          ],
          [
           3997.5
          ],
          [
           2632
          ],
          [
           1190
          ],
          [
           604
          ],
          [
           660
          ],
          [
           410
          ],
          [
           2605
          ],
          [
           1013
          ],
          [
           1583
          ],
          [
           1565
          ],
          [
           1659
          ],
          [
           1190
          ],
          [
           410
          ],
          [
           1770
          ],
          [
           2579
          ],
          [
           1743
          ],
          [
           2996
          ],
          [
           280
          ],
          [
           293
          ],
          [
           2996
          ],
          [
           278
          ],
          [
           2428
          ],
          [
           1767
          ],
          [
           1393
          ],
          [
           280
          ],
          [
           1393
          ],
          [
           2015
          ],
          [
           801
          ],
          [
           1023
          ],
          [
           1496
          ],
          [
           1010
          ],
          [
           1513
          ],
          [
           2300
          ],
          [
           2821
          ],
          [
           2227.5
          ],
          [
           1199
          ],
          [
           200
          ],
          [
           388
          ],
          [
           1727
          ],
          [
           2300
          ],
          [
           260
          ],
          [
           2470
          ],
          [
           1743
          ],
          [
           2914
          ],
          [
           1731
          ],
          [
           700
          ],
          [
           2222
          ],
          [
           1177
          ],
          [
           1922
          ],
          [
           1575
          ],
          [
           606
          ],
          [
           2460
          ],
          [
           269
          ],
          [
           2536
          ],
          [
           2903
          ],
          [
           2541
          ],
          [
           269
          ],
          [
           1496
          ],
          [
           1010
          ],
          [
           1281
          ],
          [
           888
          ],
          [
           2844
          ],
          [
           2475
          ],
          [
           1743
          ],
          [
           2914
          ],
          [
           1731
          ],
          [
           1727
          ],
          [
           1870
          ],
          [
           1174
          ],
          [
           2767
          ],
          [
           1085
          ],
          [
           546
          ],
          [
           1158
          ],
          [
           1614
          ],
          [
           2535
          ],
          [
           2851
          ],
          [
           2559
          ],
          [
           267
          ],
          [
           1085
          ],
          [
           1175
          ],
          [
           2007
          ],
          [
           2151
          ],
          [
           914
          ],
          [
           293
          ],
          [
           500
          ],
          [
           2826
          ],
          [
           663
          ],
          [
           2574
          ],
          [
           2438
          ],
          [
           914
          ],
          [
           865.5
          ],
          [
           492
          ],
          [
           267
          ],
          [
           1175
          ],
          [
           2954
          ],
          [
           552
          ],
          [
           293
          ],
          [
           2475
          ],
          [
           546
          ],
          [
           1368
          ],
          [
           723
          ],
          [
           1806
          ]
         ],
         "geo": "geo",
         "hovertemplate": "<b>%{hovertext}</b><br><br>Country=%{location}<br>Units Sold=%{customdata[0]}<br>Sale Price=%{z}<extra></extra>",
         "hovertext": [
          "Canada",
          "Germany",
          "France",
          "Germany",
          "Mexico",
          "Germany",
          "Germany",
          "Canada",
          "France",
          "Germany",
          "Mexico",
          "Canada",
          "Mexico",
          "Germany",
          "Canada",
          "United States of America",
          "Canada",
          "Mexico",
          "Canada",
          "Germany",
          "Germany",
          "Mexico",
          "France",
          "Mexico",
          "Mexico",
          "United States of America",
          "Canada",
          "United States of America",
          "Canada",
          "Canada",
          "Germany",
          "Mexico",
          "France",
          "Germany",
          "Germany",
          "Germany",
          "United States of America",
          "Canada",
          "Canada",
          "Germany",
          "France",
          "Germany",
          "France",
          "France",
          "Canada",
          "France",
          "United States of America",
          "Germany",
          "France",
          "Germany",
          "United States of America",
          "United States of America",
          "United States of America",
          "France",
          "France",
          "France",
          "France",
          "Canada",
          "United States of America",
          "Mexico",
          "United States of America",
          "Canada",
          "United States of America",
          "France",
          "Germany",
          "Mexico",
          "Mexico",
          "France",
          "Mexico",
          "United States of America",
          "France",
          "Canada",
          "United States of America",
          "United States of America",
          "United States of America",
          "United States of America",
          "United States of America",
          "France",
          "Mexico",
          "Germany",
          "Germany",
          "United States of America",
          "France",
          "France",
          "Mexico",
          "Canada",
          "United States of America",
          "Canada",
          "Germany",
          "Canada",
          "United States of America",
          "France",
          "Germany",
          "Mexico",
          "Mexico",
          "France",
          "United States of America",
          "France",
          "Canada",
          "Canada",
          "Germany",
          "France",
          "Canada",
          "United States of America",
          "United States of America",
          "Mexico",
          "Mexico",
          "Canada",
          "France",
          "Germany",
          "United States of America",
          "Mexico",
          "Canada",
          "Germany",
          "Mexico",
          "France",
          "Canada",
          "Canada",
          "Canada",
          "United States of America",
          "United States of America",
          "France",
          "Mexico",
          "United States of America",
          "Germany",
          "Germany",
          "Germany",
          "Mexico",
          "France",
          "Mexico",
          "Mexico",
          "Mexico",
          "Germany",
          "Germany",
          "Canada",
          "United States of America",
          "Mexico",
          "Germany",
          "Mexico",
          "Germany",
          "Germany",
          "United States of America",
          "France",
          "Canada",
          "France",
          "Germany",
          "Germany",
          "United States of America",
          "Canada",
          "Germany",
          "France",
          "France",
          "Germany",
          "France",
          "Germany",
          "France",
          "Canada",
          "France",
          "Germany",
          "Germany",
          "United States of America",
          "Canada",
          "Germany",
          "France",
          "Germany",
          "Canada",
          "United States of America",
          "Mexico",
          "Germany",
          "Canada",
          "Mexico",
          "Germany",
          "Canada",
          "Mexico",
          "Canada",
          "Germany",
          "Mexico",
          "Mexico",
          "France",
          "United States of America",
          "Canada",
          "Germany",
          "United States of America",
          "Canada",
          "Germany",
          "Canada",
          "Germany",
          "Mexico",
          "Canada",
          "Germany",
          "Germany",
          "United States of America",
          "United States of America",
          "France",
          "Canada",
          "Canada",
          "United States of America",
          "United States of America",
          "Mexico",
          "United States of America",
          "Mexico",
          "United States of America",
          "Canada",
          "France",
          "France",
          "United States of America",
          "France",
          "Mexico",
          "Mexico",
          "Mexico",
          "Germany",
          "United States of America",
          "Canada",
          "Germany",
          "Germany",
          "Canada",
          "Mexico",
          "Canada",
          "Canada",
          "Mexico",
          "Mexico",
          "Mexico",
          "Germany",
          "France",
          "Germany",
          "France",
          "United States of America",
          "Germany",
          "Mexico",
          "United States of America",
          "France",
          "France",
          "United States of America",
          "Mexico",
          "Germany",
          "Mexico",
          "France",
          "United States of America",
          "France",
          "Mexico",
          "United States of America",
          "United States of America",
          "United States of America",
          "France",
          "Canada",
          "Canada",
          "United States of America",
          "France",
          "Canada",
          "United States of America",
          "France",
          "Germany",
          "United States of America",
          "Mexico",
          "Germany",
          "United States of America",
          "United States of America",
          "France",
          "United States of America",
          "France",
          "France",
          "Germany",
          "Canada",
          "United States of America",
          "Germany",
          "United States of America",
          "United States of America",
          "France",
          "Germany",
          "Canada",
          "Canada",
          "Germany",
          "France",
          "United States of America",
          "Canada",
          "Mexico",
          "Canada",
          "United States of America",
          "United States of America",
          "Germany",
          "Mexico",
          "Germany",
          "France",
          "United States of America",
          "France",
          "Canada",
          "United States of America",
          "Canada",
          "United States of America",
          "Germany",
          "France",
          "Mexico",
          "France",
          "France",
          "Canada",
          "Mexico",
          "France",
          "Mexico",
          "Canada",
          "France",
          "Mexico",
          "United States of America",
          "France",
          "France",
          "France",
          "United States of America",
          "Germany",
          "United States of America",
          "France",
          "Germany",
          "Mexico",
          "United States of America",
          "Mexico",
          "Canada",
          "Mexico",
          "Mexico",
          "France",
          "France",
          "Canada",
          "Canada",
          "United States of America",
          "Canada",
          "France",
          "Germany",
          "Canada",
          "Canada",
          "United States of America",
          "France",
          "France",
          "France",
          "France",
          "Germany",
          "Canada",
          "France",
          "Germany",
          "France",
          "United States of America",
          "France",
          "Germany",
          "Canada",
          "Mexico",
          "Germany",
          "France",
          "Mexico",
          "Germany",
          "France",
          "United States of America",
          "United States of America",
          "Germany",
          "Canada",
          "France",
          "Mexico",
          "Canada",
          "France",
          "Germany",
          "Canada",
          "United States of America",
          "Canada",
          "United States of America",
          "Canada",
          "United States of America",
          "Mexico",
          "France",
          "Mexico",
          "France",
          "Canada",
          "Germany",
          "France",
          "Canada",
          "Germany",
          "Mexico",
          "Germany",
          "Germany",
          "Germany",
          "Mexico",
          "United States of America",
          "Germany",
          "Germany",
          "Germany",
          "Mexico",
          "Germany",
          "Mexico",
          "Mexico",
          "Canada",
          "United States of America",
          "Germany",
          "France",
          "Mexico",
          "France",
          "Germany",
          "France",
          "Germany",
          "Canada",
          "United States of America",
          "Canada",
          "United States of America",
          "Germany",
          "Mexico",
          "Germany",
          "Germany",
          "Mexico",
          "Mexico",
          "United States of America",
          "Canada",
          "Mexico",
          "Canada",
          "France",
          "France",
          "Canada",
          "France",
          "Canada",
          "United States of America",
          "Germany",
          "Mexico",
          "Mexico",
          "United States of America",
          "Canada",
          "France",
          "Mexico",
          "France",
          "Germany",
          "United States of America",
          "Mexico",
          "Canada",
          "Germany",
          "Canada",
          "Mexico",
          "Canada",
          "United States of America",
          "Germany",
          "United States of America",
          "Germany",
          "United States of America",
          "France",
          "France",
          "Mexico",
          "United States of America",
          "Canada",
          "Germany",
          "Mexico",
          "Germany",
          "Canada",
          "Germany",
          "Mexico",
          "United States of America",
          "Mexico",
          "Germany",
          "France",
          "Mexico",
          "Germany",
          "France",
          "Mexico",
          "Mexico",
          "Canada",
          "France",
          "United States of America",
          "United States of America",
          "United States of America",
          "United States of America",
          "France",
          "United States of America",
          "United States of America",
          "France",
          "France",
          "Mexico",
          "France",
          "Germany",
          "Germany",
          "Germany",
          "United States of America",
          "France",
          "United States of America",
          "United States of America",
          "Germany",
          "Germany",
          "Canada",
          "France",
          "Mexico",
          "Mexico",
          "United States of America",
          "Mexico",
          "United States of America",
          "France",
          "Canada",
          "Germany",
          "United States of America",
          "Canada",
          "United States of America",
          "Canada",
          "Mexico",
          "Germany",
          "Canada",
          "France",
          "France",
          "France",
          "France",
          "France",
          "Canada",
          "Germany",
          "United States of America",
          "Mexico",
          "United States of America",
          "Germany",
          "Canada",
          "Germany",
          "Germany",
          "France",
          "Canada",
          "Mexico",
          "Germany",
          "Germany",
          "Mexico",
          "Canada",
          "Mexico",
          "Canada",
          "Canada",
          "France",
          "Canada",
          "Mexico",
          "France",
          "Germany",
          "Canada",
          "France",
          "Mexico",
          "Mexico",
          "Canada",
          "France",
          "Mexico",
          "Canada",
          "Germany",
          "Mexico",
          "France",
          "Mexico",
          "Mexico",
          "Mexico",
          "United States of America",
          "Mexico",
          "Canada",
          "Mexico",
          "Canada",
          "United States of America",
          "France",
          "Mexico",
          "Canada",
          "Mexico",
          "France",
          "United States of America",
          "Mexico",
          "Mexico",
          "Mexico",
          "Mexico",
          "France",
          "Germany",
          "Mexico",
          "Mexico",
          "Mexico",
          "Mexico",
          "Mexico",
          "United States of America",
          "Mexico",
          "Canada",
          "France",
          "Canada",
          "United States of America",
          "United States of America",
          "Mexico",
          "United States of America",
          "France",
          "Canada",
          "United States of America",
          "France",
          "Mexico",
          "Germany",
          "France",
          "Germany",
          "Canada",
          "United States of America",
          "United States of America",
          "Canada",
          "France",
          "Germany",
          "United States of America",
          "United States of America",
          "Mexico",
          "Mexico",
          "Canada",
          "United States of America",
          "Germany",
          "United States of America",
          "Germany",
          "Canada",
          "Canada",
          "Mexico",
          "France",
          "Canada",
          "Canada",
          "Germany",
          "Germany",
          "France",
          "Canada",
          "France",
          "Mexico",
          "Germany",
          "Mexico",
          "Mexico",
          "Germany",
          "Canada",
          "Canada",
          "Canada",
          "France",
          "Mexico",
          "Germany",
          "Mexico",
          "United States of America",
          "United States of America",
          "Germany",
          "France",
          "United States of America",
          "Germany",
          "Canada",
          "United States of America",
          "France",
          "Germany",
          "France",
          "United States of America",
          "Mexico",
          "France",
          "Canada",
          "United States of America",
          "Germany",
          "Canada",
          "Mexico",
          "Canada",
          "Germany",
          "Canada",
          "Canada",
          "Mexico",
          "Canada",
          "Mexico",
          "Canada",
          "Canada",
          "United States of America",
          "France",
          "Canada",
          "Canada",
          "United States of America",
          "France",
          "Mexico",
          "United States of America",
          "United States of America",
          "Canada",
          "Germany",
          "Mexico",
          "United States of America",
          "Canada",
          "Canada",
          "United States of America",
          "France",
          "Canada",
          "United States of America",
          "France",
          "Canada",
          "United States of America",
          "France",
          "Mexico",
          "Mexico",
          "France",
          "Germany",
          "Germany",
          "Mexico",
          "Germany",
          "Canada",
          "Mexico",
          "Mexico",
          "Canada",
          "United States of America",
          "Germany",
          "Germany",
          "United States of America",
          "Mexico",
          "United States of America",
          "France",
          "Mexico",
          "France",
          "France",
          "United States of America",
          "United States of America",
          "United States of America",
          "Canada",
          "Germany",
          "United States of America",
          "Germany",
          "Canada",
          "Germany",
          "France",
          "France",
          "Mexico",
          "Mexico",
          "Canada",
          "United States of America"
         ],
         "locationmode": "country names",
         "locations": [
          "Canada",
          "Germany",
          "France",
          "Germany",
          "Mexico",
          "Germany",
          "Germany",
          "Canada",
          "France",
          "Germany",
          "Mexico",
          "Canada",
          "Mexico",
          "Germany",
          "Canada",
          "United States of America",
          "Canada",
          "Mexico",
          "Canada",
          "Germany",
          "Germany",
          "Mexico",
          "France",
          "Mexico",
          "Mexico",
          "United States of America",
          "Canada",
          "United States of America",
          "Canada",
          "Canada",
          "Germany",
          "Mexico",
          "France",
          "Germany",
          "Germany",
          "Germany",
          "United States of America",
          "Canada",
          "Canada",
          "Germany",
          "France",
          "Germany",
          "France",
          "France",
          "Canada",
          "France",
          "United States of America",
          "Germany",
          "France",
          "Germany",
          "United States of America",
          "United States of America",
          "United States of America",
          "France",
          "France",
          "France",
          "France",
          "Canada",
          "United States of America",
          "Mexico",
          "United States of America",
          "Canada",
          "United States of America",
          "France",
          "Germany",
          "Mexico",
          "Mexico",
          "France",
          "Mexico",
          "United States of America",
          "France",
          "Canada",
          "United States of America",
          "United States of America",
          "United States of America",
          "United States of America",
          "United States of America",
          "France",
          "Mexico",
          "Germany",
          "Germany",
          "United States of America",
          "France",
          "France",
          "Mexico",
          "Canada",
          "United States of America",
          "Canada",
          "Germany",
          "Canada",
          "United States of America",
          "France",
          "Germany",
          "Mexico",
          "Mexico",
          "France",
          "United States of America",
          "France",
          "Canada",
          "Canada",
          "Germany",
          "France",
          "Canada",
          "United States of America",
          "United States of America",
          "Mexico",
          "Mexico",
          "Canada",
          "France",
          "Germany",
          "United States of America",
          "Mexico",
          "Canada",
          "Germany",
          "Mexico",
          "France",
          "Canada",
          "Canada",
          "Canada",
          "United States of America",
          "United States of America",
          "France",
          "Mexico",
          "United States of America",
          "Germany",
          "Germany",
          "Germany",
          "Mexico",
          "France",
          "Mexico",
          "Mexico",
          "Mexico",
          "Germany",
          "Germany",
          "Canada",
          "United States of America",
          "Mexico",
          "Germany",
          "Mexico",
          "Germany",
          "Germany",
          "United States of America",
          "France",
          "Canada",
          "France",
          "Germany",
          "Germany",
          "United States of America",
          "Canada",
          "Germany",
          "France",
          "France",
          "Germany",
          "France",
          "Germany",
          "France",
          "Canada",
          "France",
          "Germany",
          "Germany",
          "United States of America",
          "Canada",
          "Germany",
          "France",
          "Germany",
          "Canada",
          "United States of America",
          "Mexico",
          "Germany",
          "Canada",
          "Mexico",
          "Germany",
          "Canada",
          "Mexico",
          "Canada",
          "Germany",
          "Mexico",
          "Mexico",
          "France",
          "United States of America",
          "Canada",
          "Germany",
          "United States of America",
          "Canada",
          "Germany",
          "Canada",
          "Germany",
          "Mexico",
          "Canada",
          "Germany",
          "Germany",
          "United States of America",
          "United States of America",
          "France",
          "Canada",
          "Canada",
          "United States of America",
          "United States of America",
          "Mexico",
          "United States of America",
          "Mexico",
          "United States of America",
          "Canada",
          "France",
          "France",
          "United States of America",
          "France",
          "Mexico",
          "Mexico",
          "Mexico",
          "Germany",
          "United States of America",
          "Canada",
          "Germany",
          "Germany",
          "Canada",
          "Mexico",
          "Canada",
          "Canada",
          "Mexico",
          "Mexico",
          "Mexico",
          "Germany",
          "France",
          "Germany",
          "France",
          "United States of America",
          "Germany",
          "Mexico",
          "United States of America",
          "France",
          "France",
          "United States of America",
          "Mexico",
          "Germany",
          "Mexico",
          "France",
          "United States of America",
          "France",
          "Mexico",
          "United States of America",
          "United States of America",
          "United States of America",
          "France",
          "Canada",
          "Canada",
          "United States of America",
          "France",
          "Canada",
          "United States of America",
          "France",
          "Germany",
          "United States of America",
          "Mexico",
          "Germany",
          "United States of America",
          "United States of America",
          "France",
          "United States of America",
          "France",
          "France",
          "Germany",
          "Canada",
          "United States of America",
          "Germany",
          "United States of America",
          "United States of America",
          "France",
          "Germany",
          "Canada",
          "Canada",
          "Germany",
          "France",
          "United States of America",
          "Canada",
          "Mexico",
          "Canada",
          "United States of America",
          "United States of America",
          "Germany",
          "Mexico",
          "Germany",
          "France",
          "United States of America",
          "France",
          "Canada",
          "United States of America",
          "Canada",
          "United States of America",
          "Germany",
          "France",
          "Mexico",
          "France",
          "France",
          "Canada",
          "Mexico",
          "France",
          "Mexico",
          "Canada",
          "France",
          "Mexico",
          "United States of America",
          "France",
          "France",
          "France",
          "United States of America",
          "Germany",
          "United States of America",
          "France",
          "Germany",
          "Mexico",
          "United States of America",
          "Mexico",
          "Canada",
          "Mexico",
          "Mexico",
          "France",
          "France",
          "Canada",
          "Canada",
          "United States of America",
          "Canada",
          "France",
          "Germany",
          "Canada",
          "Canada",
          "United States of America",
          "France",
          "France",
          "France",
          "France",
          "Germany",
          "Canada",
          "France",
          "Germany",
          "France",
          "United States of America",
          "France",
          "Germany",
          "Canada",
          "Mexico",
          "Germany",
          "France",
          "Mexico",
          "Germany",
          "France",
          "United States of America",
          "United States of America",
          "Germany",
          "Canada",
          "France",
          "Mexico",
          "Canada",
          "France",
          "Germany",
          "Canada",
          "United States of America",
          "Canada",
          "United States of America",
          "Canada",
          "United States of America",
          "Mexico",
          "France",
          "Mexico",
          "France",
          "Canada",
          "Germany",
          "France",
          "Canada",
          "Germany",
          "Mexico",
          "Germany",
          "Germany",
          "Germany",
          "Mexico",
          "United States of America",
          "Germany",
          "Germany",
          "Germany",
          "Mexico",
          "Germany",
          "Mexico",
          "Mexico",
          "Canada",
          "United States of America",
          "Germany",
          "France",
          "Mexico",
          "France",
          "Germany",
          "France",
          "Germany",
          "Canada",
          "United States of America",
          "Canada",
          "United States of America",
          "Germany",
          "Mexico",
          "Germany",
          "Germany",
          "Mexico",
          "Mexico",
          "United States of America",
          "Canada",
          "Mexico",
          "Canada",
          "France",
          "France",
          "Canada",
          "France",
          "Canada",
          "United States of America",
          "Germany",
          "Mexico",
          "Mexico",
          "United States of America",
          "Canada",
          "France",
          "Mexico",
          "France",
          "Germany",
          "United States of America",
          "Mexico",
          "Canada",
          "Germany",
          "Canada",
          "Mexico",
          "Canada",
          "United States of America",
          "Germany",
          "United States of America",
          "Germany",
          "United States of America",
          "France",
          "France",
          "Mexico",
          "United States of America",
          "Canada",
          "Germany",
          "Mexico",
          "Germany",
          "Canada",
          "Germany",
          "Mexico",
          "United States of America",
          "Mexico",
          "Germany",
          "France",
          "Mexico",
          "Germany",
          "France",
          "Mexico",
          "Mexico",
          "Canada",
          "France",
          "United States of America",
          "United States of America",
          "United States of America",
          "United States of America",
          "France",
          "United States of America",
          "United States of America",
          "France",
          "France",
          "Mexico",
          "France",
          "Germany",
          "Germany",
          "Germany",
          "United States of America",
          "France",
          "United States of America",
          "United States of America",
          "Germany",
          "Germany",
          "Canada",
          "France",
          "Mexico",
          "Mexico",
          "United States of America",
          "Mexico",
          "United States of America",
          "France",
          "Canada",
          "Germany",
          "United States of America",
          "Canada",
          "United States of America",
          "Canada",
          "Mexico",
          "Germany",
          "Canada",
          "France",
          "France",
          "France",
          "France",
          "France",
          "Canada",
          "Germany",
          "United States of America",
          "Mexico",
          "United States of America",
          "Germany",
          "Canada",
          "Germany",
          "Germany",
          "France",
          "Canada",
          "Mexico",
          "Germany",
          "Germany",
          "Mexico",
          "Canada",
          "Mexico",
          "Canada",
          "Canada",
          "France",
          "Canada",
          "Mexico",
          "France",
          "Germany",
          "Canada",
          "France",
          "Mexico",
          "Mexico",
          "Canada",
          "France",
          "Mexico",
          "Canada",
          "Germany",
          "Mexico",
          "France",
          "Mexico",
          "Mexico",
          "Mexico",
          "United States of America",
          "Mexico",
          "Canada",
          "Mexico",
          "Canada",
          "United States of America",
          "France",
          "Mexico",
          "Canada",
          "Mexico",
          "France",
          "United States of America",
          "Mexico",
          "Mexico",
          "Mexico",
          "Mexico",
          "France",
          "Germany",
          "Mexico",
          "Mexico",
          "Mexico",
          "Mexico",
          "Mexico",
          "United States of America",
          "Mexico",
          "Canada",
          "France",
          "Canada",
          "United States of America",
          "United States of America",
          "Mexico",
          "United States of America",
          "France",
          "Canada",
          "United States of America",
          "France",
          "Mexico",
          "Germany",
          "France",
          "Germany",
          "Canada",
          "United States of America",
          "United States of America",
          "Canada",
          "France",
          "Germany",
          "United States of America",
          "United States of America",
          "Mexico",
          "Mexico",
          "Canada",
          "United States of America",
          "Germany",
          "United States of America",
          "Germany",
          "Canada",
          "Canada",
          "Mexico",
          "France",
          "Canada",
          "Canada",
          "Germany",
          "Germany",
          "France",
          "Canada",
          "France",
          "Mexico",
          "Germany",
          "Mexico",
          "Mexico",
          "Germany",
          "Canada",
          "Canada",
          "Canada",
          "France",
          "Mexico",
          "Germany",
          "Mexico",
          "United States of America",
          "United States of America",
          "Germany",
          "France",
          "United States of America",
          "Germany",
          "Canada",
          "United States of America",
          "France",
          "Germany",
          "France",
          "United States of America",
          "Mexico",
          "France",
          "Canada",
          "United States of America",
          "Germany",
          "Canada",
          "Mexico",
          "Canada",
          "Germany",
          "Canada",
          "Canada",
          "Mexico",
          "Canada",
          "Mexico",
          "Canada",
          "Canada",
          "United States of America",
          "France",
          "Canada",
          "Canada",
          "United States of America",
          "France",
          "Mexico",
          "United States of America",
          "United States of America",
          "Canada",
          "Germany",
          "Mexico",
          "United States of America",
          "Canada",
          "Canada",
          "United States of America",
          "France",
          "Canada",
          "United States of America",
          "France",
          "Canada",
          "United States of America",
          "France",
          "Mexico",
          "Mexico",
          "France",
          "Germany",
          "Germany",
          "Mexico",
          "Germany",
          "Canada",
          "Mexico",
          "Mexico",
          "Canada",
          "United States of America",
          "Germany",
          "Germany",
          "United States of America",
          "Mexico",
          "United States of America",
          "France",
          "Mexico",
          "France",
          "France",
          "United States of America",
          "United States of America",
          "United States of America",
          "Canada",
          "Germany",
          "United States of America",
          "Germany",
          "Canada",
          "Germany",
          "France",
          "France",
          "Mexico",
          "Mexico",
          "Canada",
          "United States of America"
         ],
         "name": "",
         "type": "choropleth",
         "z": [
          20,
          20,
          15,
          15,
          15,
          350,
          15,
          12,
          20,
          12,
          15,
          125,
          300,
          7,
          125,
          15,
          20,
          15,
          12,
          350,
          12,
          7,
          15,
          300,
          15,
          7,
          350,
          12,
          15,
          20,
          350,
          7,
          125,
          12,
          350,
          12,
          125,
          125,
          300,
          12,
          15,
          15,
          350,
          300,
          20,
          350,
          12,
          125,
          20,
          7,
          12,
          7,
          15,
          7,
          15,
          7,
          7,
          7,
          12,
          350,
          7,
          12,
          125,
          12,
          12,
          300,
          350,
          350,
          15,
          300,
          20,
          7,
          300,
          125,
          15,
          7,
          125,
          125,
          125,
          15,
          12,
          300,
          350,
          20,
          7,
          125,
          125,
          7,
          7,
          350,
          125,
          125,
          300,
          300,
          350,
          125,
          12,
          15,
          125,
          12,
          300,
          7,
          350,
          12,
          20,
          12,
          125,
          15,
          300,
          300,
          12,
          125,
          12,
          125,
          125,
          12,
          300,
          350,
          125,
          15,
          7,
          12,
          12,
          20,
          350,
          350,
          125,
          125,
          12,
          20,
          12,
          125,
          300,
          350,
          125,
          350,
          350,
          300,
          300,
          125,
          350,
          20,
          20,
          300,
          125,
          20,
          300,
          12,
          12,
          7,
          12,
          7,
          350,
          125,
          125,
          300,
          125,
          12,
          300,
          125,
          12,
          125,
          15,
          125,
          125,
          125,
          300,
          12,
          125,
          300,
          350,
          15,
          20,
          7,
          20,
          12,
          15,
          15,
          15,
          20,
          7,
          300,
          350,
          15,
          300,
          7,
          300,
          125,
          7,
          125,
          300,
          300,
          350,
          125,
          15,
          20,
          20,
          15,
          15,
          350,
          125,
          12,
          20,
          350,
          12,
          350,
          350,
          15,
          350,
          125,
          350,
          15,
          350,
          7,
          7,
          7,
          7,
          12,
          12,
          7,
          7,
          12,
          7,
          12,
          12,
          20,
          300,
          7,
          15,
          7,
          7,
          350,
          125,
          350,
          12,
          300,
          20,
          125,
          125,
          300,
          7,
          300,
          350,
          15,
          350,
          20,
          125,
          125,
          20,
          20,
          7,
          15,
          15,
          15,
          125,
          350,
          20,
          20,
          125,
          125,
          20,
          300,
          20,
          20,
          20,
          20,
          7,
          7,
          350,
          350,
          350,
          300,
          15,
          20,
          15,
          12,
          12,
          15,
          7,
          125,
          350,
          350,
          7,
          12,
          350,
          12,
          350,
          125,
          125,
          15,
          350,
          7,
          300,
          350,
          15,
          7,
          300,
          20,
          300,
          125,
          350,
          350,
          7,
          350,
          20,
          15,
          15,
          15,
          20,
          20,
          7,
          15,
          12,
          12,
          20,
          12,
          12,
          7,
          15,
          7,
          7,
          7,
          12,
          12,
          7,
          7,
          350,
          300,
          300,
          20,
          300,
          125,
          300,
          300,
          125,
          15,
          15,
          20,
          300,
          300,
          12,
          7,
          300,
          20,
          125,
          20,
          20,
          300,
          20,
          12,
          300,
          300,
          125,
          350,
          125,
          20,
          300,
          7,
          20,
          7,
          20,
          125,
          15,
          350,
          15,
          20,
          20,
          300,
          300,
          15,
          125,
          7,
          7,
          20,
          300,
          7,
          7,
          7,
          20,
          20,
          350,
          7,
          350,
          12,
          7,
          7,
          300,
          300,
          350,
          7,
          350,
          350,
          300,
          300,
          20,
          7,
          20,
          300,
          20,
          15,
          12,
          300,
          20,
          300,
          12,
          300,
          350,
          300,
          12,
          125,
          7,
          125,
          300,
          300,
          350,
          15,
          300,
          15,
          12,
          300,
          12,
          125,
          15,
          300,
          350,
          125,
          125,
          350,
          12,
          300,
          350,
          12,
          300,
          12,
          15,
          125,
          350,
          350,
          15,
          20,
          20,
          7,
          12,
          7,
          20,
          20,
          7,
          12,
          15,
          7,
          20,
          7,
          20,
          15,
          12,
          12,
          7,
          12,
          125,
          125,
          350,
          125,
          15,
          20,
          300,
          15,
          20,
          15,
          15,
          15,
          350,
          125,
          300,
          20,
          7,
          125,
          300,
          125,
          15,
          350,
          300,
          300,
          15,
          125,
          350,
          125,
          350,
          300,
          12,
          20,
          12,
          350,
          15,
          300,
          12,
          7,
          12,
          15,
          12,
          7,
          12,
          15,
          12,
          12,
          350,
          300,
          125,
          15,
          7,
          350,
          20,
          15,
          300,
          20,
          350,
          12,
          12,
          20,
          15,
          125,
          20,
          300,
          20,
          15,
          350,
          7,
          12,
          125,
          20,
          125,
          20,
          125,
          125,
          350,
          15,
          7,
          350,
          125,
          125,
          15,
          15,
          300,
          7,
          7,
          20,
          300,
          300,
          350,
          125,
          20,
          20,
          350,
          300,
          300,
          350,
          15,
          20,
          350,
          350,
          20,
          12,
          15,
          350,
          350,
          125,
          20,
          350,
          7,
          7,
          15,
          20,
          12,
          20,
          7,
          20,
          12,
          15,
          15,
          350,
          350,
          20,
          350,
          7,
          12,
          20,
          20,
          7,
          300,
          20,
          20,
          350,
          125,
          12,
          7,
          15,
          20,
          350,
          12,
          15,
          350,
          7,
          12,
          15,
          12,
          300,
          12,
          125,
          15,
          125,
          7,
          12,
          12,
          20,
          20,
          7,
          7,
          7,
          7,
          15,
          20,
          15,
          12,
          7,
          12,
          12,
          300,
          125,
          300,
          300,
          15,
          15,
          125,
          350,
          350,
          350,
          7,
          7,
          15,
          20,
          15,
          15,
          12,
          7,
          350,
          12,
          350,
          350,
          125,
          20,
          300,
          300,
          300,
          7,
          300,
          300,
          300,
          300,
          350,
          300,
          125,
          12,
          15,
          12,
          7,
          7,
          15,
          125,
          125,
          125,
          300,
          20,
          15,
          7,
          350,
          15,
          20,
          125,
          15,
          350,
          350,
          12,
          20,
          12,
          15,
          125,
          300,
          125,
          12,
          20,
          15,
          20,
          15,
          125,
          125,
          20,
          300,
          300,
          7,
          7,
          12
         ]
        }
       ],
       "layout": {
        "autosize": true,
        "coloraxis": {
         "colorbar": {
          "title": {
           "text": "Sale Price"
          }
         },
         "colorscale": [
          [
           0,
           "#0d0887"
          ],
          [
           0.1111111111111111,
           "#46039f"
          ],
          [
           0.2222222222222222,
           "#7201a8"
          ],
          [
           0.3333333333333333,
           "#9c179e"
          ],
          [
           0.4444444444444444,
           "#bd3786"
          ],
          [
           0.5555555555555556,
           "#d8576b"
          ],
          [
           0.6666666666666666,
           "#ed7953"
          ],
          [
           0.7777777777777778,
           "#fb9f3a"
          ],
          [
           0.8888888888888888,
           "#fdca26"
          ],
          [
           1,
           "#f0f921"
          ]
         ]
        },
        "geo": {
         "center": {},
         "domain": {
          "x": [
           0,
           1
          ],
          "y": [
           0,
           1
          ]
         }
        },
        "legend": {
         "tracegroupgap": 0
        },
        "template": {
         "data": {
          "bar": [
           {
            "error_x": {
             "color": "#2a3f5f"
            },
            "error_y": {
             "color": "#2a3f5f"
            },
            "marker": {
             "line": {
              "color": "#E5ECF6",
              "width": 0.5
             },
             "pattern": {
              "fillmode": "overlay",
              "size": 10,
              "solidity": 0.2
             }
            },
            "type": "bar"
           }
          ],
          "barpolar": [
           {
            "marker": {
             "line": {
              "color": "#E5ECF6",
              "width": 0.5
             },
             "pattern": {
              "fillmode": "overlay",
              "size": 10,
              "solidity": 0.2
             }
            },
            "type": "barpolar"
           }
          ],
          "carpet": [
           {
            "aaxis": {
             "endlinecolor": "#2a3f5f",
             "gridcolor": "white",
             "linecolor": "white",
             "minorgridcolor": "white",
             "startlinecolor": "#2a3f5f"
            },
            "baxis": {
             "endlinecolor": "#2a3f5f",
             "gridcolor": "white",
             "linecolor": "white",
             "minorgridcolor": "white",
             "startlinecolor": "#2a3f5f"
            },
            "type": "carpet"
           }
          ],
          "choropleth": [
           {
            "colorbar": {
             "outlinewidth": 0,
             "ticks": ""
            },
            "type": "choropleth"
           }
          ],
          "contour": [
           {
            "colorbar": {
             "outlinewidth": 0,
             "ticks": ""
            },
            "colorscale": [
             [
              0,
              "#0d0887"
             ],
             [
              0.1111111111111111,
              "#46039f"
             ],
             [
              0.2222222222222222,
              "#7201a8"
             ],
             [
              0.3333333333333333,
              "#9c179e"
             ],
             [
              0.4444444444444444,
              "#bd3786"
             ],
             [
              0.5555555555555556,
              "#d8576b"
             ],
             [
              0.6666666666666666,
              "#ed7953"
             ],
             [
              0.7777777777777778,
              "#fb9f3a"
             ],
             [
              0.8888888888888888,
              "#fdca26"
             ],
             [
              1,
              "#f0f921"
             ]
            ],
            "type": "contour"
           }
          ],
          "contourcarpet": [
           {
            "colorbar": {
             "outlinewidth": 0,
             "ticks": ""
            },
            "type": "contourcarpet"
           }
          ],
          "heatmap": [
           {
            "colorbar": {
             "outlinewidth": 0,
             "ticks": ""
            },
            "colorscale": [
             [
              0,
              "#0d0887"
             ],
             [
              0.1111111111111111,
              "#46039f"
             ],
             [
              0.2222222222222222,
              "#7201a8"
             ],
             [
              0.3333333333333333,
              "#9c179e"
             ],
             [
              0.4444444444444444,
              "#bd3786"
             ],
             [
              0.5555555555555556,
              "#d8576b"
             ],
             [
              0.6666666666666666,
              "#ed7953"
             ],
             [
              0.7777777777777778,
              "#fb9f3a"
             ],
             [
              0.8888888888888888,
              "#fdca26"
             ],
             [
              1,
              "#f0f921"
             ]
            ],
            "type": "heatmap"
           }
          ],
          "heatmapgl": [
           {
            "colorbar": {
             "outlinewidth": 0,
             "ticks": ""
            },
            "colorscale": [
             [
              0,
              "#0d0887"
             ],
             [
              0.1111111111111111,
              "#46039f"
             ],
             [
              0.2222222222222222,
              "#7201a8"
             ],
             [
              0.3333333333333333,
              "#9c179e"
             ],
             [
              0.4444444444444444,
              "#bd3786"
             ],
             [
              0.5555555555555556,
              "#d8576b"
             ],
             [
              0.6666666666666666,
              "#ed7953"
             ],
             [
              0.7777777777777778,
              "#fb9f3a"
             ],
             [
              0.8888888888888888,
              "#fdca26"
             ],
             [
              1,
              "#f0f921"
             ]
            ],
            "type": "heatmapgl"
           }
          ],
          "histogram": [
           {
            "marker": {
             "pattern": {
              "fillmode": "overlay",
              "size": 10,
              "solidity": 0.2
             }
            },
            "type": "histogram"
           }
          ],
          "histogram2d": [
           {
            "colorbar": {
             "outlinewidth": 0,
             "ticks": ""
            },
            "colorscale": [
             [
              0,
              "#0d0887"
             ],
             [
              0.1111111111111111,
              "#46039f"
             ],
             [
              0.2222222222222222,
              "#7201a8"
             ],
             [
              0.3333333333333333,
              "#9c179e"
             ],
             [
              0.4444444444444444,
              "#bd3786"
             ],
             [
              0.5555555555555556,
              "#d8576b"
             ],
             [
              0.6666666666666666,
              "#ed7953"
             ],
             [
              0.7777777777777778,
              "#fb9f3a"
             ],
             [
              0.8888888888888888,
              "#fdca26"
             ],
             [
              1,
              "#f0f921"
             ]
            ],
            "type": "histogram2d"
           }
          ],
          "histogram2dcontour": [
           {
            "colorbar": {
             "outlinewidth": 0,
             "ticks": ""
            },
            "colorscale": [
             [
              0,
              "#0d0887"
             ],
             [
              0.1111111111111111,
              "#46039f"
             ],
             [
              0.2222222222222222,
              "#7201a8"
             ],
             [
              0.3333333333333333,
              "#9c179e"
             ],
             [
              0.4444444444444444,
              "#bd3786"
             ],
             [
              0.5555555555555556,
              "#d8576b"
             ],
             [
              0.6666666666666666,
              "#ed7953"
             ],
             [
              0.7777777777777778,
              "#fb9f3a"
             ],
             [
              0.8888888888888888,
              "#fdca26"
             ],
             [
              1,
              "#f0f921"
             ]
            ],
            "type": "histogram2dcontour"
           }
          ],
          "mesh3d": [
           {
            "colorbar": {
             "outlinewidth": 0,
             "ticks": ""
            },
            "type": "mesh3d"
           }
          ],
          "parcoords": [
           {
            "line": {
             "colorbar": {
              "outlinewidth": 0,
              "ticks": ""
             }
            },
            "type": "parcoords"
           }
          ],
          "pie": [
           {
            "automargin": true,
            "type": "pie"
           }
          ],
          "scatter": [
           {
            "fillpattern": {
             "fillmode": "overlay",
             "size": 10,
             "solidity": 0.2
            },
            "type": "scatter"
           }
          ],
          "scatter3d": [
           {
            "line": {
             "colorbar": {
              "outlinewidth": 0,
              "ticks": ""
             }
            },
            "marker": {
             "colorbar": {
              "outlinewidth": 0,
              "ticks": ""
             }
            },
            "type": "scatter3d"
           }
          ],
          "scattercarpet": [
           {
            "marker": {
             "colorbar": {
              "outlinewidth": 0,
              "ticks": ""
             }
            },
            "type": "scattercarpet"
           }
          ],
          "scattergeo": [
           {
            "marker": {
             "colorbar": {
              "outlinewidth": 0,
              "ticks": ""
             }
            },
            "type": "scattergeo"
           }
          ],
          "scattergl": [
           {
            "marker": {
             "colorbar": {
              "outlinewidth": 0,
              "ticks": ""
             }
            },
            "type": "scattergl"
           }
          ],
          "scattermapbox": [
           {
            "marker": {
             "colorbar": {
              "outlinewidth": 0,
              "ticks": ""
             }
            },
            "type": "scattermapbox"
           }
          ],
          "scatterpolar": [
           {
            "marker": {
             "colorbar": {
              "outlinewidth": 0,
              "ticks": ""
             }
            },
            "type": "scatterpolar"
           }
          ],
          "scatterpolargl": [
           {
            "marker": {
             "colorbar": {
              "outlinewidth": 0,
              "ticks": ""
             }
            },
            "type": "scatterpolargl"
           }
          ],
          "scatterternary": [
           {
            "marker": {
             "colorbar": {
              "outlinewidth": 0,
              "ticks": ""
             }
            },
            "type": "scatterternary"
           }
          ],
          "surface": [
           {
            "colorbar": {
             "outlinewidth": 0,
             "ticks": ""
            },
            "colorscale": [
             [
              0,
              "#0d0887"
             ],
             [
              0.1111111111111111,
              "#46039f"
             ],
             [
              0.2222222222222222,
              "#7201a8"
             ],
             [
              0.3333333333333333,
              "#9c179e"
             ],
             [
              0.4444444444444444,
              "#bd3786"
             ],
             [
              0.5555555555555556,
              "#d8576b"
             ],
             [
              0.6666666666666666,
              "#ed7953"
             ],
             [
              0.7777777777777778,
              "#fb9f3a"
             ],
             [
              0.8888888888888888,
              "#fdca26"
             ],
             [
              1,
              "#f0f921"
             ]
            ],
            "type": "surface"
           }
          ],
          "table": [
           {
            "cells": {
             "fill": {
              "color": "#EBF0F8"
             },
             "line": {
              "color": "white"
             }
            },
            "header": {
             "fill": {
              "color": "#C8D4E3"
             },
             "line": {
              "color": "white"
             }
            },
            "type": "table"
           }
          ]
         },
         "layout": {
          "annotationdefaults": {
           "arrowcolor": "#2a3f5f",
           "arrowhead": 0,
           "arrowwidth": 1
          },
          "autotypenumbers": "strict",
          "coloraxis": {
           "colorbar": {
            "outlinewidth": 0,
            "ticks": ""
           }
          },
          "colorscale": {
           "diverging": [
            [
             0,
             "#8e0152"
            ],
            [
             0.1,
             "#c51b7d"
            ],
            [
             0.2,
             "#de77ae"
            ],
            [
             0.3,
             "#f1b6da"
            ],
            [
             0.4,
             "#fde0ef"
            ],
            [
             0.5,
             "#f7f7f7"
            ],
            [
             0.6,
             "#e6f5d0"
            ],
            [
             0.7,
             "#b8e186"
            ],
            [
             0.8,
             "#7fbc41"
            ],
            [
             0.9,
             "#4d9221"
            ],
            [
             1,
             "#276419"
            ]
           ],
           "sequential": [
            [
             0,
             "#0d0887"
            ],
            [
             0.1111111111111111,
             "#46039f"
            ],
            [
             0.2222222222222222,
             "#7201a8"
            ],
            [
             0.3333333333333333,
             "#9c179e"
            ],
            [
             0.4444444444444444,
             "#bd3786"
            ],
            [
             0.5555555555555556,
             "#d8576b"
            ],
            [
             0.6666666666666666,
             "#ed7953"
            ],
            [
             0.7777777777777778,
             "#fb9f3a"
            ],
            [
             0.8888888888888888,
             "#fdca26"
            ],
            [
             1,
             "#f0f921"
            ]
           ],
           "sequentialminus": [
            [
             0,
             "#0d0887"
            ],
            [
             0.1111111111111111,
             "#46039f"
            ],
            [
             0.2222222222222222,
             "#7201a8"
            ],
            [
             0.3333333333333333,
             "#9c179e"
            ],
            [
             0.4444444444444444,
             "#bd3786"
            ],
            [
             0.5555555555555556,
             "#d8576b"
            ],
            [
             0.6666666666666666,
             "#ed7953"
            ],
            [
             0.7777777777777778,
             "#fb9f3a"
            ],
            [
             0.8888888888888888,
             "#fdca26"
            ],
            [
             1,
             "#f0f921"
            ]
           ]
          },
          "colorway": [
           "#636efa",
           "#EF553B",
           "#00cc96",
           "#ab63fa",
           "#FFA15A",
           "#19d3f3",
           "#FF6692",
           "#B6E880",
           "#FF97FF",
           "#FECB52"
          ],
          "font": {
           "color": "#2a3f5f"
          },
          "geo": {
           "bgcolor": "white",
           "lakecolor": "white",
           "landcolor": "#E5ECF6",
           "showlakes": true,
           "showland": true,
           "subunitcolor": "white"
          },
          "hoverlabel": {
           "align": "left"
          },
          "hovermode": "closest",
          "mapbox": {
           "style": "light"
          },
          "paper_bgcolor": "white",
          "plot_bgcolor": "#E5ECF6",
          "polar": {
           "angularaxis": {
            "gridcolor": "white",
            "linecolor": "white",
            "ticks": ""
           },
           "bgcolor": "#E5ECF6",
           "radialaxis": {
            "gridcolor": "white",
            "linecolor": "white",
            "ticks": ""
           }
          },
          "scene": {
           "xaxis": {
            "backgroundcolor": "#E5ECF6",
            "gridcolor": "white",
            "gridwidth": 2,
            "linecolor": "white",
            "showbackground": true,
            "ticks": "",
            "zerolinecolor": "white"
           },
           "yaxis": {
            "backgroundcolor": "#E5ECF6",
            "gridcolor": "white",
            "gridwidth": 2,
            "linecolor": "white",
            "showbackground": true,
            "ticks": "",
            "zerolinecolor": "white"
           },
           "zaxis": {
            "backgroundcolor": "#E5ECF6",
            "gridcolor": "white",
            "gridwidth": 2,
            "linecolor": "white",
            "showbackground": true,
            "ticks": "",
            "zerolinecolor": "white"
           }
          },
          "shapedefaults": {
           "line": {
            "color": "#2a3f5f"
           }
          },
          "ternary": {
           "aaxis": {
            "gridcolor": "white",
            "linecolor": "white",
            "ticks": ""
           },
           "baxis": {
            "gridcolor": "white",
            "linecolor": "white",
            "ticks": ""
           },
           "bgcolor": "#E5ECF6",
           "caxis": {
            "gridcolor": "white",
            "linecolor": "white",
            "ticks": ""
           }
          },
          "title": {
           "x": 0.05
          },
          "xaxis": {
           "automargin": true,
           "gridcolor": "white",
           "linecolor": "white",
           "ticks": "",
           "title": {
            "standoff": 15
           },
           "zerolinecolor": "white",
           "zerolinewidth": 2
          },
          "yaxis": {
           "automargin": true,
           "gridcolor": "white",
           "linecolor": "white",
           "ticks": "",
           "title": {
            "standoff": 15
           },
           "zerolinecolor": "white",
           "zerolinewidth": 2
          }
         }
        },
        "title": {
         "text": "Soma de sales e unidades vendidas por país"
        }
       }
      },
      "image/png": "[encoded data removed]",
      "text/html": [
       "<div>                            <div id=\"85939d85-4714-4aa9-8f32-b228eda8b92d\" class=\"plotly-graph-div\" style=\"height:525px; width:100%;\"></div>            <script type=\"text/javascript\">                require([\"plotly\"], function(Plotly) {                    window.PLOTLYENV=window.PLOTLYENV || {};                                    if (document.getElementById(\"85939d85-4714-4aa9-8f32-b228eda8b92d\")) {                    Plotly.newPlot(                        \"85939d85-4714-4aa9-8f32-b228eda8b92d\",                        [{\"coloraxis\":\"coloraxis\",\"customdata\":[[1618.5],[1321.0],[2178.0],[888.0],[2470.0],[1513.0],[921.0],[2518.0],[1899.0],[1545.0],[2470.0],[2665.5],[958.0],[2146.0],[345.0],[615.0],[292.0],[974.0],[2518.0],[1006.0],[367.0],[883.0],[549.0],[788.0],[2472.0],[1143.0],[1725.0],[912.0],[2152.0],[1817.0],[1513.0],[1493.0],[1804.0],[2161.0],[1006.0],[1545.0],[2821.0],[345.0],[2001.0],[2838.0],[2178.0],[888.0],[1527.0],[2151.0],[1817.0],[2750.0],[1953.0],[4219.5],[1899.0],[1686.0],[2141.0],[1143.0],[615.0],[3945.0],[2296.0],[1030.0],[639.0],[1326.0],[1858.0],[1210.0],[2529.0],[1445.0],[330.0],[2671.0],[766.0],[494.0],[1397.0],[2155.0],[2214.0],[2301.0],[1375.5],[1830.0],[2498.0],[663.0],[1514.0],[4492.5],[727.0],[787.0],[1823.0],[747.0],[766.0],[2905.0],[2155.0],[3864.0],[362.0],[923.0],[663.0],[2092.0],[263.0],[943.5],[727.0],[787.0],[986.0],[494.0],[1397.0],[1744.0],[1989.0],[321.0],[742.5],[1295.0],[214.0],[2145.0],[2852.0],[1142.0],[1566.0],[690.0],[1660.0],[2363.0],[918.0],[1728.0],[1142.0],[662.0],[1295.0],[809.0],[2145.0],[1785.0],[1916.0],[2852.0],[2729.0],[1925.0],[2013.0],[1055.0],[1084.0],[1566.0],[2966.0],[2877.0],[809.0],[2145.0],[1055.0],[544.0],[1084.0],[662.0],[214.0],[2877.0],[2729.0],[266.0],[1940.0],[259.0],[1101.0],[2276.0],[2966.0],[1236.0],[941.0],[1916.0],[4243.5],[2580.0],[689.0],[1947.0],[908.0],[1958.0],[1901.0],[544.0],[1797.0],[1287.0],[1706.0],[2434.5],[1774.0],[1901.0],[689.0],[1570.0],[1369.5],[2009.0],[1945.0],[1287.0],[1706.0],[2009.0],[2844.0],[1916.0],[1570.0],[1874.0],[1642.0],[1945.0],[831.0],[1760.0],[3850.5],[2479.0],[2031.0],[2031.0],[2261.0],[736.0],[2851.0],[2021.0],[274.0],[1967.0],[1859.0],[2851.0],[2021.0],[1138.0],[4251.0],[795.0],[1414.5],[2918.0],[3450.0],[2988.0],[218.0],[2074.0],[1056.0],[671.0],[1514.0],[274.0],[1138.0],[1465.0],[2646.0],[2177.0],[866.0],[349.0],[2177.0],[1514.0],[1865.0],[1074.0],[1907.0],[671.0],[1778.0],[1159.0],[1372.0],[2349.0],[2689.0],[2431.0],[2431.0],[2689.0],[1683.0],[1123.0],[1159.0],[1865.0],[1116.0],[1563.0],[991.0],[1016.0],[2791.0],[570.0],[2487.0],[1384.5],[3627.0],[720.0],[2342.0],[1100.0],[1303.0],[2992.0],[2385.0],[1607.0],[2327.0],[991.0],[602.0],[2620.0],[1228.0],[1389.0],[861.0],[704.0],[1802.0],[2663.0],[2136.0],[2116.0],[555.0],[2861.0],[807.0],[602.0],[2832.0],[1579.0],[861.0],[704.0],[1033.0],[1250.0],[1389.0],[1265.0],[2297.0],[2663.0],[570.0],[2487.0],[1350.0],[552.0],[1228.0],[1250.0],[3801.0],[1117.5],[2844.0],[562.0],[2299.0],[2030.0],[263.0],[887.0],[980.0],[1460.0],[1403.0],[2723.0],[1496.0],[2299.0],[727.0],[952.0],[2755.0],[1530.0],[1496.0],[1498.0],[1221.0],[2076.0],[2844.0],[1498.0],[1221.0],[1123.0],[2436.0],[1987.5],[1679.0],[727.0],[1403.0],[2076.0],[1757.0],[2198.0],[1743.0],[1153.0],[1757.0],[1001.0],[1333.0],[1153.0],[727.0],[1884.0],[1834.0],[2340.0],[2342.0],[1031.0],[1262.0],[1135.0],[547.0],[1582.0],[1738.5],[2215.0],[1582.0],[1135.0],[1761.0],[448.0],[2181.0],[1976.0],[2181.0],[2500.0],[1702.0],[448.0],[3513.0],[2101.0],[2931.0],[1535.0],[1123.0],[1404.0],[2763.0],[2125.0],[1659.0],[609.0],[2087.0],[1976.0],[1421.0],[1372.0],[588.0],[3244.5],[959.0],[2747.0],[1645.0],[2876.0],[994.0],[1118.0],[1372.0],[488.0],[1282.0],[257.0],[1282.0],[1540.0],[490.0],[1362.0],[2501.0],[708.0],[645.0],[1562.0],[1283.0],[711.0],[1114.0],[1259.0],[1095.0],[1366.0],[2460.0],[678.0],[1598.0],[2409.0],[1934.0],[2993.0],[2146.0],[1946.0],[1362.0],[598.0],[2907.0],[2338.0],[386.0],[635.0],[574.5],[2338.0],[381.0],[422.0],[2134.0],[808.0],[708.0],[2907.0],[1366.0],[2460.0],[1520.0],[711.0],[1375.0],[635.0],[436.5],[1094.0],[367.0],[3802.5],[1666.0],[322.0],[2321.0],[1857.0],[1611.0],[2797.0],[334.0],[2565.0],[2417.0],[3675.0],[1094.0],[1227.0],[367.0],[1324.0],[1775.0],[2797.0],[245.0],[3793.5],[1307.0],[567.0],[2110.0],[1269.0],[1956.0],[2659.0],[1351.5],[880.0],[1867.0],[2234.0],[1227.0],[877.0],[2071.0],[1269.0],[970.0],[1694.0],[663.0],[819.0],[1580.0],[521.0],[973.0],[1038.0],[360.0],[1967.0],[2628.0],[360.0],[2682.0],[521.0],[1038.0],[1630.5],[306.0],[386.0],[2328.0],[386.0],[3445.5],[1482.0],[2313.0],[1804.0],[2072.0],[1954.0],[591.0],[2167.0],[241.0],[681.0],[510.0],[790.0],[639.0],[1596.0],[2294.0],[241.0],[2665.0],[1916.0],[853.0],[341.0],[641.0],[2807.0],[432.0],[2294.0],[2167.0],[2529.0],[1870.0],[579.0],[2240.0],[2993.0],[3520.5],[2039.0],[2574.0],[707.0],[2072.0],[853.0],[1198.0],[2532.0],[1198.0],[384.0],[472.0],[1579.0],[1005.0],[3199.5],[472.0],[1937.0],[792.0],[2811.0],[2441.0],[1560.0],[2706.0],[766.0],[2992.0],[2157.0],[873.0],[1122.0],[2104.5],[4026.0],[2425.5],[2394.0],[1984.0],[2441.0],[2992.0],[1366.0],[2805.0],[655.0],[344.0],[1808.0],[1734.0],[554.0],[2935.0],[3165.0],[2629.0],[1433.0],[947.0],[344.0],[2157.0],[380.0],[886.0],[2416.0],[2156.0],[2689.0],[677.0],[1773.0],[2420.0],[2734.0],[1715.0],[1186.0],[3495.0],[886.0],[2156.0],[905.0],[1715.0],[1594.0],[1359.0],[2150.0],[1197.0],[380.0],[1233.0],[1395.0],[986.0],[905.0],[2109.0],[3874.5],[623.0],[986.0],[2387.0],[1233.0],[270.0],[3421.5],[2734.0],[2548.0],[2521.5],[2661.0],[1531.0],[1491.0],[1531.0],[2761.0],[2567.0],[2567.0],[923.0],[1790.0],[442.0],[982.5],[1298.0],[604.0],[2255.0],[1249.0],[1438.5],[807.0],[2641.0],[2708.0],[2632.0],[1583.0],[571.0],[2696.0],[1565.0],[1249.0],[357.0],[1013.0],[3997.5],[2632.0],[1190.0],[604.0],[660.0],[410.0],[2605.0],[1013.0],[1583.0],[1565.0],[1659.0],[1190.0],[410.0],[1770.0],[2579.0],[1743.0],[2996.0],[280.0],[293.0],[2996.0],[278.0],[2428.0],[1767.0],[1393.0],[280.0],[1393.0],[2015.0],[801.0],[1023.0],[1496.0],[1010.0],[1513.0],[2300.0],[2821.0],[2227.5],[1199.0],[200.0],[388.0],[1727.0],[2300.0],[260.0],[2470.0],[1743.0],[2914.0],[1731.0],[700.0],[2222.0],[1177.0],[1922.0],[1575.0],[606.0],[2460.0],[269.0],[2536.0],[2903.0],[2541.0],[269.0],[1496.0],[1010.0],[1281.0],[888.0],[2844.0],[2475.0],[1743.0],[2914.0],[1731.0],[1727.0],[1870.0],[1174.0],[2767.0],[1085.0],[546.0],[1158.0],[1614.0],[2535.0],[2851.0],[2559.0],[267.0],[1085.0],[1175.0],[2007.0],[2151.0],[914.0],[293.0],[500.0],[2826.0],[663.0],[2574.0],[2438.0],[914.0],[865.5],[492.0],[267.0],[1175.0],[2954.0],[552.0],[293.0],[2475.0],[546.0],[1368.0],[723.0],[1806.0]],\"geo\":\"geo\",\"hovertemplate\":\"<b>%{hovertext}</b><br><br>Country=%{location}<br>Units Sold=%{customdata[0]}<br>Sale Price=%{z}<extra></extra>\",\"hovertext\":[\"Canada\",\"Germany\",\"France\",\"Germany\",\"Mexico\",\"Germany\",\"Germany\",\"Canada\",\"France\",\"Germany\",\"Mexico\",\"Canada\",\"Mexico\",\"Germany\",\"Canada\",\"United States of America\",\"Canada\",\"Mexico\",\"Canada\",\"Germany\",\"Germany\",\"Mexico\",\"France\",\"Mexico\",\"Mexico\",\"United States of America\",\"Canada\",\"United States of America\",\"Canada\",\"Canada\",\"Germany\",\"Mexico\",\"France\",\"Germany\",\"Germany\",\"Germany\",\"United States of America\",\"Canada\",\"Canada\",\"Germany\",\"France\",\"Germany\",\"France\",\"France\",\"Canada\",\"France\",\"United States of America\",\"Germany\",\"France\",\"Germany\",\"United States of America\",\"United States of America\",\"United States of America\",\"France\",\"France\",\"France\",\"France\",\"Canada\",\"United States of America\",\"Mexico\",\"United States of America\",\"Canada\",\"United States of America\",\"France\",\"Germany\",\"Mexico\",\"Mexico\",\"France\",\"Mexico\",\"United States of America\",\"France\",\"Canada\",\"United States of America\",\"United States of America\",\"United States of America\",\"United States of America\",\"United States of America\",\"France\",\"Mexico\",\"Germany\",\"Germany\",\"United States of America\",\"France\",\"France\",\"Mexico\",\"Canada\",\"United States of America\",\"Canada\",\"Germany\",\"Canada\",\"United States of America\",\"France\",\"Germany\",\"Mexico\",\"Mexico\",\"France\",\"United States of America\",\"France\",\"Canada\",\"Canada\",\"Germany\",\"France\",\"Canada\",\"United States of America\",\"United States of America\",\"Mexico\",\"Mexico\",\"Canada\",\"France\",\"Germany\",\"United States of America\",\"Mexico\",\"Canada\",\"Germany\",\"Mexico\",\"France\",\"Canada\",\"Canada\",\"Canada\",\"United States of America\",\"United States of America\",\"France\",\"Mexico\",\"United States of America\",\"Germany\",\"Germany\",\"Germany\",\"Mexico\",\"France\",\"Mexico\",\"Mexico\",\"Mexico\",\"Germany\",\"Germany\",\"Canada\",\"United States of America\",\"Mexico\",\"Germany\",\"Mexico\",\"Germany\",\"Germany\",\"United States of America\",\"France\",\"Canada\",\"France\",\"Germany\",\"Germany\",\"United States of America\",\"Canada\",\"Germany\",\"France\",\"France\",\"Germany\",\"France\",\"Germany\",\"France\",\"Canada\",\"France\",\"Germany\",\"Germany\",\"United States of America\",\"Canada\",\"Germany\",\"France\",\"Germany\",\"Canada\",\"United States of America\",\"Mexico\",\"Germany\",\"Canada\",\"Mexico\",\"Germany\",\"Canada\",\"Mexico\",\"Canada\",\"Germany\",\"Mexico\",\"Mexico\",\"France\",\"United States of America\",\"Canada\",\"Germany\",\"United States of America\",\"Canada\",\"Germany\",\"Canada\",\"Germany\",\"Mexico\",\"Canada\",\"Germany\",\"Germany\",\"United States of America\",\"United States of America\",\"France\",\"Canada\",\"Canada\",\"United States of America\",\"United States of America\",\"Mexico\",\"United States of America\",\"Mexico\",\"United States of America\",\"Canada\",\"France\",\"France\",\"United States of America\",\"France\",\"Mexico\",\"Mexico\",\"Mexico\",\"Germany\",\"United States of America\",\"Canada\",\"Germany\",\"Germany\",\"Canada\",\"Mexico\",\"Canada\",\"Canada\",\"Mexico\",\"Mexico\",\"Mexico\",\"Germany\",\"France\",\"Germany\",\"France\",\"United States of America\",\"Germany\",\"Mexico\",\"United States of America\",\"France\",\"France\",\"United States of America\",\"Mexico\",\"Germany\",\"Mexico\",\"France\",\"United States of America\",\"France\",\"Mexico\",\"United States of America\",\"United States of America\",\"United States of America\",\"France\",\"Canada\",\"Canada\",\"United States of America\",\"France\",\"Canada\",\"United States of America\",\"France\",\"Germany\",\"United States of America\",\"Mexico\",\"Germany\",\"United States of America\",\"United States of America\",\"France\",\"United States of America\",\"France\",\"France\",\"Germany\",\"Canada\",\"United States of America\",\"Germany\",\"United States of America\",\"United States of America\",\"France\",\"Germany\",\"Canada\",\"Canada\",\"Germany\",\"France\",\"United States of America\",\"Canada\",\"Mexico\",\"Canada\",\"United States of America\",\"United States of America\",\"Germany\",\"Mexico\",\"Germany\",\"France\",\"United States of America\",\"France\",\"Canada\",\"United States of America\",\"Canada\",\"United States of America\",\"Germany\",\"France\",\"Mexico\",\"France\",\"France\",\"Canada\",\"Mexico\",\"France\",\"Mexico\",\"Canada\",\"France\",\"Mexico\",\"United States of America\",\"France\",\"France\",\"France\",\"United States of America\",\"Germany\",\"United States of America\",\"France\",\"Germany\",\"Mexico\",\"United States of America\",\"Mexico\",\"Canada\",\"Mexico\",\"Mexico\",\"France\",\"France\",\"Canada\",\"Canada\",\"United States of America\",\"Canada\",\"France\",\"Germany\",\"Canada\",\"Canada\",\"United States of America\",\"France\",\"France\",\"France\",\"France\",\"Germany\",\"Canada\",\"France\",\"Germany\",\"France\",\"United States of America\",\"France\",\"Germany\",\"Canada\",\"Mexico\",\"Germany\",\"France\",\"Mexico\",\"Germany\",\"France\",\"United States of America\",\"United States of America\",\"Germany\",\"Canada\",\"France\",\"Mexico\",\"Canada\",\"France\",\"Germany\",\"Canada\",\"United States of America\",\"Canada\",\"United States of America\",\"Canada\",\"United States of America\",\"Mexico\",\"France\",\"Mexico\",\"France\",\"Canada\",\"Germany\",\"France\",\"Canada\",\"Germany\",\"Mexico\",\"Germany\",\"Germany\",\"Germany\",\"Mexico\",\"United States of America\",\"Germany\",\"Germany\",\"Germany\",\"Mexico\",\"Germany\",\"Mexico\",\"Mexico\",\"Canada\",\"United States of America\",\"Germany\",\"France\",\"Mexico\",\"France\",\"Germany\",\"France\",\"Germany\",\"Canada\",\"United States of America\",\"Canada\",\"United States of America\",\"Germany\",\"Mexico\",\"Germany\",\"Germany\",\"Mexico\",\"Mexico\",\"United States of America\",\"Canada\",\"Mexico\",\"Canada\",\"France\",\"France\",\"Canada\",\"France\",\"Canada\",\"United States of America\",\"Germany\",\"Mexico\",\"Mexico\",\"United States of America\",\"Canada\",\"France\",\"Mexico\",\"France\",\"Germany\",\"United States of America\",\"Mexico\",\"Canada\",\"Germany\",\"Canada\",\"Mexico\",\"Canada\",\"United States of America\",\"Germany\",\"United States of America\",\"Germany\",\"United States of America\",\"France\",\"France\",\"Mexico\",\"United States of America\",\"Canada\",\"Germany\",\"Mexico\",\"Germany\",\"Canada\",\"Germany\",\"Mexico\",\"United States of America\",\"Mexico\",\"Germany\",\"France\",\"Mexico\",\"Germany\",\"France\",\"Mexico\",\"Mexico\",\"Canada\",\"France\",\"United States of America\",\"United States of America\",\"United States of America\",\"United States of America\",\"France\",\"United States of America\",\"United States of America\",\"France\",\"France\",\"Mexico\",\"France\",\"Germany\",\"Germany\",\"Germany\",\"United States of America\",\"France\",\"United States of America\",\"United States of America\",\"Germany\",\"Germany\",\"Canada\",\"France\",\"Mexico\",\"Mexico\",\"United States of America\",\"Mexico\",\"United States of America\",\"France\",\"Canada\",\"Germany\",\"United States of America\",\"Canada\",\"United States of America\",\"Canada\",\"Mexico\",\"Germany\",\"Canada\",\"France\",\"France\",\"France\",\"France\",\"France\",\"Canada\",\"Germany\",\"United States of America\",\"Mexico\",\"United States of America\",\"Germany\",\"Canada\",\"Germany\",\"Germany\",\"France\",\"Canada\",\"Mexico\",\"Germany\",\"Germany\",\"Mexico\",\"Canada\",\"Mexico\",\"Canada\",\"Canada\",\"France\",\"Canada\",\"Mexico\",\"France\",\"Germany\",\"Canada\",\"France\",\"Mexico\",\"Mexico\",\"Canada\",\"France\",\"Mexico\",\"Canada\",\"Germany\",\"Mexico\",\"France\",\"Mexico\",\"Mexico\",\"Mexico\",\"United States of America\",\"Mexico\",\"Canada\",\"Mexico\",\"Canada\",\"United States of America\",\"France\",\"Mexico\",\"Canada\",\"Mexico\",\"France\",\"United States of America\",\"Mexico\",\"Mexico\",\"Mexico\",\"Mexico\",\"France\",\"Germany\",\"Mexico\",\"Mexico\",\"Mexico\",\"Mexico\",\"Mexico\",\"United States of America\",\"Mexico\",\"Canada\",\"France\",\"Canada\",\"United States of America\",\"United States of America\",\"Mexico\",\"United States of America\",\"France\",\"Canada\",\"United States of America\",\"France\",\"Mexico\",\"Germany\",\"France\",\"Germany\",\"Canada\",\"United States of America\",\"United States of America\",\"Canada\",\"France\",\"Germany\",\"United States of America\",\"United States of America\",\"Mexico\",\"Mexico\",\"Canada\",\"United States of America\",\"Germany\",\"United States of America\",\"Germany\",\"Canada\",\"Canada\",\"Mexico\",\"France\",\"Canada\",\"Canada\",\"Germany\",\"Germany\",\"France\",\"Canada\",\"France\",\"Mexico\",\"Germany\",\"Mexico\",\"Mexico\",\"Germany\",\"Canada\",\"Canada\",\"Canada\",\"France\",\"Mexico\",\"Germany\",\"Mexico\",\"United States of America\",\"United States of America\",\"Germany\",\"France\",\"United States of America\",\"Germany\",\"Canada\",\"United States of America\",\"France\",\"Germany\",\"France\",\"United States of America\",\"Mexico\",\"France\",\"Canada\",\"United States of America\",\"Germany\",\"Canada\",\"Mexico\",\"Canada\",\"Germany\",\"Canada\",\"Canada\",\"Mexico\",\"Canada\",\"Mexico\",\"Canada\",\"Canada\",\"United States of America\",\"France\",\"Canada\",\"Canada\",\"United States of America\",\"France\",\"Mexico\",\"United States of America\",\"United States of America\",\"Canada\",\"Germany\",\"Mexico\",\"United States of America\",\"Canada\",\"Canada\",\"United States of America\",\"France\",\"Canada\",\"United States of America\",\"France\",\"Canada\",\"United States of America\",\"France\",\"Mexico\",\"Mexico\",\"France\",\"Germany\",\"Germany\",\"Mexico\",\"Germany\",\"Canada\",\"Mexico\",\"Mexico\",\"Canada\",\"United States of America\",\"Germany\",\"Germany\",\"United States of America\",\"Mexico\",\"United States of America\",\"France\",\"Mexico\",\"France\",\"France\",\"United States of America\",\"United States of America\",\"United States of America\",\"Canada\",\"Germany\",\"United States of America\",\"Germany\",\"Canada\",\"Germany\",\"France\",\"France\",\"Mexico\",\"Mexico\",\"Canada\",\"United States of America\"],\"locationmode\":\"country names\",\"locations\":[\"Canada\",\"Germany\",\"France\",\"Germany\",\"Mexico\",\"Germany\",\"Germany\",\"Canada\",\"France\",\"Germany\",\"Mexico\",\"Canada\",\"Mexico\",\"Germany\",\"Canada\",\"United States of America\",\"Canada\",\"Mexico\",\"Canada\",\"Germany\",\"Germany\",\"Mexico\",\"France\",\"Mexico\",\"Mexico\",\"United States of America\",\"Canada\",\"United States of America\",\"Canada\",\"Canada\",\"Germany\",\"Mexico\",\"France\",\"Germany\",\"Germany\",\"Germany\",\"United States of America\",\"Canada\",\"Canada\",\"Germany\",\"France\",\"Germany\",\"France\",\"France\",\"Canada\",\"France\",\"United States of America\",\"Germany\",\"France\",\"Germany\",\"United States of America\",\"United States of America\",\"United States of America\",\"France\",\"France\",\"France\",\"France\",\"Canada\",\"United States of America\",\"Mexico\",\"United States of America\",\"Canada\",\"United States of America\",\"France\",\"Germany\",\"Mexico\",\"Mexico\",\"France\",\"Mexico\",\"United States of America\",\"France\",\"Canada\",\"United States of America\",\"United States of America\",\"United States of America\",\"United States of America\",\"United States of America\",\"France\",\"Mexico\",\"Germany\",\"Germany\",\"United States of America\",\"France\",\"France\",\"Mexico\",\"Canada\",\"United States of America\",\"Canada\",\"Germany\",\"Canada\",\"United States of America\",\"France\",\"Germany\",\"Mexico\",\"Mexico\",\"France\",\"United States of America\",\"France\",\"Canada\",\"Canada\",\"Germany\",\"France\",\"Canada\",\"United States of America\",\"United States of America\",\"Mexico\",\"Mexico\",\"Canada\",\"France\",\"Germany\",\"United States of America\",\"Mexico\",\"Canada\",\"Germany\",\"Mexico\",\"France\",\"Canada\",\"Canada\",\"Canada\",\"United States of America\",\"United States of America\",\"France\",\"Mexico\",\"United States of America\",\"Germany\",\"Germany\",\"Germany\",\"Mexico\",\"France\",\"Mexico\",\"Mexico\",\"Mexico\",\"Germany\",\"Germany\",\"Canada\",\"United States of America\",\"Mexico\",\"Germany\",\"Mexico\",\"Germany\",\"Germany\",\"United States of America\",\"France\",\"Canada\",\"France\",\"Germany\",\"Germany\",\"United States of America\",\"Canada\",\"Germany\",\"France\",\"France\",\"Germany\",\"France\",\"Germany\",\"France\",\"Canada\",\"France\",\"Germany\",\"Germany\",\"United States of America\",\"Canada\",\"Germany\",\"France\",\"Germany\",\"Canada\",\"United States of America\",\"Mexico\",\"Germany\",\"Canada\",\"Mexico\",\"Germany\",\"Canada\",\"Mexico\",\"Canada\",\"Germany\",\"Mexico\",\"Mexico\",\"France\",\"United States of America\",\"Canada\",\"Germany\",\"United States of America\",\"Canada\",\"Germany\",\"Canada\",\"Germany\",\"Mexico\",\"Canada\",\"Germany\",\"Germany\",\"United States of America\",\"United States of America\",\"France\",\"Canada\",\"Canada\",\"United States of America\",\"United States of America\",\"Mexico\",\"United States of America\",\"Mexico\",\"United States of America\",\"Canada\",\"France\",\"France\",\"United States of America\",\"France\",\"Mexico\",\"Mexico\",\"Mexico\",\"Germany\",\"United States of America\",\"Canada\",\"Germany\",\"Germany\",\"Canada\",\"Mexico\",\"Canada\",\"Canada\",\"Mexico\",\"Mexico\",\"Mexico\",\"Germany\",\"France\",\"Germany\",\"France\",\"United States of America\",\"Germany\",\"Mexico\",\"United States of America\",\"France\",\"France\",\"United States of America\",\"Mexico\",\"Germany\",\"Mexico\",\"France\",\"United States of America\",\"France\",\"Mexico\",\"United States of America\",\"United States of America\",\"United States of America\",\"France\",\"Canada\",\"Canada\",\"United States of America\",\"France\",\"Canada\",\"United States of America\",\"France\",\"Germany\",\"United States of America\",\"Mexico\",\"Germany\",\"United States of America\",\"United States of America\",\"France\",\"United States of America\",\"France\",\"France\",\"Germany\",\"Canada\",\"United States of America\",\"Germany\",\"United States of America\",\"United States of America\",\"France\",\"Germany\",\"Canada\",\"Canada\",\"Germany\",\"France\",\"United States of America\",\"Canada\",\"Mexico\",\"Canada\",\"United States of America\",\"United States of America\",\"Germany\",\"Mexico\",\"Germany\",\"France\",\"United States of America\",\"France\",\"Canada\",\"United States of America\",\"Canada\",\"United States of America\",\"Germany\",\"France\",\"Mexico\",\"France\",\"France\",\"Canada\",\"Mexico\",\"France\",\"Mexico\",\"Canada\",\"France\",\"Mexico\",\"United States of America\",\"France\",\"France\",\"France\",\"United States of America\",\"Germany\",\"United States of America\",\"France\",\"Germany\",\"Mexico\",\"United States of America\",\"Mexico\",\"Canada\",\"Mexico\",\"Mexico\",\"France\",\"France\",\"Canada\",\"Canada\",\"United States of America\",\"Canada\",\"France\",\"Germany\",\"Canada\",\"Canada\",\"United States of America\",\"France\",\"France\",\"France\",\"France\",\"Germany\",\"Canada\",\"France\",\"Germany\",\"France\",\"United States of America\",\"France\",\"Germany\",\"Canada\",\"Mexico\",\"Germany\",\"France\",\"Mexico\",\"Germany\",\"France\",\"United States of America\",\"United States of America\",\"Germany\",\"Canada\",\"France\",\"Mexico\",\"Canada\",\"France\",\"Germany\",\"Canada\",\"United States of America\",\"Canada\",\"United States of America\",\"Canada\",\"United States of America\",\"Mexico\",\"France\",\"Mexico\",\"France\",\"Canada\",\"Germany\",\"France\",\"Canada\",\"Germany\",\"Mexico\",\"Germany\",\"Germany\",\"Germany\",\"Mexico\",\"United States of America\",\"Germany\",\"Germany\",\"Germany\",\"Mexico\",\"Germany\",\"Mexico\",\"Mexico\",\"Canada\",\"United States of America\",\"Germany\",\"France\",\"Mexico\",\"France\",\"Germany\",\"France\",\"Germany\",\"Canada\",\"United States of America\",\"Canada\",\"United States of America\",\"Germany\",\"Mexico\",\"Germany\",\"Germany\",\"Mexico\",\"Mexico\",\"United States of America\",\"Canada\",\"Mexico\",\"Canada\",\"France\",\"France\",\"Canada\",\"France\",\"Canada\",\"United States of America\",\"Germany\",\"Mexico\",\"Mexico\",\"United States of America\",\"Canada\",\"France\",\"Mexico\",\"France\",\"Germany\",\"United States of America\",\"Mexico\",\"Canada\",\"Germany\",\"Canada\",\"Mexico\",\"Canada\",\"United States of America\",\"Germany\",\"United States of America\",\"Germany\",\"United States of America\",\"France\",\"France\",\"Mexico\",\"United States of America\",\"Canada\",\"Germany\",\"Mexico\",\"Germany\",\"Canada\",\"Germany\",\"Mexico\",\"United States of America\",\"Mexico\",\"Germany\",\"France\",\"Mexico\",\"Germany\",\"France\",\"Mexico\",\"Mexico\",\"Canada\",\"France\",\"United States of America\",\"United States of America\",\"United States of America\",\"United States of America\",\"France\",\"United States of America\",\"United States of America\",\"France\",\"France\",\"Mexico\",\"France\",\"Germany\",\"Germany\",\"Germany\",\"United States of America\",\"France\",\"United States of America\",\"United States of America\",\"Germany\",\"Germany\",\"Canada\",\"France\",\"Mexico\",\"Mexico\",\"United States of America\",\"Mexico\",\"United States of America\",\"France\",\"Canada\",\"Germany\",\"United States of America\",\"Canada\",\"United States of America\",\"Canada\",\"Mexico\",\"Germany\",\"Canada\",\"France\",\"France\",\"France\",\"France\",\"France\",\"Canada\",\"Germany\",\"United States of America\",\"Mexico\",\"United States of America\",\"Germany\",\"Canada\",\"Germany\",\"Germany\",\"France\",\"Canada\",\"Mexico\",\"Germany\",\"Germany\",\"Mexico\",\"Canada\",\"Mexico\",\"Canada\",\"Canada\",\"France\",\"Canada\",\"Mexico\",\"France\",\"Germany\",\"Canada\",\"France\",\"Mexico\",\"Mexico\",\"Canada\",\"France\",\"Mexico\",\"Canada\",\"Germany\",\"Mexico\",\"France\",\"Mexico\",\"Mexico\",\"Mexico\",\"United States of America\",\"Mexico\",\"Canada\",\"Mexico\",\"Canada\",\"United States of America\",\"France\",\"Mexico\",\"Canada\",\"Mexico\",\"France\",\"United States of America\",\"Mexico\",\"Mexico\",\"Mexico\",\"Mexico\",\"France\",\"Germany\",\"Mexico\",\"Mexico\",\"Mexico\",\"Mexico\",\"Mexico\",\"United States of America\",\"Mexico\",\"Canada\",\"France\",\"Canada\",\"United States of America\",\"United States of America\",\"Mexico\",\"United States of America\",\"France\",\"Canada\",\"United States of America\",\"France\",\"Mexico\",\"Germany\",\"France\",\"Germany\",\"Canada\",\"United States of America\",\"United States of America\",\"Canada\",\"France\",\"Germany\",\"United States of America\",\"United States of America\",\"Mexico\",\"Mexico\",\"Canada\",\"United States of America\",\"Germany\",\"United States of America\",\"Germany\",\"Canada\",\"Canada\",\"Mexico\",\"France\",\"Canada\",\"Canada\",\"Germany\",\"Germany\",\"France\",\"Canada\",\"France\",\"Mexico\",\"Germany\",\"Mexico\",\"Mexico\",\"Germany\",\"Canada\",\"Canada\",\"Canada\",\"France\",\"Mexico\",\"Germany\",\"Mexico\",\"United States of America\",\"United States of America\",\"Germany\",\"France\",\"United States of America\",\"Germany\",\"Canada\",\"United States of America\",\"France\",\"Germany\",\"France\",\"United States of America\",\"Mexico\",\"France\",\"Canada\",\"United States of America\",\"Germany\",\"Canada\",\"Mexico\",\"Canada\",\"Germany\",\"Canada\",\"Canada\",\"Mexico\",\"Canada\",\"Mexico\",\"Canada\",\"Canada\",\"United States of America\",\"France\",\"Canada\",\"Canada\",\"United States of America\",\"France\",\"Mexico\",\"United States of America\",\"United States of America\",\"Canada\",\"Germany\",\"Mexico\",\"United States of America\",\"Canada\",\"Canada\",\"United States of America\",\"France\",\"Canada\",\"United States of America\",\"France\",\"Canada\",\"United States of America\",\"France\",\"Mexico\",\"Mexico\",\"France\",\"Germany\",\"Germany\",\"Mexico\",\"Germany\",\"Canada\",\"Mexico\",\"Mexico\",\"Canada\",\"United States of America\",\"Germany\",\"Germany\",\"United States of America\",\"Mexico\",\"United States of America\",\"France\",\"Mexico\",\"France\",\"France\",\"United States of America\",\"United States of America\",\"United States of America\",\"Canada\",\"Germany\",\"United States of America\",\"Germany\",\"Canada\",\"Germany\",\"France\",\"France\",\"Mexico\",\"Mexico\",\"Canada\",\"United States of America\"],\"name\":\"\",\"z\":[20,20,15,15,15,350,15,12,20,12,15,125,300,7,125,15,20,15,12,350,12,7,15,300,15,7,350,12,15,20,350,7,125,12,350,12,125,125,300,12,15,15,350,300,20,350,12,125,20,7,12,7,15,7,15,7,7,7,12,350,7,12,125,12,12,300,350,350,15,300,20,7,300,125,15,7,125,125,125,15,12,300,350,20,7,125,125,7,7,350,125,125,300,300,350,125,12,15,125,12,300,7,350,12,20,12,125,15,300,300,12,125,12,125,125,12,300,350,125,15,7,12,12,20,350,350,125,125,12,20,12,125,300,350,125,350,350,300,300,125,350,20,20,300,125,20,300,12,12,7,12,7,350,125,125,300,125,12,300,125,12,125,15,125,125,125,300,12,125,300,350,15,20,7,20,12,15,15,15,20,7,300,350,15,300,7,300,125,7,125,300,300,350,125,15,20,20,15,15,350,125,12,20,350,12,350,350,15,350,125,350,15,350,7,7,7,7,12,12,7,7,12,7,12,12,20,300,7,15,7,7,350,125,350,12,300,20,125,125,300,7,300,350,15,350,20,125,125,20,20,7,15,15,15,125,350,20,20,125,125,20,300,20,20,20,20,7,7,350,350,350,300,15,20,15,12,12,15,7,125,350,350,7,12,350,12,350,125,125,15,350,7,300,350,15,7,300,20,300,125,350,350,7,350,20,15,15,15,20,20,7,15,12,12,20,12,12,7,15,7,7,7,12,12,7,7,350,300,300,20,300,125,300,300,125,15,15,20,300,300,12,7,300,20,125,20,20,300,20,12,300,300,125,350,125,20,300,7,20,7,20,125,15,350,15,20,20,300,300,15,125,7,7,20,300,7,7,7,20,20,350,7,350,12,7,7,300,300,350,7,350,350,300,300,20,7,20,300,20,15,12,300,20,300,12,300,350,300,12,125,7,125,300,300,350,15,300,15,12,300,12,125,15,300,350,125,125,350,12,300,350,12,300,12,15,125,350,350,15,20,20,7,12,7,20,20,7,12,15,7,20,7,20,15,12,12,7,12,125,125,350,125,15,20,300,15,20,15,15,15,350,125,300,20,7,125,300,125,15,350,300,300,15,125,350,125,350,300,12,20,12,350,15,300,12,7,12,15,12,7,12,15,12,12,350,300,125,15,7,350,20,15,300,20,350,12,12,20,15,125,20,300,20,15,350,7,12,125,20,125,20,125,125,350,15,7,350,125,125,15,15,300,7,7,20,300,300,350,125,20,20,350,300,300,350,15,20,350,350,20,12,15,350,350,125,20,350,7,7,15,20,12,20,7,20,12,15,15,350,350,20,350,7,12,20,20,7,300,20,20,350,125,12,7,15,20,350,12,15,350,7,12,15,12,300,12,125,15,125,7,12,12,20,20,7,7,7,7,15,20,15,12,7,12,12,300,125,300,300,15,15,125,350,350,350,7,7,15,20,15,15,12,7,350,12,350,350,125,20,300,300,300,7,300,300,300,300,350,300,125,12,15,12,7,7,15,125,125,125,300,20,15,7,350,15,20,125,15,350,350,12,20,12,15,125,300,125,12,20,15,20,15,125,125,20,300,300,7,7,12],\"type\":\"choropleth\"}],                        {\"template\":{\"data\":{\"histogram2dcontour\":[{\"type\":\"histogram2dcontour\",\"colorbar\":{\"outlinewidth\":0,\"ticks\":\"\"},\"colorscale\":[[0.0,\"#0d0887\"],[0.1111111111111111,\"#46039f\"],[0.2222222222222222,\"#7201a8\"],[0.3333333333333333,\"#9c179e\"],[0.4444444444444444,\"#bd3786\"],[0.5555555555555556,\"#d8576b\"],[0.6666666666666666,\"#ed7953\"],[0.7777777777777778,\"#fb9f3a\"],[0.8888888888888888,\"#fdca26\"],[1.0,\"#f0f921\"]]}],\"choropleth\":[{\"type\":\"choropleth\",\"colorbar\":{\"outlinewidth\":0,\"ticks\":\"\"}}],\"histogram2d\":[{\"type\":\"histogram2d\",\"colorbar\":{\"outlinewidth\":0,\"ticks\":\"\"},\"colorscale\":[[0.0,\"#0d0887\"],[0.1111111111111111,\"#46039f\"],[0.2222222222222222,\"#7201a8\"],[0.3333333333333333,\"#9c179e\"],[0.4444444444444444,\"#bd3786\"],[0.5555555555555556,\"#d8576b\"],[0.6666666666666666,\"#ed7953\"],[0.7777777777777778,\"#fb9f3a\"],[0.8888888888888888,\"#fdca26\"],[1.0,\"#f0f921\"]]}],\"heatmap\":[{\"type\":\"heatmap\",\"colorbar\":{\"outlinewidth\":0,\"ticks\":\"\"},\"colorscale\":[[0.0,\"#0d0887\"],[0.1111111111111111,\"#46039f\"],[0.2222222222222222,\"#7201a8\"],[0.3333333333333333,\"#9c179e\"],[0.4444444444444444,\"#bd3786\"],[0.5555555555555556,\"#d8576b\"],[0.6666666666666666,\"#ed7953\"],[0.7777777777777778,\"#fb9f3a\"],[0.8888888888888888,\"#fdca26\"],[1.0,\"#f0f921\"]]}],\"heatmapgl\":[{\"type\":\"heatmapgl\",\"colorbar\":{\"outlinewidth\":0,\"ticks\":\"\"},\"colorscale\":[[0.0,\"#0d0887\"],[0.1111111111111111,\"#46039f\"],[0.2222222222222222,\"#7201a8\"],[0.3333333333333333,\"#9c179e\"],[0.4444444444444444,\"#bd3786\"],[0.5555555555555556,\"#d8576b\"],[0.6666666666666666,\"#ed7953\"],[0.7777777777777778,\"#fb9f3a\"],[0.8888888888888888,\"#fdca26\"],[1.0,\"#f0f921\"]]}],\"contourcarpet\":[{\"type\":\"contourcarpet\",\"colorbar\":{\"outlinewidth\":0,\"ticks\":\"\"}}],\"contour\":[{\"type\":\"contour\",\"colorbar\":{\"outlinewidth\":0,\"ticks\":\"\"},\"colorscale\":[[0.0,\"#0d0887\"],[0.1111111111111111,\"#46039f\"],[0.2222222222222222,\"#7201a8\"],[0.3333333333333333,\"#9c179e\"],[0.4444444444444444,\"#bd3786\"],[0.5555555555555556,\"#d8576b\"],[0.6666666666666666,\"#ed7953\"],[0.7777777777777778,\"#fb9f3a\"],[0.8888888888888888,\"#fdca26\"],[1.0,\"#f0f921\"]]}],\"surface\":[{\"type\":\"surface\",\"colorbar\":{\"outlinewidth\":0,\"ticks\":\"\"},\"colorscale\":[[0.0,\"#0d0887\"],[0.1111111111111111,\"#46039f\"],[0.2222222222222222,\"#7201a8\"],[0.3333333333333333,\"#9c179e\"],[0.4444444444444444,\"#bd3786\"],[0.5555555555555556,\"#d8576b\"],[0.6666666666666666,\"#ed7953\"],[0.7777777777777778,\"#fb9f3a\"],[0.8888888888888888,\"#fdca26\"],[1.0,\"#f0f921\"]]}],\"mesh3d\":[{\"type\":\"mesh3d\",\"colorbar\":{\"outlinewidth\":0,\"ticks\":\"\"}}],\"scatter\":[{\"fillpattern\":{\"fillmode\":\"overlay\",\"size\":10,\"solidity\":0.2},\"type\":\"scatter\"}],\"parcoords\":[{\"type\":\"parcoords\",\"line\":{\"colorbar\":{\"outlinewidth\":0,\"ticks\":\"\"}}}],\"scatterpolargl\":[{\"type\":\"scatterpolargl\",\"marker\":{\"colorbar\":{\"outlinewidth\":0,\"ticks\":\"\"}}}],\"bar\":[{\"error_x\":{\"color\":\"#2a3f5f\"},\"error_y\":{\"color\":\"#2a3f5f\"},\"marker\":{\"line\":{\"color\":\"#E5ECF6\",\"width\":0.5},\"pattern\":{\"fillmode\":\"overlay\",\"size\":10,\"solidity\":0.2}},\"type\":\"bar\"}],\"scattergeo\":[{\"type\":\"scattergeo\",\"marker\":{\"colorbar\":{\"outlinewidth\":0,\"ticks\":\"\"}}}],\"scatterpolar\":[{\"type\":\"scatterpolar\",\"marker\":{\"colorbar\":{\"outlinewidth\":0,\"ticks\":\"\"}}}],\"histogram\":[{\"marker\":{\"pattern\":{\"fillmode\":\"overlay\",\"size\":10,\"solidity\":0.2}},\"type\":\"histogram\"}],\"scattergl\":[{\"type\":\"scattergl\",\"marker\":{\"colorbar\":{\"outlinewidth\":0,\"ticks\":\"\"}}}],\"scatter3d\":[{\"type\":\"scatter3d\",\"line\":{\"colorbar\":{\"outlinewidth\":0,\"ticks\":\"\"}},\"marker\":{\"colorbar\":{\"outlinewidth\":0,\"ticks\":\"\"}}}],\"scattermapbox\":[{\"type\":\"scattermapbox\",\"marker\":{\"colorbar\":{\"outlinewidth\":0,\"ticks\":\"\"}}}],\"scatterternary\":[{\"type\":\"scatterternary\",\"marker\":{\"colorbar\":{\"outlinewidth\":0,\"ticks\":\"\"}}}],\"scattercarpet\":[{\"type\":\"scattercarpet\",\"marker\":{\"colorbar\":{\"outlinewidth\":0,\"ticks\":\"\"}}}],\"carpet\":[{\"aaxis\":{\"endlinecolor\":\"#2a3f5f\",\"gridcolor\":\"white\",\"linecolor\":\"white\",\"minorgridcolor\":\"white\",\"startlinecolor\":\"#2a3f5f\"},\"baxis\":{\"endlinecolor\":\"#2a3f5f\",\"gridcolor\":\"white\",\"linecolor\":\"white\",\"minorgridcolor\":\"white\",\"startlinecolor\":\"#2a3f5f\"},\"type\":\"carpet\"}],\"table\":[{\"cells\":{\"fill\":{\"color\":\"#EBF0F8\"},\"line\":{\"color\":\"white\"}},\"header\":{\"fill\":{\"color\":\"#C8D4E3\"},\"line\":{\"color\":\"white\"}},\"type\":\"table\"}],\"barpolar\":[{\"marker\":{\"line\":{\"color\":\"#E5ECF6\",\"width\":0.5},\"pattern\":{\"fillmode\":\"overlay\",\"size\":10,\"solidity\":0.2}},\"type\":\"barpolar\"}],\"pie\":[{\"automargin\":true,\"type\":\"pie\"}]},\"layout\":{\"autotypenumbers\":\"strict\",\"colorway\":[\"#636efa\",\"#EF553B\",\"#00cc96\",\"#ab63fa\",\"#FFA15A\",\"#19d3f3\",\"#FF6692\",\"#B6E880\",\"#FF97FF\",\"#FECB52\"],\"font\":{\"color\":\"#2a3f5f\"},\"hovermode\":\"closest\",\"hoverlabel\":{\"align\":\"left\"},\"paper_bgcolor\":\"white\",\"plot_bgcolor\":\"#E5ECF6\",\"polar\":{\"bgcolor\":\"#E5ECF6\",\"angularaxis\":{\"gridcolor\":\"white\",\"linecolor\":\"white\",\"ticks\":\"\"},\"radialaxis\":{\"gridcolor\":\"white\",\"linecolor\":\"white\",\"ticks\":\"\"}},\"ternary\":{\"bgcolor\":\"#E5ECF6\",\"aaxis\":{\"gridcolor\":\"white\",\"linecolor\":\"white\",\"ticks\":\"\"},\"baxis\":{\"gridcolor\":\"white\",\"linecolor\":\"white\",\"ticks\":\"\"},\"caxis\":{\"gridcolor\":\"white\",\"linecolor\":\"white\",\"ticks\":\"\"}},\"coloraxis\":{\"colorbar\":{\"outlinewidth\":0,\"ticks\":\"\"}},\"colorscale\":{\"sequential\":[[0.0,\"#0d0887\"],[0.1111111111111111,\"#46039f\"],[0.2222222222222222,\"#7201a8\"],[0.3333333333333333,\"#9c179e\"],[0.4444444444444444,\"#bd3786\"],[0.5555555555555556,\"#d8576b\"],[0.6666666666666666,\"#ed7953\"],[0.7777777777777778,\"#fb9f3a\"],[0.8888888888888888,\"#fdca26\"],[1.0,\"#f0f921\"]],\"sequentialminus\":[[0.0,\"#0d0887\"],[0.1111111111111111,\"#46039f\"],[0.2222222222222222,\"#7201a8\"],[0.3333333333333333,\"#9c179e\"],[0.4444444444444444,\"#bd3786\"],[0.5555555555555556,\"#d8576b\"],[0.6666666666666666,\"#ed7953\"],[0.7777777777777778,\"#fb9f3a\"],[0.8888888888888888,\"#fdca26\"],[1.0,\"#f0f921\"]],\"diverging\":[[0,\"#8e0152\"],[0.1,\"#c51b7d\"],[0.2,\"#de77ae\"],[0.3,\"#f1b6da\"],[0.4,\"#fde0ef\"],[0.5,\"#f7f7f7\"],[0.6,\"#e6f5d0\"],[0.7,\"#b8e186\"],[0.8,\"#7fbc41\"],[0.9,\"#4d9221\"],[1,\"#276419\"]]},\"xaxis\":{\"gridcolor\":\"white\",\"linecolor\":\"white\",\"ticks\":\"\",\"title\":{\"standoff\":15},\"zerolinecolor\":\"white\",\"automargin\":true,\"zerolinewidth\":2},\"yaxis\":{\"gridcolor\":\"white\",\"linecolor\":\"white\",\"ticks\":\"\",\"title\":{\"standoff\":15},\"zerolinecolor\":\"white\",\"automargin\":true,\"zerolinewidth\":2},\"scene\":{\"xaxis\":{\"backgroundcolor\":\"#E5ECF6\",\"gridcolor\":\"white\",\"linecolor\":\"white\",\"showbackground\":true,\"ticks\":\"\",\"zerolinecolor\":\"white\",\"gridwidth\":2},\"yaxis\":{\"backgroundcolor\":\"#E5ECF6\",\"gridcolor\":\"white\",\"linecolor\":\"white\",\"showbackground\":true,\"ticks\":\"\",\"zerolinecolor\":\"white\",\"gridwidth\":2},\"zaxis\":{\"backgroundcolor\":\"#E5ECF6\",\"gridcolor\":\"white\",\"linecolor\":\"white\",\"showbackground\":true,\"ticks\":\"\",\"zerolinecolor\":\"white\",\"gridwidth\":2}},\"shapedefaults\":{\"line\":{\"color\":\"#2a3f5f\"}},\"annotationdefaults\":{\"arrowcolor\":\"#2a3f5f\",\"arrowhead\":0,\"arrowwidth\":1},\"geo\":{\"bgcolor\":\"white\",\"landcolor\":\"#E5ECF6\",\"subunitcolor\":\"white\",\"showland\":true,\"showlakes\":true,\"lakecolor\":\"white\"},\"title\":{\"x\":0.05},\"mapbox\":{\"style\":\"light\"}}},\"geo\":{\"domain\":{\"x\":[0.0,1.0],\"y\":[0.0,1.0]},\"center\":{}},\"coloraxis\":{\"colorbar\":{\"title\":{\"text\":\"Sale Price\"}},\"colorscale\":[[0.0,\"#0d0887\"],[0.1111111111111111,\"#46039f\"],[0.2222222222222222,\"#7201a8\"],[0.3333333333333333,\"#9c179e\"],[0.4444444444444444,\"#bd3786\"],[0.5555555555555556,\"#d8576b\"],[0.6666666666666666,\"#ed7953\"],[0.7777777777777778,\"#fb9f3a\"],[0.8888888888888888,\"#fdca26\"],[1.0,\"#f0f921\"]]},\"legend\":{\"tracegroupgap\":0},\"title\":{\"text\":\"Soma de sales e unidades vendidas por pa\\u00eds\"}},                        {\"responsive\": true}                    ).then(function(){\n",
       "                            \n",
       "var gd = document.getElementById('85939d85-4714-4aa9-8f32-b228eda8b92d');\n",
       "var x = new MutationObserver(function (mutations, observer) {{\n",
       "        var display = window.getComputedStyle(gd).display;\n",
       "        if (!display || display === 'none') {{\n",
       "            console.log([gd, 'removed!']);\n",
       "            Plotly.purge(gd);\n",
       "            observer.disconnect();\n",
       "        }}\n",
       "}});\n",
       "\n",
       "// Listen for the removal of the full notebook cells\n",
       "var notebookContainer = gd.closest('#notebook-container');\n",
       "if (notebookContainer) {{\n",
       "    x.observe(notebookContainer, {childList: true});\n",
       "}}\n",
       "\n",
       "// Listen for the clearing of the current output cell\n",
       "var outputEl = gd.closest('.output');\n",
       "if (outputEl) {{\n",
       "    x.observe(outputEl, {childList: true});\n",
       "}}\n",
       "\n",
       "                        })                };                });            </script>        </div>"
      ]
     },
     "metadata": {},
     "output_type": "display_data"
    }
   ],
   "source": [
    "fig = px.choropleth(df_data,\n",
    "                    locations=\"Country\",\n",
    "                    locationmode=\"country names\",\n",
    "                    color=\"Sale Price\",\n",
    "                    hover_name=\"Country\",\n",
    "                    hover_data=[\"Units Sold\"],\n",
    "                    color_continuous_scale=px.colors.sequential.Plasma,\n",
    "                    title = \"Soma de sales e unidades vendidas por país\")\n",
    "fig.show()"
   ]
  },
  {
   "cell_type": "code",
   "execution_count": 19,
   "id": "3ce9483b-bc96-4dc1-8ed6-14fb1c3b852b",
   "metadata": {
    "tags": []
   },
   "outputs": [
    {
     "data": {
      "application/vnd.plotly.v1+json": {
       "config": {
        "plotlyServerURL": "https://plot.ly"
       },
       "data": [
        {
         "coloraxis": "coloraxis",
         "customdata": [
          [
           "Canada"
          ],
          [
           "Germany"
          ],
          [
           "France"
          ],
          [
           "Germany"
          ],
          [
           "Mexico"
          ],
          [
           "Germany"
          ],
          [
           "Germany"
          ],
          [
           "Canada"
          ],
          [
           "France"
          ],
          [
           "Germany"
          ],
          [
           "Mexico"
          ],
          [
           "Canada"
          ],
          [
           "Mexico"
          ],
          [
           "Germany"
          ],
          [
           "Canada"
          ],
          [
           "United States of America"
          ],
          [
           "Canada"
          ],
          [
           "Mexico"
          ],
          [
           "Canada"
          ],
          [
           "Germany"
          ],
          [
           "Germany"
          ],
          [
           "Mexico"
          ],
          [
           "France"
          ],
          [
           "Mexico"
          ],
          [
           "Mexico"
          ],
          [
           "United States of America"
          ],
          [
           "Canada"
          ],
          [
           "United States of America"
          ],
          [
           "Canada"
          ],
          [
           "Canada"
          ],
          [
           "Germany"
          ],
          [
           "Mexico"
          ],
          [
           "France"
          ],
          [
           "Germany"
          ],
          [
           "Germany"
          ],
          [
           "Germany"
          ],
          [
           "United States of America"
          ],
          [
           "Canada"
          ],
          [
           "Canada"
          ],
          [
           "Germany"
          ],
          [
           "France"
          ],
          [
           "Germany"
          ],
          [
           "France"
          ],
          [
           "France"
          ],
          [
           "Canada"
          ],
          [
           "France"
          ],
          [
           "United States of America"
          ],
          [
           "Germany"
          ],
          [
           "France"
          ],
          [
           "Germany"
          ],
          [
           "United States of America"
          ],
          [
           "United States of America"
          ],
          [
           "United States of America"
          ],
          [
           "France"
          ],
          [
           "France"
          ],
          [
           "France"
          ],
          [
           "France"
          ],
          [
           "Canada"
          ],
          [
           "United States of America"
          ],
          [
           "Mexico"
          ],
          [
           "United States of America"
          ],
          [
           "Canada"
          ],
          [
           "United States of America"
          ],
          [
           "France"
          ],
          [
           "Germany"
          ],
          [
           "Mexico"
          ],
          [
           "Mexico"
          ],
          [
           "France"
          ],
          [
           "Mexico"
          ],
          [
           "United States of America"
          ],
          [
           "France"
          ],
          [
           "Canada"
          ],
          [
           "United States of America"
          ],
          [
           "United States of America"
          ],
          [
           "United States of America"
          ],
          [
           "United States of America"
          ],
          [
           "United States of America"
          ],
          [
           "France"
          ],
          [
           "Mexico"
          ],
          [
           "Germany"
          ],
          [
           "Germany"
          ],
          [
           "United States of America"
          ],
          [
           "France"
          ],
          [
           "France"
          ],
          [
           "Mexico"
          ],
          [
           "Canada"
          ],
          [
           "United States of America"
          ],
          [
           "Canada"
          ],
          [
           "Germany"
          ],
          [
           "Canada"
          ],
          [
           "United States of America"
          ],
          [
           "France"
          ],
          [
           "Germany"
          ],
          [
           "Mexico"
          ],
          [
           "Mexico"
          ],
          [
           "France"
          ],
          [
           "United States of America"
          ],
          [
           "France"
          ],
          [
           "Canada"
          ],
          [
           "Canada"
          ],
          [
           "Germany"
          ],
          [
           "France"
          ],
          [
           "Canada"
          ],
          [
           "United States of America"
          ],
          [
           "United States of America"
          ],
          [
           "Mexico"
          ],
          [
           "Mexico"
          ],
          [
           "Canada"
          ],
          [
           "France"
          ],
          [
           "Germany"
          ],
          [
           "United States of America"
          ],
          [
           "Mexico"
          ],
          [
           "Canada"
          ],
          [
           "Germany"
          ],
          [
           "Mexico"
          ],
          [
           "France"
          ],
          [
           "Canada"
          ],
          [
           "Canada"
          ],
          [
           "Canada"
          ],
          [
           "United States of America"
          ],
          [
           "United States of America"
          ],
          [
           "France"
          ],
          [
           "Mexico"
          ],
          [
           "United States of America"
          ],
          [
           "Germany"
          ],
          [
           "Germany"
          ],
          [
           "Germany"
          ],
          [
           "Mexico"
          ],
          [
           "France"
          ],
          [
           "Mexico"
          ],
          [
           "Mexico"
          ],
          [
           "Mexico"
          ],
          [
           "Germany"
          ],
          [
           "Germany"
          ],
          [
           "Canada"
          ],
          [
           "United States of America"
          ],
          [
           "Mexico"
          ],
          [
           "Germany"
          ],
          [
           "Mexico"
          ],
          [
           "Germany"
          ],
          [
           "Germany"
          ],
          [
           "United States of America"
          ],
          [
           "France"
          ],
          [
           "Canada"
          ],
          [
           "France"
          ],
          [
           "Germany"
          ],
          [
           "Germany"
          ],
          [
           "United States of America"
          ],
          [
           "Canada"
          ],
          [
           "Germany"
          ],
          [
           "France"
          ],
          [
           "France"
          ],
          [
           "Germany"
          ],
          [
           "France"
          ],
          [
           "Germany"
          ],
          [
           "France"
          ],
          [
           "Canada"
          ],
          [
           "France"
          ],
          [
           "Germany"
          ],
          [
           "Germany"
          ],
          [
           "United States of America"
          ],
          [
           "Canada"
          ],
          [
           "Germany"
          ],
          [
           "France"
          ],
          [
           "Germany"
          ],
          [
           "Canada"
          ],
          [
           "United States of America"
          ],
          [
           "Mexico"
          ],
          [
           "Germany"
          ],
          [
           "Canada"
          ],
          [
           "Mexico"
          ],
          [
           "Germany"
          ],
          [
           "Canada"
          ],
          [
           "Mexico"
          ],
          [
           "Canada"
          ],
          [
           "Germany"
          ],
          [
           "Mexico"
          ],
          [
           "Mexico"
          ],
          [
           "France"
          ],
          [
           "United States of America"
          ],
          [
           "Canada"
          ],
          [
           "Germany"
          ],
          [
           "United States of America"
          ],
          [
           "Canada"
          ],
          [
           "Germany"
          ],
          [
           "Canada"
          ],
          [
           "Germany"
          ],
          [
           "Mexico"
          ],
          [
           "Canada"
          ],
          [
           "Germany"
          ],
          [
           "Germany"
          ],
          [
           "United States of America"
          ],
          [
           "United States of America"
          ],
          [
           "France"
          ],
          [
           "Canada"
          ],
          [
           "Canada"
          ],
          [
           "United States of America"
          ],
          [
           "United States of America"
          ],
          [
           "Mexico"
          ],
          [
           "United States of America"
          ],
          [
           "Mexico"
          ],
          [
           "United States of America"
          ],
          [
           "Canada"
          ],
          [
           "France"
          ],
          [
           "France"
          ],
          [
           "United States of America"
          ],
          [
           "France"
          ],
          [
           "Mexico"
          ],
          [
           "Mexico"
          ],
          [
           "Mexico"
          ],
          [
           "Germany"
          ],
          [
           "United States of America"
          ],
          [
           "Canada"
          ],
          [
           "Germany"
          ],
          [
           "Germany"
          ],
          [
           "Canada"
          ],
          [
           "Mexico"
          ],
          [
           "Canada"
          ],
          [
           "Canada"
          ],
          [
           "Mexico"
          ],
          [
           "Mexico"
          ],
          [
           "Mexico"
          ],
          [
           "Germany"
          ],
          [
           "France"
          ],
          [
           "Germany"
          ],
          [
           "France"
          ],
          [
           "United States of America"
          ],
          [
           "Germany"
          ],
          [
           "Mexico"
          ],
          [
           "United States of America"
          ],
          [
           "France"
          ],
          [
           "France"
          ],
          [
           "United States of America"
          ],
          [
           "Mexico"
          ],
          [
           "Germany"
          ],
          [
           "Mexico"
          ],
          [
           "France"
          ],
          [
           "United States of America"
          ],
          [
           "France"
          ],
          [
           "Mexico"
          ],
          [
           "United States of America"
          ],
          [
           "United States of America"
          ],
          [
           "United States of America"
          ],
          [
           "France"
          ],
          [
           "Canada"
          ],
          [
           "Canada"
          ],
          [
           "United States of America"
          ],
          [
           "France"
          ],
          [
           "Canada"
          ],
          [
           "United States of America"
          ],
          [
           "France"
          ],
          [
           "Germany"
          ],
          [
           "United States of America"
          ],
          [
           "Mexico"
          ],
          [
           "Germany"
          ],
          [
           "United States of America"
          ],
          [
           "United States of America"
          ],
          [
           "France"
          ],
          [
           "United States of America"
          ],
          [
           "France"
          ],
          [
           "France"
          ],
          [
           "Germany"
          ],
          [
           "Canada"
          ],
          [
           "United States of America"
          ],
          [
           "Germany"
          ],
          [
           "United States of America"
          ],
          [
           "United States of America"
          ],
          [
           "France"
          ],
          [
           "Germany"
          ],
          [
           "Canada"
          ],
          [
           "Canada"
          ],
          [
           "Germany"
          ],
          [
           "France"
          ],
          [
           "United States of America"
          ],
          [
           "Canada"
          ],
          [
           "Mexico"
          ],
          [
           "Canada"
          ],
          [
           "United States of America"
          ],
          [
           "United States of America"
          ],
          [
           "Germany"
          ],
          [
           "Mexico"
          ],
          [
           "Germany"
          ],
          [
           "France"
          ],
          [
           "United States of America"
          ],
          [
           "France"
          ],
          [
           "Canada"
          ],
          [
           "United States of America"
          ],
          [
           "Canada"
          ],
          [
           "United States of America"
          ],
          [
           "Germany"
          ],
          [
           "France"
          ],
          [
           "Mexico"
          ],
          [
           "France"
          ],
          [
           "France"
          ],
          [
           "Canada"
          ],
          [
           "Mexico"
          ],
          [
           "France"
          ],
          [
           "Mexico"
          ],
          [
           "Canada"
          ],
          [
           "France"
          ],
          [
           "Mexico"
          ],
          [
           "United States of America"
          ],
          [
           "France"
          ],
          [
           "France"
          ],
          [
           "France"
          ],
          [
           "United States of America"
          ],
          [
           "Germany"
          ],
          [
           "United States of America"
          ],
          [
           "France"
          ],
          [
           "Germany"
          ],
          [
           "Mexico"
          ],
          [
           "United States of America"
          ],
          [
           "Mexico"
          ],
          [
           "Canada"
          ],
          [
           "Mexico"
          ],
          [
           "Mexico"
          ],
          [
           "France"
          ],
          [
           "France"
          ],
          [
           "Canada"
          ],
          [
           "Canada"
          ],
          [
           "United States of America"
          ],
          [
           "Canada"
          ],
          [
           "France"
          ],
          [
           "Germany"
          ],
          [
           "Canada"
          ],
          [
           "Canada"
          ],
          [
           "United States of America"
          ],
          [
           "France"
          ],
          [
           "France"
          ],
          [
           "France"
          ],
          [
           "France"
          ],
          [
           "Germany"
          ],
          [
           "Canada"
          ],
          [
           "France"
          ],
          [
           "Germany"
          ],
          [
           "France"
          ],
          [
           "United States of America"
          ],
          [
           "France"
          ],
          [
           "Germany"
          ],
          [
           "Canada"
          ],
          [
           "Mexico"
          ],
          [
           "Germany"
          ],
          [
           "France"
          ],
          [
           "Mexico"
          ],
          [
           "Germany"
          ],
          [
           "France"
          ],
          [
           "United States of America"
          ],
          [
           "United States of America"
          ],
          [
           "Germany"
          ],
          [
           "Canada"
          ],
          [
           "France"
          ],
          [
           "Mexico"
          ],
          [
           "Canada"
          ],
          [
           "France"
          ],
          [
           "Germany"
          ],
          [
           "Canada"
          ],
          [
           "United States of America"
          ],
          [
           "Canada"
          ],
          [
           "United States of America"
          ],
          [
           "Canada"
          ],
          [
           "United States of America"
          ],
          [
           "Mexico"
          ],
          [
           "France"
          ],
          [
           "Mexico"
          ],
          [
           "France"
          ],
          [
           "Canada"
          ],
          [
           "Germany"
          ],
          [
           "France"
          ],
          [
           "Canada"
          ],
          [
           "Germany"
          ],
          [
           "Mexico"
          ],
          [
           "Germany"
          ],
          [
           "Germany"
          ],
          [
           "Germany"
          ],
          [
           "Mexico"
          ],
          [
           "United States of America"
          ],
          [
           "Germany"
          ],
          [
           "Germany"
          ],
          [
           "Germany"
          ],
          [
           "Mexico"
          ],
          [
           "Germany"
          ],
          [
           "Mexico"
          ],
          [
           "Mexico"
          ],
          [
           "Canada"
          ],
          [
           "United States of America"
          ],
          [
           "Germany"
          ],
          [
           "France"
          ],
          [
           "Mexico"
          ],
          [
           "France"
          ],
          [
           "Germany"
          ],
          [
           "France"
          ],
          [
           "Germany"
          ],
          [
           "Canada"
          ],
          [
           "United States of America"
          ],
          [
           "Canada"
          ],
          [
           "United States of America"
          ],
          [
           "Germany"
          ],
          [
           "Mexico"
          ],
          [
           "Germany"
          ],
          [
           "Germany"
          ],
          [
           "Mexico"
          ],
          [
           "Mexico"
          ],
          [
           "United States of America"
          ],
          [
           "Canada"
          ],
          [
           "Mexico"
          ],
          [
           "Canada"
          ],
          [
           "France"
          ],
          [
           "France"
          ],
          [
           "Canada"
          ],
          [
           "France"
          ],
          [
           "Canada"
          ],
          [
           "United States of America"
          ],
          [
           "Germany"
          ],
          [
           "Mexico"
          ],
          [
           "Mexico"
          ],
          [
           "United States of America"
          ],
          [
           "Canada"
          ],
          [
           "France"
          ],
          [
           "Mexico"
          ],
          [
           "France"
          ],
          [
           "Germany"
          ],
          [
           "United States of America"
          ],
          [
           "Mexico"
          ],
          [
           "Canada"
          ],
          [
           "Germany"
          ],
          [
           "Canada"
          ],
          [
           "Mexico"
          ],
          [
           "Canada"
          ],
          [
           "United States of America"
          ],
          [
           "Germany"
          ],
          [
           "United States of America"
          ],
          [
           "Germany"
          ],
          [
           "United States of America"
          ],
          [
           "France"
          ],
          [
           "France"
          ],
          [
           "Mexico"
          ],
          [
           "United States of America"
          ],
          [
           "Canada"
          ],
          [
           "Germany"
          ],
          [
           "Mexico"
          ],
          [
           "Germany"
          ],
          [
           "Canada"
          ],
          [
           "Germany"
          ],
          [
           "Mexico"
          ],
          [
           "United States of America"
          ],
          [
           "Mexico"
          ],
          [
           "Germany"
          ],
          [
           "France"
          ],
          [
           "Mexico"
          ],
          [
           "Germany"
          ],
          [
           "France"
          ],
          [
           "Mexico"
          ],
          [
           "Mexico"
          ],
          [
           "Canada"
          ],
          [
           "France"
          ],
          [
           "United States of America"
          ],
          [
           "United States of America"
          ],
          [
           "United States of America"
          ],
          [
           "United States of America"
          ],
          [
           "France"
          ],
          [
           "United States of America"
          ],
          [
           "United States of America"
          ],
          [
           "France"
          ],
          [
           "France"
          ],
          [
           "Mexico"
          ],
          [
           "France"
          ],
          [
           "Germany"
          ],
          [
           "Germany"
          ],
          [
           "Germany"
          ],
          [
           "United States of America"
          ],
          [
           "France"
          ],
          [
           "United States of America"
          ],
          [
           "United States of America"
          ],
          [
           "Germany"
          ],
          [
           "Germany"
          ],
          [
           "Canada"
          ],
          [
           "France"
          ],
          [
           "Mexico"
          ],
          [
           "Mexico"
          ],
          [
           "United States of America"
          ],
          [
           "Mexico"
          ],
          [
           "United States of America"
          ],
          [
           "France"
          ],
          [
           "Canada"
          ],
          [
           "Germany"
          ],
          [
           "United States of America"
          ],
          [
           "Canada"
          ],
          [
           "United States of America"
          ],
          [
           "Canada"
          ],
          [
           "Mexico"
          ],
          [
           "Germany"
          ],
          [
           "Canada"
          ],
          [
           "France"
          ],
          [
           "France"
          ],
          [
           "France"
          ],
          [
           "France"
          ],
          [
           "France"
          ],
          [
           "Canada"
          ],
          [
           "Germany"
          ],
          [
           "United States of America"
          ],
          [
           "Mexico"
          ],
          [
           "United States of America"
          ],
          [
           "Germany"
          ],
          [
           "Canada"
          ],
          [
           "Germany"
          ],
          [
           "Germany"
          ],
          [
           "France"
          ],
          [
           "Canada"
          ],
          [
           "Mexico"
          ],
          [
           "Germany"
          ],
          [
           "Germany"
          ],
          [
           "Mexico"
          ],
          [
           "Canada"
          ],
          [
           "Mexico"
          ],
          [
           "Canada"
          ],
          [
           "Canada"
          ],
          [
           "France"
          ],
          [
           "Canada"
          ],
          [
           "Mexico"
          ],
          [
           "France"
          ],
          [
           "Germany"
          ],
          [
           "Canada"
          ],
          [
           "France"
          ],
          [
           "Mexico"
          ],
          [
           "Mexico"
          ],
          [
           "Canada"
          ],
          [
           "France"
          ],
          [
           "Mexico"
          ],
          [
           "Canada"
          ],
          [
           "Germany"
          ],
          [
           "Mexico"
          ],
          [
           "France"
          ],
          [
           "Mexico"
          ],
          [
           "Mexico"
          ],
          [
           "Mexico"
          ],
          [
           "United States of America"
          ],
          [
           "Mexico"
          ],
          [
           "Canada"
          ],
          [
           "Mexico"
          ],
          [
           "Canada"
          ],
          [
           "United States of America"
          ],
          [
           "France"
          ],
          [
           "Mexico"
          ],
          [
           "Canada"
          ],
          [
           "Mexico"
          ],
          [
           "France"
          ],
          [
           "United States of America"
          ],
          [
           "Mexico"
          ],
          [
           "Mexico"
          ],
          [
           "Mexico"
          ],
          [
           "Mexico"
          ],
          [
           "France"
          ],
          [
           "Germany"
          ],
          [
           "Mexico"
          ],
          [
           "Mexico"
          ],
          [
           "Mexico"
          ],
          [
           "Mexico"
          ],
          [
           "Mexico"
          ],
          [
           "United States of America"
          ],
          [
           "Mexico"
          ],
          [
           "Canada"
          ],
          [
           "France"
          ],
          [
           "Canada"
          ],
          [
           "United States of America"
          ],
          [
           "United States of America"
          ],
          [
           "Mexico"
          ],
          [
           "United States of America"
          ],
          [
           "France"
          ],
          [
           "Canada"
          ],
          [
           "United States of America"
          ],
          [
           "France"
          ],
          [
           "Mexico"
          ],
          [
           "Germany"
          ],
          [
           "France"
          ],
          [
           "Germany"
          ],
          [
           "Canada"
          ],
          [
           "United States of America"
          ],
          [
           "United States of America"
          ],
          [
           "Canada"
          ],
          [
           "France"
          ],
          [
           "Germany"
          ],
          [
           "United States of America"
          ],
          [
           "United States of America"
          ],
          [
           "Mexico"
          ],
          [
           "Mexico"
          ],
          [
           "Canada"
          ],
          [
           "United States of America"
          ],
          [
           "Germany"
          ],
          [
           "United States of America"
          ],
          [
           "Germany"
          ],
          [
           "Canada"
          ],
          [
           "Canada"
          ],
          [
           "Mexico"
          ],
          [
           "France"
          ],
          [
           "Canada"
          ],
          [
           "Canada"
          ],
          [
           "Germany"
          ],
          [
           "Germany"
          ],
          [
           "France"
          ],
          [
           "Canada"
          ],
          [
           "France"
          ],
          [
           "Mexico"
          ],
          [
           "Germany"
          ],
          [
           "Mexico"
          ],
          [
           "Mexico"
          ],
          [
           "Germany"
          ],
          [
           "Canada"
          ],
          [
           "Canada"
          ],
          [
           "Canada"
          ],
          [
           "France"
          ],
          [
           "Mexico"
          ],
          [
           "Germany"
          ],
          [
           "Mexico"
          ],
          [
           "United States of America"
          ],
          [
           "United States of America"
          ],
          [
           "Germany"
          ],
          [
           "France"
          ],
          [
           "United States of America"
          ],
          [
           "Germany"
          ],
          [
           "Canada"
          ],
          [
           "United States of America"
          ],
          [
           "France"
          ],
          [
           "Germany"
          ],
          [
           "France"
          ],
          [
           "United States of America"
          ],
          [
           "Mexico"
          ],
          [
           "France"
          ],
          [
           "Canada"
          ],
          [
           "United States of America"
          ],
          [
           "Germany"
          ],
          [
           "Canada"
          ],
          [
           "Mexico"
          ],
          [
           "Canada"
          ],
          [
           "Germany"
          ],
          [
           "Canada"
          ],
          [
           "Canada"
          ],
          [
           "Mexico"
          ],
          [
           "Canada"
          ],
          [
           "Mexico"
          ],
          [
           "Canada"
          ],
          [
           "Canada"
          ],
          [
           "United States of America"
          ],
          [
           "France"
          ],
          [
           "Canada"
          ],
          [
           "Canada"
          ],
          [
           "United States of America"
          ],
          [
           "France"
          ],
          [
           "Mexico"
          ],
          [
           "United States of America"
          ],
          [
           "United States of America"
          ],
          [
           "Canada"
          ],
          [
           "Germany"
          ],
          [
           "Mexico"
          ],
          [
           "United States of America"
          ],
          [
           "Canada"
          ],
          [
           "Canada"
          ],
          [
           "United States of America"
          ],
          [
           "France"
          ],
          [
           "Canada"
          ],
          [
           "United States of America"
          ],
          [
           "France"
          ],
          [
           "Canada"
          ],
          [
           "United States of America"
          ],
          [
           "France"
          ],
          [
           "Mexico"
          ],
          [
           "Mexico"
          ],
          [
           "France"
          ],
          [
           "Germany"
          ],
          [
           "Germany"
          ],
          [
           "Mexico"
          ],
          [
           "Germany"
          ],
          [
           "Canada"
          ],
          [
           "Mexico"
          ],
          [
           "Mexico"
          ],
          [
           "Canada"
          ],
          [
           "United States of America"
          ],
          [
           "Germany"
          ],
          [
           "Germany"
          ],
          [
           "United States of America"
          ],
          [
           "Mexico"
          ],
          [
           "United States of America"
          ],
          [
           "France"
          ],
          [
           "Mexico"
          ],
          [
           "France"
          ],
          [
           "France"
          ],
          [
           "United States of America"
          ],
          [
           "United States of America"
          ],
          [
           "United States of America"
          ],
          [
           "Canada"
          ],
          [
           "Germany"
          ],
          [
           "United States of America"
          ],
          [
           "Germany"
          ],
          [
           "Canada"
          ],
          [
           "Germany"
          ],
          [
           "France"
          ],
          [
           "France"
          ],
          [
           "Mexico"
          ],
          [
           "Mexico"
          ],
          [
           "Canada"
          ],
          [
           "United States of America"
          ]
         ],
         "geo": "geo",
         "hovertemplate": "<b>%{hovertext}</b><br><br>Country=%{customdata[0]}<br>Profit=%{z}<extra></extra>",
         "hovertext": [
          "Canada",
          "Germany",
          "France",
          "Germany",
          "Mexico",
          "Germany",
          "Germany",
          "Canada",
          "France",
          "Germany",
          "Mexico",
          "Canada",
          "Mexico",
          "Germany",
          "Canada",
          "United States of America",
          "Canada",
          "Mexico",
          "Canada",
          "Germany",
          "Germany",
          "Mexico",
          "France",
          "Mexico",
          "Mexico",
          "United States of America",
          "Canada",
          "United States of America",
          "Canada",
          "Canada",
          "Germany",
          "Mexico",
          "France",
          "Germany",
          "Germany",
          "Germany",
          "United States of America",
          "Canada",
          "Canada",
          "Germany",
          "France",
          "Germany",
          "France",
          "France",
          "Canada",
          "France",
          "United States of America",
          "Germany",
          "France",
          "Germany",
          "United States of America",
          "United States of America",
          "United States of America",
          "France",
          "France",
          "France",
          "France",
          "Canada",
          "United States of America",
          "Mexico",
          "United States of America",
          "Canada",
          "United States of America",
          "France",
          "Germany",
          "Mexico",
          "Mexico",
          "France",
          "Mexico",
          "United States of America",
          "France",
          "Canada",
          "United States of America",
          "United States of America",
          "United States of America",
          "United States of America",
          "United States of America",
          "France",
          "Mexico",
          "Germany",
          "Germany",
          "United States of America",
          "France",
          "France",
          "Mexico",
          "Canada",
          "United States of America",
          "Canada",
          "Germany",
          "Canada",
          "United States of America",
          "France",
          "Germany",
          "Mexico",
          "Mexico",
          "France",
          "United States of America",
          "France",
          "Canada",
          "Canada",
          "Germany",
          "France",
          "Canada",
          "United States of America",
          "United States of America",
          "Mexico",
          "Mexico",
          "Canada",
          "France",
          "Germany",
          "United States of America",
          "Mexico",
          "Canada",
          "Germany",
          "Mexico",
          "France",
          "Canada",
          "Canada",
          "Canada",
          "United States of America",
          "United States of America",
          "France",
          "Mexico",
          "United States of America",
          "Germany",
          "Germany",
          "Germany",
          "Mexico",
          "France",
          "Mexico",
          "Mexico",
          "Mexico",
          "Germany",
          "Germany",
          "Canada",
          "United States of America",
          "Mexico",
          "Germany",
          "Mexico",
          "Germany",
          "Germany",
          "United States of America",
          "France",
          "Canada",
          "France",
          "Germany",
          "Germany",
          "United States of America",
          "Canada",
          "Germany",
          "France",
          "France",
          "Germany",
          "France",
          "Germany",
          "France",
          "Canada",
          "France",
          "Germany",
          "Germany",
          "United States of America",
          "Canada",
          "Germany",
          "France",
          "Germany",
          "Canada",
          "United States of America",
          "Mexico",
          "Germany",
          "Canada",
          "Mexico",
          "Germany",
          "Canada",
          "Mexico",
          "Canada",
          "Germany",
          "Mexico",
          "Mexico",
          "France",
          "United States of America",
          "Canada",
          "Germany",
          "United States of America",
          "Canada",
          "Germany",
          "Canada",
          "Germany",
          "Mexico",
          "Canada",
          "Germany",
          "Germany",
          "United States of America",
          "United States of America",
          "France",
          "Canada",
          "Canada",
          "United States of America",
          "United States of America",
          "Mexico",
          "United States of America",
          "Mexico",
          "United States of America",
          "Canada",
          "France",
          "France",
          "United States of America",
          "France",
          "Mexico",
          "Mexico",
          "Mexico",
          "Germany",
          "United States of America",
          "Canada",
          "Germany",
          "Germany",
          "Canada",
          "Mexico",
          "Canada",
          "Canada",
          "Mexico",
          "Mexico",
          "Mexico",
          "Germany",
          "France",
          "Germany",
          "France",
          "United States of America",
          "Germany",
          "Mexico",
          "United States of America",
          "France",
          "France",
          "United States of America",
          "Mexico",
          "Germany",
          "Mexico",
          "France",
          "United States of America",
          "France",
          "Mexico",
          "United States of America",
          "United States of America",
          "United States of America",
          "France",
          "Canada",
          "Canada",
          "United States of America",
          "France",
          "Canada",
          "United States of America",
          "France",
          "Germany",
          "United States of America",
          "Mexico",
          "Germany",
          "United States of America",
          "United States of America",
          "France",
          "United States of America",
          "France",
          "France",
          "Germany",
          "Canada",
          "United States of America",
          "Germany",
          "United States of America",
          "United States of America",
          "France",
          "Germany",
          "Canada",
          "Canada",
          "Germany",
          "France",
          "United States of America",
          "Canada",
          "Mexico",
          "Canada",
          "United States of America",
          "United States of America",
          "Germany",
          "Mexico",
          "Germany",
          "France",
          "United States of America",
          "France",
          "Canada",
          "United States of America",
          "Canada",
          "United States of America",
          "Germany",
          "France",
          "Mexico",
          "France",
          "France",
          "Canada",
          "Mexico",
          "France",
          "Mexico",
          "Canada",
          "France",
          "Mexico",
          "United States of America",
          "France",
          "France",
          "France",
          "United States of America",
          "Germany",
          "United States of America",
          "France",
          "Germany",
          "Mexico",
          "United States of America",
          "Mexico",
          "Canada",
          "Mexico",
          "Mexico",
          "France",
          "France",
          "Canada",
          "Canada",
          "United States of America",
          "Canada",
          "France",
          "Germany",
          "Canada",
          "Canada",
          "United States of America",
          "France",
          "France",
          "France",
          "France",
          "Germany",
          "Canada",
          "France",
          "Germany",
          "France",
          "United States of America",
          "France",
          "Germany",
          "Canada",
          "Mexico",
          "Germany",
          "France",
          "Mexico",
          "Germany",
          "France",
          "United States of America",
          "United States of America",
          "Germany",
          "Canada",
          "France",
          "Mexico",
          "Canada",
          "France",
          "Germany",
          "Canada",
          "United States of America",
          "Canada",
          "United States of America",
          "Canada",
          "United States of America",
          "Mexico",
          "France",
          "Mexico",
          "France",
          "Canada",
          "Germany",
          "France",
          "Canada",
          "Germany",
          "Mexico",
          "Germany",
          "Germany",
          "Germany",
          "Mexico",
          "United States of America",
          "Germany",
          "Germany",
          "Germany",
          "Mexico",
          "Germany",
          "Mexico",
          "Mexico",
          "Canada",
          "United States of America",
          "Germany",
          "France",
          "Mexico",
          "France",
          "Germany",
          "France",
          "Germany",
          "Canada",
          "United States of America",
          "Canada",
          "United States of America",
          "Germany",
          "Mexico",
          "Germany",
          "Germany",
          "Mexico",
          "Mexico",
          "United States of America",
          "Canada",
          "Mexico",
          "Canada",
          "France",
          "France",
          "Canada",
          "France",
          "Canada",
          "United States of America",
          "Germany",
          "Mexico",
          "Mexico",
          "United States of America",
          "Canada",
          "France",
          "Mexico",
          "France",
          "Germany",
          "United States of America",
          "Mexico",
          "Canada",
          "Germany",
          "Canada",
          "Mexico",
          "Canada",
          "United States of America",
          "Germany",
          "United States of America",
          "Germany",
          "United States of America",
          "France",
          "France",
          "Mexico",
          "United States of America",
          "Canada",
          "Germany",
          "Mexico",
          "Germany",
          "Canada",
          "Germany",
          "Mexico",
          "United States of America",
          "Mexico",
          "Germany",
          "France",
          "Mexico",
          "Germany",
          "France",
          "Mexico",
          "Mexico",
          "Canada",
          "France",
          "United States of America",
          "United States of America",
          "United States of America",
          "United States of America",
          "France",
          "United States of America",
          "United States of America",
          "France",
          "France",
          "Mexico",
          "France",
          "Germany",
          "Germany",
          "Germany",
          "United States of America",
          "France",
          "United States of America",
          "United States of America",
          "Germany",
          "Germany",
          "Canada",
          "France",
          "Mexico",
          "Mexico",
          "United States of America",
          "Mexico",
          "United States of America",
          "France",
          "Canada",
          "Germany",
          "United States of America",
          "Canada",
          "United States of America",
          "Canada",
          "Mexico",
          "Germany",
          "Canada",
          "France",
          "France",
          "France",
          "France",
          "France",
          "Canada",
          "Germany",
          "United States of America",
          "Mexico",
          "United States of America",
          "Germany",
          "Canada",
          "Germany",
          "Germany",
          "France",
          "Canada",
          "Mexico",
          "Germany",
          "Germany",
          "Mexico",
          "Canada",
          "Mexico",
          "Canada",
          "Canada",
          "France",
          "Canada",
          "Mexico",
          "France",
          "Germany",
          "Canada",
          "France",
          "Mexico",
          "Mexico",
          "Canada",
          "France",
          "Mexico",
          "Canada",
          "Germany",
          "Mexico",
          "France",
          "Mexico",
          "Mexico",
          "Mexico",
          "United States of America",
          "Mexico",
          "Canada",
          "Mexico",
          "Canada",
          "United States of America",
          "France",
          "Mexico",
          "Canada",
          "Mexico",
          "France",
          "United States of America",
          "Mexico",
          "Mexico",
          "Mexico",
          "Mexico",
          "France",
          "Germany",
          "Mexico",
          "Mexico",
          "Mexico",
          "Mexico",
          "Mexico",
          "United States of America",
          "Mexico",
          "Canada",
          "France",
          "Canada",
          "United States of America",
          "United States of America",
          "Mexico",
          "United States of America",
          "France",
          "Canada",
          "United States of America",
          "France",
          "Mexico",
          "Germany",
          "France",
          "Germany",
          "Canada",
          "United States of America",
          "United States of America",
          "Canada",
          "France",
          "Germany",
          "United States of America",
          "United States of America",
          "Mexico",
          "Mexico",
          "Canada",
          "United States of America",
          "Germany",
          "United States of America",
          "Germany",
          "Canada",
          "Canada",
          "Mexico",
          "France",
          "Canada",
          "Canada",
          "Germany",
          "Germany",
          "France",
          "Canada",
          "France",
          "Mexico",
          "Germany",
          "Mexico",
          "Mexico",
          "Germany",
          "Canada",
          "Canada",
          "Canada",
          "France",
          "Mexico",
          "Germany",
          "Mexico",
          "United States of America",
          "United States of America",
          "Germany",
          "France",
          "United States of America",
          "Germany",
          "Canada",
          "United States of America",
          "France",
          "Germany",
          "France",
          "United States of America",
          "Mexico",
          "France",
          "Canada",
          "United States of America",
          "Germany",
          "Canada",
          "Mexico",
          "Canada",
          "Germany",
          "Canada",
          "Canada",
          "Mexico",
          "Canada",
          "Mexico",
          "Canada",
          "Canada",
          "United States of America",
          "France",
          "Canada",
          "Canada",
          "United States of America",
          "France",
          "Mexico",
          "United States of America",
          "United States of America",
          "Canada",
          "Germany",
          "Mexico",
          "United States of America",
          "Canada",
          "Canada",
          "United States of America",
          "France",
          "Canada",
          "United States of America",
          "France",
          "Canada",
          "United States of America",
          "France",
          "Mexico",
          "Mexico",
          "France",
          "Germany",
          "Germany",
          "Mexico",
          "Germany",
          "Canada",
          "Mexico",
          "Mexico",
          "Canada",
          "United States of America",
          "Germany",
          "Germany",
          "United States of America",
          "Mexico",
          "United States of America",
          "France",
          "Mexico",
          "France",
          "France",
          "United States of America",
          "United States of America",
          "United States of America",
          "Canada",
          "Germany",
          "United States of America",
          "Germany",
          "Canada",
          "Germany",
          "France",
          "France",
          "Mexico",
          "Mexico",
          "Canada",
          "United States of America"
         ],
         "locationmode": "country names",
         "locations": [
          "Canada",
          "Germany",
          "France",
          "Germany",
          "Mexico",
          "Germany",
          "Germany",
          "Canada",
          "France",
          "Germany",
          "Mexico",
          "Canada",
          "Mexico",
          "Germany",
          "Canada",
          "United States of America",
          "Canada",
          "Mexico",
          "Canada",
          "Germany",
          "Germany",
          "Mexico",
          "France",
          "Mexico",
          "Mexico",
          "United States of America",
          "Canada",
          "United States of America",
          "Canada",
          "Canada",
          "Germany",
          "Mexico",
          "France",
          "Germany",
          "Germany",
          "Germany",
          "United States of America",
          "Canada",
          "Canada",
          "Germany",
          "France",
          "Germany",
          "France",
          "France",
          "Canada",
          "France",
          "United States of America",
          "Germany",
          "France",
          "Germany",
          "United States of America",
          "United States of America",
          "United States of America",
          "France",
          "France",
          "France",
          "France",
          "Canada",
          "United States of America",
          "Mexico",
          "United States of America",
          "Canada",
          "United States of America",
          "France",
          "Germany",
          "Mexico",
          "Mexico",
          "France",
          "Mexico",
          "United States of America",
          "France",
          "Canada",
          "United States of America",
          "United States of America",
          "United States of America",
          "United States of America",
          "United States of America",
          "France",
          "Mexico",
          "Germany",
          "Germany",
          "United States of America",
          "France",
          "France",
          "Mexico",
          "Canada",
          "United States of America",
          "Canada",
          "Germany",
          "Canada",
          "United States of America",
          "France",
          "Germany",
          "Mexico",
          "Mexico",
          "France",
          "United States of America",
          "France",
          "Canada",
          "Canada",
          "Germany",
          "France",
          "Canada",
          "United States of America",
          "United States of America",
          "Mexico",
          "Mexico",
          "Canada",
          "France",
          "Germany",
          "United States of America",
          "Mexico",
          "Canada",
          "Germany",
          "Mexico",
          "France",
          "Canada",
          "Canada",
          "Canada",
          "United States of America",
          "United States of America",
          "France",
          "Mexico",
          "United States of America",
          "Germany",
          "Germany",
          "Germany",
          "Mexico",
          "France",
          "Mexico",
          "Mexico",
          "Mexico",
          "Germany",
          "Germany",
          "Canada",
          "United States of America",
          "Mexico",
          "Germany",
          "Mexico",
          "Germany",
          "Germany",
          "United States of America",
          "France",
          "Canada",
          "France",
          "Germany",
          "Germany",
          "United States of America",
          "Canada",
          "Germany",
          "France",
          "France",
          "Germany",
          "France",
          "Germany",
          "France",
          "Canada",
          "France",
          "Germany",
          "Germany",
          "United States of America",
          "Canada",
          "Germany",
          "France",
          "Germany",
          "Canada",
          "United States of America",
          "Mexico",
          "Germany",
          "Canada",
          "Mexico",
          "Germany",
          "Canada",
          "Mexico",
          "Canada",
          "Germany",
          "Mexico",
          "Mexico",
          "France",
          "United States of America",
          "Canada",
          "Germany",
          "United States of America",
          "Canada",
          "Germany",
          "Canada",
          "Germany",
          "Mexico",
          "Canada",
          "Germany",
          "Germany",
          "United States of America",
          "United States of America",
          "France",
          "Canada",
          "Canada",
          "United States of America",
          "United States of America",
          "Mexico",
          "United States of America",
          "Mexico",
          "United States of America",
          "Canada",
          "France",
          "France",
          "United States of America",
          "France",
          "Mexico",
          "Mexico",
          "Mexico",
          "Germany",
          "United States of America",
          "Canada",
          "Germany",
          "Germany",
          "Canada",
          "Mexico",
          "Canada",
          "Canada",
          "Mexico",
          "Mexico",
          "Mexico",
          "Germany",
          "France",
          "Germany",
          "France",
          "United States of America",
          "Germany",
          "Mexico",
          "United States of America",
          "France",
          "France",
          "United States of America",
          "Mexico",
          "Germany",
          "Mexico",
          "France",
          "United States of America",
          "France",
          "Mexico",
          "United States of America",
          "United States of America",
          "United States of America",
          "France",
          "Canada",
          "Canada",
          "United States of America",
          "France",
          "Canada",
          "United States of America",
          "France",
          "Germany",
          "United States of America",
          "Mexico",
          "Germany",
          "United States of America",
          "United States of America",
          "France",
          "United States of America",
          "France",
          "France",
          "Germany",
          "Canada",
          "United States of America",
          "Germany",
          "United States of America",
          "United States of America",
          "France",
          "Germany",
          "Canada",
          "Canada",
          "Germany",
          "France",
          "United States of America",
          "Canada",
          "Mexico",
          "Canada",
          "United States of America",
          "United States of America",
          "Germany",
          "Mexico",
          "Germany",
          "France",
          "United States of America",
          "France",
          "Canada",
          "United States of America",
          "Canada",
          "United States of America",
          "Germany",
          "France",
          "Mexico",
          "France",
          "France",
          "Canada",
          "Mexico",
          "France",
          "Mexico",
          "Canada",
          "France",
          "Mexico",
          "United States of America",
          "France",
          "France",
          "France",
          "United States of America",
          "Germany",
          "United States of America",
          "France",
          "Germany",
          "Mexico",
          "United States of America",
          "Mexico",
          "Canada",
          "Mexico",
          "Mexico",
          "France",
          "France",
          "Canada",
          "Canada",
          "United States of America",
          "Canada",
          "France",
          "Germany",
          "Canada",
          "Canada",
          "United States of America",
          "France",
          "France",
          "France",
          "France",
          "Germany",
          "Canada",
          "France",
          "Germany",
          "France",
          "United States of America",
          "France",
          "Germany",
          "Canada",
          "Mexico",
          "Germany",
          "France",
          "Mexico",
          "Germany",
          "France",
          "United States of America",
          "United States of America",
          "Germany",
          "Canada",
          "France",
          "Mexico",
          "Canada",
          "France",
          "Germany",
          "Canada",
          "United States of America",
          "Canada",
          "United States of America",
          "Canada",
          "United States of America",
          "Mexico",
          "France",
          "Mexico",
          "France",
          "Canada",
          "Germany",
          "France",
          "Canada",
          "Germany",
          "Mexico",
          "Germany",
          "Germany",
          "Germany",
          "Mexico",
          "United States of America",
          "Germany",
          "Germany",
          "Germany",
          "Mexico",
          "Germany",
          "Mexico",
          "Mexico",
          "Canada",
          "United States of America",
          "Germany",
          "France",
          "Mexico",
          "France",
          "Germany",
          "France",
          "Germany",
          "Canada",
          "United States of America",
          "Canada",
          "United States of America",
          "Germany",
          "Mexico",
          "Germany",
          "Germany",
          "Mexico",
          "Mexico",
          "United States of America",
          "Canada",
          "Mexico",
          "Canada",
          "France",
          "France",
          "Canada",
          "France",
          "Canada",
          "United States of America",
          "Germany",
          "Mexico",
          "Mexico",
          "United States of America",
          "Canada",
          "France",
          "Mexico",
          "France",
          "Germany",
          "United States of America",
          "Mexico",
          "Canada",
          "Germany",
          "Canada",
          "Mexico",
          "Canada",
          "United States of America",
          "Germany",
          "United States of America",
          "Germany",
          "United States of America",
          "France",
          "France",
          "Mexico",
          "United States of America",
          "Canada",
          "Germany",
          "Mexico",
          "Germany",
          "Canada",
          "Germany",
          "Mexico",
          "United States of America",
          "Mexico",
          "Germany",
          "France",
          "Mexico",
          "Germany",
          "France",
          "Mexico",
          "Mexico",
          "Canada",
          "France",
          "United States of America",
          "United States of America",
          "United States of America",
          "United States of America",
          "France",
          "United States of America",
          "United States of America",
          "France",
          "France",
          "Mexico",
          "France",
          "Germany",
          "Germany",
          "Germany",
          "United States of America",
          "France",
          "United States of America",
          "United States of America",
          "Germany",
          "Germany",
          "Canada",
          "France",
          "Mexico",
          "Mexico",
          "United States of America",
          "Mexico",
          "United States of America",
          "France",
          "Canada",
          "Germany",
          "United States of America",
          "Canada",
          "United States of America",
          "Canada",
          "Mexico",
          "Germany",
          "Canada",
          "France",
          "France",
          "France",
          "France",
          "France",
          "Canada",
          "Germany",
          "United States of America",
          "Mexico",
          "United States of America",
          "Germany",
          "Canada",
          "Germany",
          "Germany",
          "France",
          "Canada",
          "Mexico",
          "Germany",
          "Germany",
          "Mexico",
          "Canada",
          "Mexico",
          "Canada",
          "Canada",
          "France",
          "Canada",
          "Mexico",
          "France",
          "Germany",
          "Canada",
          "France",
          "Mexico",
          "Mexico",
          "Canada",
          "France",
          "Mexico",
          "Canada",
          "Germany",
          "Mexico",
          "France",
          "Mexico",
          "Mexico",
          "Mexico",
          "United States of America",
          "Mexico",
          "Canada",
          "Mexico",
          "Canada",
          "United States of America",
          "France",
          "Mexico",
          "Canada",
          "Mexico",
          "France",
          "United States of America",
          "Mexico",
          "Mexico",
          "Mexico",
          "Mexico",
          "France",
          "Germany",
          "Mexico",
          "Mexico",
          "Mexico",
          "Mexico",
          "Mexico",
          "United States of America",
          "Mexico",
          "Canada",
          "France",
          "Canada",
          "United States of America",
          "United States of America",
          "Mexico",
          "United States of America",
          "France",
          "Canada",
          "United States of America",
          "France",
          "Mexico",
          "Germany",
          "France",
          "Germany",
          "Canada",
          "United States of America",
          "United States of America",
          "Canada",
          "France",
          "Germany",
          "United States of America",
          "United States of America",
          "Mexico",
          "Mexico",
          "Canada",
          "United States of America",
          "Germany",
          "United States of America",
          "Germany",
          "Canada",
          "Canada",
          "Mexico",
          "France",
          "Canada",
          "Canada",
          "Germany",
          "Germany",
          "France",
          "Canada",
          "France",
          "Mexico",
          "Germany",
          "Mexico",
          "Mexico",
          "Germany",
          "Canada",
          "Canada",
          "Canada",
          "France",
          "Mexico",
          "Germany",
          "Mexico",
          "United States of America",
          "United States of America",
          "Germany",
          "France",
          "United States of America",
          "Germany",
          "Canada",
          "United States of America",
          "France",
          "Germany",
          "France",
          "United States of America",
          "Mexico",
          "France",
          "Canada",
          "United States of America",
          "Germany",
          "Canada",
          "Mexico",
          "Canada",
          "Germany",
          "Canada",
          "Canada",
          "Mexico",
          "Canada",
          "Mexico",
          "Canada",
          "Canada",
          "United States of America",
          "France",
          "Canada",
          "Canada",
          "United States of America",
          "France",
          "Mexico",
          "United States of America",
          "United States of America",
          "Canada",
          "Germany",
          "Mexico",
          "United States of America",
          "Canada",
          "Canada",
          "United States of America",
          "France",
          "Canada",
          "United States of America",
          "France",
          "Canada",
          "United States of America",
          "France",
          "Mexico",
          "Mexico",
          "France",
          "Germany",
          "Germany",
          "Mexico",
          "Germany",
          "Canada",
          "Mexico",
          "Mexico",
          "Canada",
          "United States of America",
          "Germany",
          "Germany",
          "United States of America",
          "Mexico",
          "United States of America",
          "France",
          "Mexico",
          "France",
          "France",
          "United States of America",
          "United States of America",
          "United States of America",
          "Canada",
          "Germany",
          "United States of America",
          "Germany",
          "Canada",
          "Germany",
          "France",
          "France",
          "Mexico",
          "Mexico",
          "Canada",
          "United States of America"
         ],
         "name": "",
         "type": "choropleth",
         "z": [
          16185,
          13210,
          10890,
          4440,
          12350,
          136170,
          4605,
          22662,
          18990,
          13905,
          12350,
          13327.5,
          47900,
          4292,
          1725,
          3075,
          2920,
          4870,
          22662,
          90540,
          3303,
          1766,
          2745,
          39400,
          12360,
          2286,
          155250,
          8208,
          10760,
          18170,
          136170,
          2986,
          9020,
          19449,
          90540,
          13905,
          14105,
          1725,
          100050,
          25542,
          10890,
          4440,
          137430,
          107550,
          18170,
          247500,
          17577,
          21097.5,
          18990,
          3372,
          19269,
          2286,
          3075,
          7613.850000000002,
          11135.599999999999,
          1987.8999999999996,
          1233.2700000000004,
          2559.1800000000003,
          16499.04,
          104665,
          4880.969999999999,
          12831.599999999999,
          1237.5,
          23718.48,
          6802.08,
          23218,
          120840.5,
          186407.5,
          10737.900000000001,
          108147,
          13479.899999999998,
          3531.8999999999996,
          117406,
          2486.25,
          7342.9000000000015,
          8670.524999999998,
          2726.25,
          2951.25,
          6836.25,
          3622.9500000000007,
          6802.08,
          136535,
          186407.5,
          37867.200000000004,
          698.6599999999999,
          3461.25,
          2486.25,
          4037.5599999999995,
          507.5899999999999,
          81612.75,
          2726.25,
          2951.25,
          46342,
          23218,
          120840.5,
          6540,
          17662.32,
          1556.8500000000004,
          1856.25,
          11344.2,
          9416,
          3989.7000000000007,
          236716,
          10003.92,
          15033.599999999999,
          6044.4,
          4150,
          11106.099999999999,
          40392,
          76032,
          10003.92,
          1655,
          11344.2,
          2022.5,
          5362.5,
          15636.599999999999,
          84304,
          236716,
          6822.5,
          9047.5,
          3744.1800000000003,
          9241.8,
          9495.84,
          15033.599999999999,
          246178,
          238791,
          2022.5,
          5362.5,
          9241.8,
          5222.4,
          9495.84,
          1655,
          9416,
          238791,
          6822.5,
          22078,
          161020,
          11396,
          48444,
          5690,
          246178,
          11865.599999999999,
          9033.599999999999,
          84304,
          5304.375,
          24252,
          28249,
          16822.08,
          7845.120000000001,
          3504.8199999999997,
          16424.64,
          973.7600000000002,
          142861.5,
          1608.75,
          2132.5,
          99814.5,
          2217.5,
          16424.64,
          28249,
          1962.5,
          11832.48,
          2511.25,
          8849.75,
          1608.75,
          2132.5,
          2511.25,
          116604,
          16554.24,
          1962.5,
          76834,
          130539,
          8849.75,
          7811.4,
          3150.3999999999996,
          36194.700000000004,
          21418.56,
          8936.400000000001,
          8936.400000000001,
          9948.400000000001,
          6771.200000000001,
          4903.720000000001,
          76798,
          20824,
          8654.8,
          70642,
          4903.720000000001,
          76798,
          0,
          7311.719999999999,
          0,
          53751,
          110884,
          262200,
          0,
          959.1999999999998,
          19080.800000000003,
          9715.2,
          2952.3999999999996,
          6661.5999999999985,
          20824,
          0,
          12481.8,
          24343.199999999997,
          165452,
          7378.32,
          26524,
          165452,
          6661.5999999999985,
          141740,
          0,
          144932,
          2952.3999999999996,
          135128,
          1912.3500000000004,
          2263.7999999999993,
          3875.8500000000004,
          4436.8499999999985,
          20420.4,
          20420.4,
          4436.8499999999985,
          2776.9500000000007,
          9433.2,
          1912.3500000000004,
          15666,
          9374.4,
          14067,
          34685,
          1676.3999999999996,
          11861.75,
          940.5,
          4103.549999999999,
          100376.25,
          -4533.75,
          52200,
          19672.8,
          38500,
          11727,
          -3740,
          -2981.25,
          56245,
          3839.5499999999993,
          34685,
          43645,
          11135,
          89030,
          12501,
          -1076.25,
          -880,
          16218,
          23967,
          3524.3999999999996,
          8993,
          2358.75,
          12159.25,
          -1008.75,
          43645,
          25488,
          14211,
          -1076.25,
          -880,
          9297,
          43750,
          12501,
          11385,
          20673,
          23967,
          940.5,
          4103.549999999999,
          97875,
          40020,
          89030,
          43750,
          15584.100000000002,
          9834,
          11660.400000000001,
          4653.36,
          19035.72,
          8323,
          415.53999999999996,
          -2217.5,
          67620,
          100740,
          2216.74,
          22546.44,
          103224,
          19035.72,
          50163,
          -2380,
          -6887.5,
          6273,
          103224,
          2366.84,
          39072,
          143244,
          11660.400000000001,
          2366.84,
          39072,
          9882.400000000001,
          77952,
          -4968.75,
          115851,
          50163,
          2216.74,
          143244,
          15461.599999999999,
          9011.8,
          7146.299999999999,
          4727.299999999999,
          15461.599999999999,
          8808.8,
          2106.1399999999994,
          4727.299999999999,
          5932.32,
          15373.439999999999,
          15772.400000000001,
          19094.4,
          19110.72,
          1556.8100000000004,
          4984.9000000000015,
          1713.8500000000004,
          825.9700000000003,
          2388.8199999999997,
          14186.16,
          18074.4,
          2388.8199999999997,
          1713.8500000000004,
          115345.5,
          12992,
          63249,
          16993.6,
          63249,
          -9375,
          49358,
          12992,
          -13173.75,
          8298.95,
          11577.449999999997,
          13201,
          32567,
          40716,
          22546.08,
          3208.75,
          48111,
          5237.4,
          -7826.25,
          16993.6,
          12220.599999999999,
          39788,
          5056.799999999999,
          26475.120000000003,
          27811,
          79663,
          -6168.75,
          188378,
          -3727.5,
          9614.8,
          39788,
          702.7200000000003,
          10768.8,
          370.0799999999999,
          10768.8,
          -7700,
          1862,
          84444,
          9503.800000000003,
          5947.200000000001,
          5418,
          40612,
          33358,
          2701.7999999999993,
          -5570,
          1812.96,
          1576.8000000000002,
          11474.400000000001,
          63960,
          976.3199999999997,
          2301.120000000001,
          3468.959999999999,
          16245.599999999999,
          25141.199999999997,
          133052,
          2802.24,
          84444,
          4807.92,
          4186.080000000002,
          3366.7199999999993,
          10036,
          16510,
          35619,
          3366.7199999999993,
          23622,
          26164,
          55484,
          21008,
          5947.200000000001,
          4186.080000000002,
          11474.400000000001,
          63960,
          12768,
          2701.7999999999993,
          11055,
          16510,
          3666.5999999999995,
          25162,
          2906.64,
          87457.5,
          97461,
          7406,
          18382.32,
          -11606.25,
          2207.0699999999997,
          -17481.25,
          7682,
          58995,
          141394.5,
          13413.75,
          25162,
          4478.549999999999,
          2906.64,
          30452,
          14058,
          -17481.25,
          894.25,
          87250.5,
          76459.5,
          -3543.75,
          -13187.5,
          74236.5,
          15491.52,
          61157,
          79062.75,
          6969.6,
          42941,
          17693.28,
          4478.549999999999,
          -5481.25,
          121153.5,
          74236.5,
          3540.5,
          13890.8,
          5436.6,
          1122.03,
          12513.599999999999,
          713.77,
          7978.5999999999985,
          8511.599999999999,
          493.1999999999998,
          15578.64,
          9592.199999999997,
          493.1999999999998,
          21992.4,
          713.77,
          8511.599999999999,
          5951.324999999999,
          2423.52,
          3010.8,
          3026.3999999999996,
          3010.8,
          -25841.25,
          -11115,
          127215,
          -13530,
          7252,
          15632,
          11820,
          7584.5,
          1928,
          2383.5,
          1785,
          2765,
          35145,
          -11970,
          45880,
          1928,
          3464.5,
          -14370,
          17060,
          -2557.5,
          2243.5,
          154385,
          8640,
          45880,
          7584.5,
          -18967.5,
          102850,
          -4342.5,
          123200,
          59860,
          27459.899999999998,
          16312,
          20077.2,
          38885,
          7252,
          17060,
          9200.64,
          3114.3599999999997,
          9200.64,
          1286.3999999999999,
          3624.96,
          1942.17,
          7718.4,
          10718.324999999999,
          3624.96,
          14876.16,
          40788,
          47787,
          -21358.75,
          5226,
          3328.380000000001,
          39449,
          23337.6,
          7225.950000000001,
          14841,
          8751.599999999999,
          108381.75,
          30919.68,
          18627.840000000004,
          18673.199999999997,
          6646.4000000000015,
          -21358.75,
          23337.6,
          23222,
          21879,
          2194.25,
          17716,
          2223.84,
          13317.119999999999,
          -4847.5,
          22893,
          -27693.75,
          20506.199999999997,
          -12538.75,
          -8286.25,
          17716,
          7225.950000000001,
          467.4000000000001,
          42528,
          -24160,
          -21560,
          8604.800000000003,
          2166.3999999999996,
          24822,
          2807.2000000000007,
          3171.4399999999987,
          13034,
          16604,
          48930,
          42528,
          -21560,
          6878,
          13034,
          76512,
          19026,
          30100,
          57456,
          1216,
          9370.8,
          66960,
          47328,
          6878,
          15944.04,
          12398.399999999998,
          29904,
          47328,
          -23870,
          9370.8,
          12960,
          3968.9399999999987,
          3171.4399999999987,
          8153.5999999999985,
          19163.399999999998,
          20117.16,
          11635.599999999999,
          1729.5599999999995,
          11635.599999999999,
          20873.16,
          7829.3499999999985,
          7829.3499999999985,
          41073.5,
          79655,
          3270.8,
          43721.25,
          1414.8199999999997,
          4493.76,
          16687,
          9242.599999999999,
          1567.9649999999992,
          8877,
          19543.4,
          20039.199999999997,
          117124,
          -17808.75,
          4248.24,
          2938.6399999999994,
          4773.25,
          9242.599999999999,
          15886.5,
          7536.719999999999,
          12192.375,
          117124,
          1297.1000000000004,
          4493.76,
          2013,
          3050.3999999999996,
          28655,
          7536.719999999999,
          -17808.75,
          4773.25,
          -18663.75,
          1297.1000000000004,
          3050.3999999999996,
          13168.8,
          18568.800000000003,
          12549.599999999999,
          3055.9199999999983,
          285.5999999999999,
          298.8600000000001,
          3055.9199999999983,
          806.1999999999998,
          17481.6,
          5124.299999999999,
          10196.76,
          285.5999999999999,
          10196.76,
          14749.8,
          6408,
          -12787.5,
          11968,
          8080,
          4387.700000000001,
          6670,
          -35262.5,
          91327.5,
          49159,
          8200,
          395.7600000000002,
          1761.5400000000009,
          6670,
          1872,
          7163,
          5054.700000000001,
          21330.48,
          1765.619999999999,
          28700,
          16265.04,
          48257,
          78802,
          -19687.5,
          4363.200000000001,
          19680,
          2152,
          20288,
          2961.0600000000013,
          20328,
          2152,
          11968,
          8080,
          52521,
          7104,
          -35550,
          18117,
          5054.700000000001,
          21330.48,
          1765.619999999999,
          1761.5400000000009,
          5423,
          -16142.5,
          -38046.25,
          -14918.75,
          2730,
          8106,
          4438.5,
          2408.25,
          106912.5,
          7037.25,
          1869,
          -14918.75,
          3231.25,
          75262.5,
          80662.5,
          6580.799999999999,
          2051,
          3600,
          7771.5,
          -9116.25,
          12870,
          -33522.5,
          6580.799999999999,
          6058.5,
          1353,
          1869,
          3231.25,
          -40617.5,
          -7590,
          2051,
          12375,
          2730,
          1299.6000000000004,
          686.8500000000001,
          13003.2
         ]
        }
       ],
       "layout": {
        "autosize": true,
        "coloraxis": {
         "colorbar": {
          "title": {
           "text": "Profit"
          }
         },
         "colorscale": [
          [
           0,
           "#0d0887"
          ],
          [
           0.1111111111111111,
           "#46039f"
          ],
          [
           0.2222222222222222,
           "#7201a8"
          ],
          [
           0.3333333333333333,
           "#9c179e"
          ],
          [
           0.4444444444444444,
           "#bd3786"
          ],
          [
           0.5555555555555556,
           "#d8576b"
          ],
          [
           0.6666666666666666,
           "#ed7953"
          ],
          [
           0.7777777777777778,
           "#fb9f3a"
          ],
          [
           0.8888888888888888,
           "#fdca26"
          ],
          [
           1,
           "#f0f921"
          ]
         ]
        },
        "geo": {
         "center": {},
         "domain": {
          "x": [
           0,
           1
          ],
          "y": [
           0,
           1
          ]
         }
        },
        "legend": {
         "tracegroupgap": 0
        },
        "template": {
         "data": {
          "bar": [
           {
            "error_x": {
             "color": "#2a3f5f"
            },
            "error_y": {
             "color": "#2a3f5f"
            },
            "marker": {
             "line": {
              "color": "#E5ECF6",
              "width": 0.5
             },
             "pattern": {
              "fillmode": "overlay",
              "size": 10,
              "solidity": 0.2
             }
            },
            "type": "bar"
           }
          ],
          "barpolar": [
           {
            "marker": {
             "line": {
              "color": "#E5ECF6",
              "width": 0.5
             },
             "pattern": {
              "fillmode": "overlay",
              "size": 10,
              "solidity": 0.2
             }
            },
            "type": "barpolar"
           }
          ],
          "carpet": [
           {
            "aaxis": {
             "endlinecolor": "#2a3f5f",
             "gridcolor": "white",
             "linecolor": "white",
             "minorgridcolor": "white",
             "startlinecolor": "#2a3f5f"
            },
            "baxis": {
             "endlinecolor": "#2a3f5f",
             "gridcolor": "white",
             "linecolor": "white",
             "minorgridcolor": "white",
             "startlinecolor": "#2a3f5f"
            },
            "type": "carpet"
           }
          ],
          "choropleth": [
           {
            "colorbar": {
             "outlinewidth": 0,
             "ticks": ""
            },
            "type": "choropleth"
           }
          ],
          "contour": [
           {
            "colorbar": {
             "outlinewidth": 0,
             "ticks": ""
            },
            "colorscale": [
             [
              0,
              "#0d0887"
             ],
             [
              0.1111111111111111,
              "#46039f"
             ],
             [
              0.2222222222222222,
              "#7201a8"
             ],
             [
              0.3333333333333333,
              "#9c179e"
             ],
             [
              0.4444444444444444,
              "#bd3786"
             ],
             [
              0.5555555555555556,
              "#d8576b"
             ],
             [
              0.6666666666666666,
              "#ed7953"
             ],
             [
              0.7777777777777778,
              "#fb9f3a"
             ],
             [
              0.8888888888888888,
              "#fdca26"
             ],
             [
              1,
              "#f0f921"
             ]
            ],
            "type": "contour"
           }
          ],
          "contourcarpet": [
           {
            "colorbar": {
             "outlinewidth": 0,
             "ticks": ""
            },
            "type": "contourcarpet"
           }
          ],
          "heatmap": [
           {
            "colorbar": {
             "outlinewidth": 0,
             "ticks": ""
            },
            "colorscale": [
             [
              0,
              "#0d0887"
             ],
             [
              0.1111111111111111,
              "#46039f"
             ],
             [
              0.2222222222222222,
              "#7201a8"
             ],
             [
              0.3333333333333333,
              "#9c179e"
             ],
             [
              0.4444444444444444,
              "#bd3786"
             ],
             [
              0.5555555555555556,
              "#d8576b"
             ],
             [
              0.6666666666666666,
              "#ed7953"
             ],
             [
              0.7777777777777778,
              "#fb9f3a"
             ],
             [
              0.8888888888888888,
              "#fdca26"
             ],
             [
              1,
              "#f0f921"
             ]
            ],
            "type": "heatmap"
           }
          ],
          "heatmapgl": [
           {
            "colorbar": {
             "outlinewidth": 0,
             "ticks": ""
            },
            "colorscale": [
             [
              0,
              "#0d0887"
             ],
             [
              0.1111111111111111,
              "#46039f"
             ],
             [
              0.2222222222222222,
              "#7201a8"
             ],
             [
              0.3333333333333333,
              "#9c179e"
             ],
             [
              0.4444444444444444,
              "#bd3786"
             ],
             [
              0.5555555555555556,
              "#d8576b"
             ],
             [
              0.6666666666666666,
              "#ed7953"
             ],
             [
              0.7777777777777778,
              "#fb9f3a"
             ],
             [
              0.8888888888888888,
              "#fdca26"
             ],
             [
              1,
              "#f0f921"
             ]
            ],
            "type": "heatmapgl"
           }
          ],
          "histogram": [
           {
            "marker": {
             "pattern": {
              "fillmode": "overlay",
              "size": 10,
              "solidity": 0.2
             }
            },
            "type": "histogram"
           }
          ],
          "histogram2d": [
           {
            "colorbar": {
             "outlinewidth": 0,
             "ticks": ""
            },
            "colorscale": [
             [
              0,
              "#0d0887"
             ],
             [
              0.1111111111111111,
              "#46039f"
             ],
             [
              0.2222222222222222,
              "#7201a8"
             ],
             [
              0.3333333333333333,
              "#9c179e"
             ],
             [
              0.4444444444444444,
              "#bd3786"
             ],
             [
              0.5555555555555556,
              "#d8576b"
             ],
             [
              0.6666666666666666,
              "#ed7953"
             ],
             [
              0.7777777777777778,
              "#fb9f3a"
             ],
             [
              0.8888888888888888,
              "#fdca26"
             ],
             [
              1,
              "#f0f921"
             ]
            ],
            "type": "histogram2d"
           }
          ],
          "histogram2dcontour": [
           {
            "colorbar": {
             "outlinewidth": 0,
             "ticks": ""
            },
            "colorscale": [
             [
              0,
              "#0d0887"
             ],
             [
              0.1111111111111111,
              "#46039f"
             ],
             [
              0.2222222222222222,
              "#7201a8"
             ],
             [
              0.3333333333333333,
              "#9c179e"
             ],
             [
              0.4444444444444444,
              "#bd3786"
             ],
             [
              0.5555555555555556,
              "#d8576b"
             ],
             [
              0.6666666666666666,
              "#ed7953"
             ],
             [
              0.7777777777777778,
              "#fb9f3a"
             ],
             [
              0.8888888888888888,
              "#fdca26"
             ],
             [
              1,
              "#f0f921"
             ]
            ],
            "type": "histogram2dcontour"
           }
          ],
          "mesh3d": [
           {
            "colorbar": {
             "outlinewidth": 0,
             "ticks": ""
            },
            "type": "mesh3d"
           }
          ],
          "parcoords": [
           {
            "line": {
             "colorbar": {
              "outlinewidth": 0,
              "ticks": ""
             }
            },
            "type": "parcoords"
           }
          ],
          "pie": [
           {
            "automargin": true,
            "type": "pie"
           }
          ],
          "scatter": [
           {
            "fillpattern": {
             "fillmode": "overlay",
             "size": 10,
             "solidity": 0.2
            },
            "type": "scatter"
           }
          ],
          "scatter3d": [
           {
            "line": {
             "colorbar": {
              "outlinewidth": 0,
              "ticks": ""
             }
            },
            "marker": {
             "colorbar": {
              "outlinewidth": 0,
              "ticks": ""
             }
            },
            "type": "scatter3d"
           }
          ],
          "scattercarpet": [
           {
            "marker": {
             "colorbar": {
              "outlinewidth": 0,
              "ticks": ""
             }
            },
            "type": "scattercarpet"
           }
          ],
          "scattergeo": [
           {
            "marker": {
             "colorbar": {
              "outlinewidth": 0,
              "ticks": ""
             }
            },
            "type": "scattergeo"
           }
          ],
          "scattergl": [
           {
            "marker": {
             "colorbar": {
              "outlinewidth": 0,
              "ticks": ""
             }
            },
            "type": "scattergl"
           }
          ],
          "scattermapbox": [
           {
            "marker": {
             "colorbar": {
              "outlinewidth": 0,
              "ticks": ""
             }
            },
            "type": "scattermapbox"
           }
          ],
          "scatterpolar": [
           {
            "marker": {
             "colorbar": {
              "outlinewidth": 0,
              "ticks": ""
             }
            },
            "type": "scatterpolar"
           }
          ],
          "scatterpolargl": [
           {
            "marker": {
             "colorbar": {
              "outlinewidth": 0,
              "ticks": ""
             }
            },
            "type": "scatterpolargl"
           }
          ],
          "scatterternary": [
           {
            "marker": {
             "colorbar": {
              "outlinewidth": 0,
              "ticks": ""
             }
            },
            "type": "scatterternary"
           }
          ],
          "surface": [
           {
            "colorbar": {
             "outlinewidth": 0,
             "ticks": ""
            },
            "colorscale": [
             [
              0,
              "#0d0887"
             ],
             [
              0.1111111111111111,
              "#46039f"
             ],
             [
              0.2222222222222222,
              "#7201a8"
             ],
             [
              0.3333333333333333,
              "#9c179e"
             ],
             [
              0.4444444444444444,
              "#bd3786"
             ],
             [
              0.5555555555555556,
              "#d8576b"
             ],
             [
              0.6666666666666666,
              "#ed7953"
             ],
             [
              0.7777777777777778,
              "#fb9f3a"
             ],
             [
              0.8888888888888888,
              "#fdca26"
             ],
             [
              1,
              "#f0f921"
             ]
            ],
            "type": "surface"
           }
          ],
          "table": [
           {
            "cells": {
             "fill": {
              "color": "#EBF0F8"
             },
             "line": {
              "color": "white"
             }
            },
            "header": {
             "fill": {
              "color": "#C8D4E3"
             },
             "line": {
              "color": "white"
             }
            },
            "type": "table"
           }
          ]
         },
         "layout": {
          "annotationdefaults": {
           "arrowcolor": "#2a3f5f",
           "arrowhead": 0,
           "arrowwidth": 1
          },
          "autotypenumbers": "strict",
          "coloraxis": {
           "colorbar": {
            "outlinewidth": 0,
            "ticks": ""
           }
          },
          "colorscale": {
           "diverging": [
            [
             0,
             "#8e0152"
            ],
            [
             0.1,
             "#c51b7d"
            ],
            [
             0.2,
             "#de77ae"
            ],
            [
             0.3,
             "#f1b6da"
            ],
            [
             0.4,
             "#fde0ef"
            ],
            [
             0.5,
             "#f7f7f7"
            ],
            [
             0.6,
             "#e6f5d0"
            ],
            [
             0.7,
             "#b8e186"
            ],
            [
             0.8,
             "#7fbc41"
            ],
            [
             0.9,
             "#4d9221"
            ],
            [
             1,
             "#276419"
            ]
           ],
           "sequential": [
            [
             0,
             "#0d0887"
            ],
            [
             0.1111111111111111,
             "#46039f"
            ],
            [
             0.2222222222222222,
             "#7201a8"
            ],
            [
             0.3333333333333333,
             "#9c179e"
            ],
            [
             0.4444444444444444,
             "#bd3786"
            ],
            [
             0.5555555555555556,
             "#d8576b"
            ],
            [
             0.6666666666666666,
             "#ed7953"
            ],
            [
             0.7777777777777778,
             "#fb9f3a"
            ],
            [
             0.8888888888888888,
             "#fdca26"
            ],
            [
             1,
             "#f0f921"
            ]
           ],
           "sequentialminus": [
            [
             0,
             "#0d0887"
            ],
            [
             0.1111111111111111,
             "#46039f"
            ],
            [
             0.2222222222222222,
             "#7201a8"
            ],
            [
             0.3333333333333333,
             "#9c179e"
            ],
            [
             0.4444444444444444,
             "#bd3786"
            ],
            [
             0.5555555555555556,
             "#d8576b"
            ],
            [
             0.6666666666666666,
             "#ed7953"
            ],
            [
             0.7777777777777778,
             "#fb9f3a"
            ],
            [
             0.8888888888888888,
             "#fdca26"
            ],
            [
             1,
             "#f0f921"
            ]
           ]
          },
          "colorway": [
           "#636efa",
           "#EF553B",
           "#00cc96",
           "#ab63fa",
           "#FFA15A",
           "#19d3f3",
           "#FF6692",
           "#B6E880",
           "#FF97FF",
           "#FECB52"
          ],
          "font": {
           "color": "#2a3f5f"
          },
          "geo": {
           "bgcolor": "white",
           "lakecolor": "white",
           "landcolor": "#E5ECF6",
           "showlakes": true,
           "showland": true,
           "subunitcolor": "white"
          },
          "hoverlabel": {
           "align": "left"
          },
          "hovermode": "closest",
          "mapbox": {
           "style": "light"
          },
          "paper_bgcolor": "white",
          "plot_bgcolor": "#E5ECF6",
          "polar": {
           "angularaxis": {
            "gridcolor": "white",
            "linecolor": "white",
            "ticks": ""
           },
           "bgcolor": "#E5ECF6",
           "radialaxis": {
            "gridcolor": "white",
            "linecolor": "white",
            "ticks": ""
           }
          },
          "scene": {
           "xaxis": {
            "backgroundcolor": "#E5ECF6",
            "gridcolor": "white",
            "gridwidth": 2,
            "linecolor": "white",
            "showbackground": true,
            "ticks": "",
            "zerolinecolor": "white"
           },
           "yaxis": {
            "backgroundcolor": "#E5ECF6",
            "gridcolor": "white",
            "gridwidth": 2,
            "linecolor": "white",
            "showbackground": true,
            "ticks": "",
            "zerolinecolor": "white"
           },
           "zaxis": {
            "backgroundcolor": "#E5ECF6",
            "gridcolor": "white",
            "gridwidth": 2,
            "linecolor": "white",
            "showbackground": true,
            "ticks": "",
            "zerolinecolor": "white"
           }
          },
          "shapedefaults": {
           "line": {
            "color": "#2a3f5f"
           }
          },
          "ternary": {
           "aaxis": {
            "gridcolor": "white",
            "linecolor": "white",
            "ticks": ""
           },
           "baxis": {
            "gridcolor": "white",
            "linecolor": "white",
            "ticks": ""
           },
           "bgcolor": "#E5ECF6",
           "caxis": {
            "gridcolor": "white",
            "linecolor": "white",
            "ticks": ""
           }
          },
          "title": {
           "x": 0.05
          },
          "xaxis": {
           "automargin": true,
           "gridcolor": "white",
           "linecolor": "white",
           "ticks": "",
           "title": {
            "standoff": 15
           },
           "zerolinecolor": "white",
           "zerolinewidth": 2
          },
          "yaxis": {
           "automargin": true,
           "gridcolor": "white",
           "linecolor": "white",
           "ticks": "",
           "title": {
            "standoff": 15
           },
           "zerolinecolor": "white",
           "zerolinewidth": 2
          }
         }
        },
        "title": {
         "text": "Soma de lucro (profit) por país"
        }
       }
      },
      "image/png": "[encoded data removed]",
      "text/html": [
       "<div>                            <div id=\"ad0ca25e-58c1-4dc3-ac25-b18a189b58dd\" class=\"plotly-graph-div\" style=\"height:525px; width:100%;\"></div>            <script type=\"text/javascript\">                require([\"plotly\"], function(Plotly) {                    window.PLOTLYENV=window.PLOTLYENV || {};                                    if (document.getElementById(\"ad0ca25e-58c1-4dc3-ac25-b18a189b58dd\")) {                    Plotly.newPlot(                        \"ad0ca25e-58c1-4dc3-ac25-b18a189b58dd\",                        [{\"coloraxis\":\"coloraxis\",\"customdata\":[[\"Canada\"],[\"Germany\"],[\"France\"],[\"Germany\"],[\"Mexico\"],[\"Germany\"],[\"Germany\"],[\"Canada\"],[\"France\"],[\"Germany\"],[\"Mexico\"],[\"Canada\"],[\"Mexico\"],[\"Germany\"],[\"Canada\"],[\"United States of America\"],[\"Canada\"],[\"Mexico\"],[\"Canada\"],[\"Germany\"],[\"Germany\"],[\"Mexico\"],[\"France\"],[\"Mexico\"],[\"Mexico\"],[\"United States of America\"],[\"Canada\"],[\"United States of America\"],[\"Canada\"],[\"Canada\"],[\"Germany\"],[\"Mexico\"],[\"France\"],[\"Germany\"],[\"Germany\"],[\"Germany\"],[\"United States of America\"],[\"Canada\"],[\"Canada\"],[\"Germany\"],[\"France\"],[\"Germany\"],[\"France\"],[\"France\"],[\"Canada\"],[\"France\"],[\"United States of America\"],[\"Germany\"],[\"France\"],[\"Germany\"],[\"United States of America\"],[\"United States of America\"],[\"United States of America\"],[\"France\"],[\"France\"],[\"France\"],[\"France\"],[\"Canada\"],[\"United States of America\"],[\"Mexico\"],[\"United States of America\"],[\"Canada\"],[\"United States of America\"],[\"France\"],[\"Germany\"],[\"Mexico\"],[\"Mexico\"],[\"France\"],[\"Mexico\"],[\"United States of America\"],[\"France\"],[\"Canada\"],[\"United States of America\"],[\"United States of America\"],[\"United States of America\"],[\"United States of America\"],[\"United States of America\"],[\"France\"],[\"Mexico\"],[\"Germany\"],[\"Germany\"],[\"United States of America\"],[\"France\"],[\"France\"],[\"Mexico\"],[\"Canada\"],[\"United States of America\"],[\"Canada\"],[\"Germany\"],[\"Canada\"],[\"United States of America\"],[\"France\"],[\"Germany\"],[\"Mexico\"],[\"Mexico\"],[\"France\"],[\"United States of America\"],[\"France\"],[\"Canada\"],[\"Canada\"],[\"Germany\"],[\"France\"],[\"Canada\"],[\"United States of America\"],[\"United States of America\"],[\"Mexico\"],[\"Mexico\"],[\"Canada\"],[\"France\"],[\"Germany\"],[\"United States of America\"],[\"Mexico\"],[\"Canada\"],[\"Germany\"],[\"Mexico\"],[\"France\"],[\"Canada\"],[\"Canada\"],[\"Canada\"],[\"United States of America\"],[\"United States of America\"],[\"France\"],[\"Mexico\"],[\"United States of America\"],[\"Germany\"],[\"Germany\"],[\"Germany\"],[\"Mexico\"],[\"France\"],[\"Mexico\"],[\"Mexico\"],[\"Mexico\"],[\"Germany\"],[\"Germany\"],[\"Canada\"],[\"United States of America\"],[\"Mexico\"],[\"Germany\"],[\"Mexico\"],[\"Germany\"],[\"Germany\"],[\"United States of America\"],[\"France\"],[\"Canada\"],[\"France\"],[\"Germany\"],[\"Germany\"],[\"United States of America\"],[\"Canada\"],[\"Germany\"],[\"France\"],[\"France\"],[\"Germany\"],[\"France\"],[\"Germany\"],[\"France\"],[\"Canada\"],[\"France\"],[\"Germany\"],[\"Germany\"],[\"United States of America\"],[\"Canada\"],[\"Germany\"],[\"France\"],[\"Germany\"],[\"Canada\"],[\"United States of America\"],[\"Mexico\"],[\"Germany\"],[\"Canada\"],[\"Mexico\"],[\"Germany\"],[\"Canada\"],[\"Mexico\"],[\"Canada\"],[\"Germany\"],[\"Mexico\"],[\"Mexico\"],[\"France\"],[\"United States of America\"],[\"Canada\"],[\"Germany\"],[\"United States of America\"],[\"Canada\"],[\"Germany\"],[\"Canada\"],[\"Germany\"],[\"Mexico\"],[\"Canada\"],[\"Germany\"],[\"Germany\"],[\"United States of America\"],[\"United States of America\"],[\"France\"],[\"Canada\"],[\"Canada\"],[\"United States of America\"],[\"United States of America\"],[\"Mexico\"],[\"United States of America\"],[\"Mexico\"],[\"United States of America\"],[\"Canada\"],[\"France\"],[\"France\"],[\"United States of America\"],[\"France\"],[\"Mexico\"],[\"Mexico\"],[\"Mexico\"],[\"Germany\"],[\"United States of America\"],[\"Canada\"],[\"Germany\"],[\"Germany\"],[\"Canada\"],[\"Mexico\"],[\"Canada\"],[\"Canada\"],[\"Mexico\"],[\"Mexico\"],[\"Mexico\"],[\"Germany\"],[\"France\"],[\"Germany\"],[\"France\"],[\"United States of America\"],[\"Germany\"],[\"Mexico\"],[\"United States of America\"],[\"France\"],[\"France\"],[\"United States of America\"],[\"Mexico\"],[\"Germany\"],[\"Mexico\"],[\"France\"],[\"United States of America\"],[\"France\"],[\"Mexico\"],[\"United States of America\"],[\"United States of America\"],[\"United States of America\"],[\"France\"],[\"Canada\"],[\"Canada\"],[\"United States of America\"],[\"France\"],[\"Canada\"],[\"United States of America\"],[\"France\"],[\"Germany\"],[\"United States of America\"],[\"Mexico\"],[\"Germany\"],[\"United States of America\"],[\"United States of America\"],[\"France\"],[\"United States of America\"],[\"France\"],[\"France\"],[\"Germany\"],[\"Canada\"],[\"United States of America\"],[\"Germany\"],[\"United States of America\"],[\"United States of America\"],[\"France\"],[\"Germany\"],[\"Canada\"],[\"Canada\"],[\"Germany\"],[\"France\"],[\"United States of America\"],[\"Canada\"],[\"Mexico\"],[\"Canada\"],[\"United States of America\"],[\"United States of America\"],[\"Germany\"],[\"Mexico\"],[\"Germany\"],[\"France\"],[\"United States of America\"],[\"France\"],[\"Canada\"],[\"United States of America\"],[\"Canada\"],[\"United States of America\"],[\"Germany\"],[\"France\"],[\"Mexico\"],[\"France\"],[\"France\"],[\"Canada\"],[\"Mexico\"],[\"France\"],[\"Mexico\"],[\"Canada\"],[\"France\"],[\"Mexico\"],[\"United States of America\"],[\"France\"],[\"France\"],[\"France\"],[\"United States of America\"],[\"Germany\"],[\"United States of America\"],[\"France\"],[\"Germany\"],[\"Mexico\"],[\"United States of America\"],[\"Mexico\"],[\"Canada\"],[\"Mexico\"],[\"Mexico\"],[\"France\"],[\"France\"],[\"Canada\"],[\"Canada\"],[\"United States of America\"],[\"Canada\"],[\"France\"],[\"Germany\"],[\"Canada\"],[\"Canada\"],[\"United States of America\"],[\"France\"],[\"France\"],[\"France\"],[\"France\"],[\"Germany\"],[\"Canada\"],[\"France\"],[\"Germany\"],[\"France\"],[\"United States of America\"],[\"France\"],[\"Germany\"],[\"Canada\"],[\"Mexico\"],[\"Germany\"],[\"France\"],[\"Mexico\"],[\"Germany\"],[\"France\"],[\"United States of America\"],[\"United States of America\"],[\"Germany\"],[\"Canada\"],[\"France\"],[\"Mexico\"],[\"Canada\"],[\"France\"],[\"Germany\"],[\"Canada\"],[\"United States of America\"],[\"Canada\"],[\"United States of America\"],[\"Canada\"],[\"United States of America\"],[\"Mexico\"],[\"France\"],[\"Mexico\"],[\"France\"],[\"Canada\"],[\"Germany\"],[\"France\"],[\"Canada\"],[\"Germany\"],[\"Mexico\"],[\"Germany\"],[\"Germany\"],[\"Germany\"],[\"Mexico\"],[\"United States of America\"],[\"Germany\"],[\"Germany\"],[\"Germany\"],[\"Mexico\"],[\"Germany\"],[\"Mexico\"],[\"Mexico\"],[\"Canada\"],[\"United States of America\"],[\"Germany\"],[\"France\"],[\"Mexico\"],[\"France\"],[\"Germany\"],[\"France\"],[\"Germany\"],[\"Canada\"],[\"United States of America\"],[\"Canada\"],[\"United States of America\"],[\"Germany\"],[\"Mexico\"],[\"Germany\"],[\"Germany\"],[\"Mexico\"],[\"Mexico\"],[\"United States of America\"],[\"Canada\"],[\"Mexico\"],[\"Canada\"],[\"France\"],[\"France\"],[\"Canada\"],[\"France\"],[\"Canada\"],[\"United States of America\"],[\"Germany\"],[\"Mexico\"],[\"Mexico\"],[\"United States of America\"],[\"Canada\"],[\"France\"],[\"Mexico\"],[\"France\"],[\"Germany\"],[\"United States of America\"],[\"Mexico\"],[\"Canada\"],[\"Germany\"],[\"Canada\"],[\"Mexico\"],[\"Canada\"],[\"United States of America\"],[\"Germany\"],[\"United States of America\"],[\"Germany\"],[\"United States of America\"],[\"France\"],[\"France\"],[\"Mexico\"],[\"United States of America\"],[\"Canada\"],[\"Germany\"],[\"Mexico\"],[\"Germany\"],[\"Canada\"],[\"Germany\"],[\"Mexico\"],[\"United States of America\"],[\"Mexico\"],[\"Germany\"],[\"France\"],[\"Mexico\"],[\"Germany\"],[\"France\"],[\"Mexico\"],[\"Mexico\"],[\"Canada\"],[\"France\"],[\"United States of America\"],[\"United States of America\"],[\"United States of America\"],[\"United States of America\"],[\"France\"],[\"United States of America\"],[\"United States of America\"],[\"France\"],[\"France\"],[\"Mexico\"],[\"France\"],[\"Germany\"],[\"Germany\"],[\"Germany\"],[\"United States of America\"],[\"France\"],[\"United States of America\"],[\"United States of America\"],[\"Germany\"],[\"Germany\"],[\"Canada\"],[\"France\"],[\"Mexico\"],[\"Mexico\"],[\"United States of America\"],[\"Mexico\"],[\"United States of America\"],[\"France\"],[\"Canada\"],[\"Germany\"],[\"United States of America\"],[\"Canada\"],[\"United States of America\"],[\"Canada\"],[\"Mexico\"],[\"Germany\"],[\"Canada\"],[\"France\"],[\"France\"],[\"France\"],[\"France\"],[\"France\"],[\"Canada\"],[\"Germany\"],[\"United States of America\"],[\"Mexico\"],[\"United States of America\"],[\"Germany\"],[\"Canada\"],[\"Germany\"],[\"Germany\"],[\"France\"],[\"Canada\"],[\"Mexico\"],[\"Germany\"],[\"Germany\"],[\"Mexico\"],[\"Canada\"],[\"Mexico\"],[\"Canada\"],[\"Canada\"],[\"France\"],[\"Canada\"],[\"Mexico\"],[\"France\"],[\"Germany\"],[\"Canada\"],[\"France\"],[\"Mexico\"],[\"Mexico\"],[\"Canada\"],[\"France\"],[\"Mexico\"],[\"Canada\"],[\"Germany\"],[\"Mexico\"],[\"France\"],[\"Mexico\"],[\"Mexico\"],[\"Mexico\"],[\"United States of America\"],[\"Mexico\"],[\"Canada\"],[\"Mexico\"],[\"Canada\"],[\"United States of America\"],[\"France\"],[\"Mexico\"],[\"Canada\"],[\"Mexico\"],[\"France\"],[\"United States of America\"],[\"Mexico\"],[\"Mexico\"],[\"Mexico\"],[\"Mexico\"],[\"France\"],[\"Germany\"],[\"Mexico\"],[\"Mexico\"],[\"Mexico\"],[\"Mexico\"],[\"Mexico\"],[\"United States of America\"],[\"Mexico\"],[\"Canada\"],[\"France\"],[\"Canada\"],[\"United States of America\"],[\"United States of America\"],[\"Mexico\"],[\"United States of America\"],[\"France\"],[\"Canada\"],[\"United States of America\"],[\"France\"],[\"Mexico\"],[\"Germany\"],[\"France\"],[\"Germany\"],[\"Canada\"],[\"United States of America\"],[\"United States of America\"],[\"Canada\"],[\"France\"],[\"Germany\"],[\"United States of America\"],[\"United States of America\"],[\"Mexico\"],[\"Mexico\"],[\"Canada\"],[\"United States of America\"],[\"Germany\"],[\"United States of America\"],[\"Germany\"],[\"Canada\"],[\"Canada\"],[\"Mexico\"],[\"France\"],[\"Canada\"],[\"Canada\"],[\"Germany\"],[\"Germany\"],[\"France\"],[\"Canada\"],[\"France\"],[\"Mexico\"],[\"Germany\"],[\"Mexico\"],[\"Mexico\"],[\"Germany\"],[\"Canada\"],[\"Canada\"],[\"Canada\"],[\"France\"],[\"Mexico\"],[\"Germany\"],[\"Mexico\"],[\"United States of America\"],[\"United States of America\"],[\"Germany\"],[\"France\"],[\"United States of America\"],[\"Germany\"],[\"Canada\"],[\"United States of America\"],[\"France\"],[\"Germany\"],[\"France\"],[\"United States of America\"],[\"Mexico\"],[\"France\"],[\"Canada\"],[\"United States of America\"],[\"Germany\"],[\"Canada\"],[\"Mexico\"],[\"Canada\"],[\"Germany\"],[\"Canada\"],[\"Canada\"],[\"Mexico\"],[\"Canada\"],[\"Mexico\"],[\"Canada\"],[\"Canada\"],[\"United States of America\"],[\"France\"],[\"Canada\"],[\"Canada\"],[\"United States of America\"],[\"France\"],[\"Mexico\"],[\"United States of America\"],[\"United States of America\"],[\"Canada\"],[\"Germany\"],[\"Mexico\"],[\"United States of America\"],[\"Canada\"],[\"Canada\"],[\"United States of America\"],[\"France\"],[\"Canada\"],[\"United States of America\"],[\"France\"],[\"Canada\"],[\"United States of America\"],[\"France\"],[\"Mexico\"],[\"Mexico\"],[\"France\"],[\"Germany\"],[\"Germany\"],[\"Mexico\"],[\"Germany\"],[\"Canada\"],[\"Mexico\"],[\"Mexico\"],[\"Canada\"],[\"United States of America\"],[\"Germany\"],[\"Germany\"],[\"United States of America\"],[\"Mexico\"],[\"United States of America\"],[\"France\"],[\"Mexico\"],[\"France\"],[\"France\"],[\"United States of America\"],[\"United States of America\"],[\"United States of America\"],[\"Canada\"],[\"Germany\"],[\"United States of America\"],[\"Germany\"],[\"Canada\"],[\"Germany\"],[\"France\"],[\"France\"],[\"Mexico\"],[\"Mexico\"],[\"Canada\"],[\"United States of America\"]],\"geo\":\"geo\",\"hovertemplate\":\"<b>%{hovertext}</b><br><br>Country=%{customdata[0]}<br>Profit=%{z}<extra></extra>\",\"hovertext\":[\"Canada\",\"Germany\",\"France\",\"Germany\",\"Mexico\",\"Germany\",\"Germany\",\"Canada\",\"France\",\"Germany\",\"Mexico\",\"Canada\",\"Mexico\",\"Germany\",\"Canada\",\"United States of America\",\"Canada\",\"Mexico\",\"Canada\",\"Germany\",\"Germany\",\"Mexico\",\"France\",\"Mexico\",\"Mexico\",\"United States of America\",\"Canada\",\"United States of America\",\"Canada\",\"Canada\",\"Germany\",\"Mexico\",\"France\",\"Germany\",\"Germany\",\"Germany\",\"United States of America\",\"Canada\",\"Canada\",\"Germany\",\"France\",\"Germany\",\"France\",\"France\",\"Canada\",\"France\",\"United States of America\",\"Germany\",\"France\",\"Germany\",\"United States of America\",\"United States of America\",\"United States of America\",\"France\",\"France\",\"France\",\"France\",\"Canada\",\"United States of America\",\"Mexico\",\"United States of America\",\"Canada\",\"United States of America\",\"France\",\"Germany\",\"Mexico\",\"Mexico\",\"France\",\"Mexico\",\"United States of America\",\"France\",\"Canada\",\"United States of America\",\"United States of America\",\"United States of America\",\"United States of America\",\"United States of America\",\"France\",\"Mexico\",\"Germany\",\"Germany\",\"United States of America\",\"France\",\"France\",\"Mexico\",\"Canada\",\"United States of America\",\"Canada\",\"Germany\",\"Canada\",\"United States of America\",\"France\",\"Germany\",\"Mexico\",\"Mexico\",\"France\",\"United States of America\",\"France\",\"Canada\",\"Canada\",\"Germany\",\"France\",\"Canada\",\"United States of America\",\"United States of America\",\"Mexico\",\"Mexico\",\"Canada\",\"France\",\"Germany\",\"United States of America\",\"Mexico\",\"Canada\",\"Germany\",\"Mexico\",\"France\",\"Canada\",\"Canada\",\"Canada\",\"United States of America\",\"United States of America\",\"France\",\"Mexico\",\"United States of America\",\"Germany\",\"Germany\",\"Germany\",\"Mexico\",\"France\",\"Mexico\",\"Mexico\",\"Mexico\",\"Germany\",\"Germany\",\"Canada\",\"United States of America\",\"Mexico\",\"Germany\",\"Mexico\",\"Germany\",\"Germany\",\"United States of America\",\"France\",\"Canada\",\"France\",\"Germany\",\"Germany\",\"United States of America\",\"Canada\",\"Germany\",\"France\",\"France\",\"Germany\",\"France\",\"Germany\",\"France\",\"Canada\",\"France\",\"Germany\",\"Germany\",\"United States of America\",\"Canada\",\"Germany\",\"France\",\"Germany\",\"Canada\",\"United States of America\",\"Mexico\",\"Germany\",\"Canada\",\"Mexico\",\"Germany\",\"Canada\",\"Mexico\",\"Canada\",\"Germany\",\"Mexico\",\"Mexico\",\"France\",\"United States of America\",\"Canada\",\"Germany\",\"United States of America\",\"Canada\",\"Germany\",\"Canada\",\"Germany\",\"Mexico\",\"Canada\",\"Germany\",\"Germany\",\"United States of America\",\"United States of America\",\"France\",\"Canada\",\"Canada\",\"United States of America\",\"United States of America\",\"Mexico\",\"United States of America\",\"Mexico\",\"United States of America\",\"Canada\",\"France\",\"France\",\"United States of America\",\"France\",\"Mexico\",\"Mexico\",\"Mexico\",\"Germany\",\"United States of America\",\"Canada\",\"Germany\",\"Germany\",\"Canada\",\"Mexico\",\"Canada\",\"Canada\",\"Mexico\",\"Mexico\",\"Mexico\",\"Germany\",\"France\",\"Germany\",\"France\",\"United States of America\",\"Germany\",\"Mexico\",\"United States of America\",\"France\",\"France\",\"United States of America\",\"Mexico\",\"Germany\",\"Mexico\",\"France\",\"United States of America\",\"France\",\"Mexico\",\"United States of America\",\"United States of America\",\"United States of America\",\"France\",\"Canada\",\"Canada\",\"United States of America\",\"France\",\"Canada\",\"United States of America\",\"France\",\"Germany\",\"United States of America\",\"Mexico\",\"Germany\",\"United States of America\",\"United States of America\",\"France\",\"United States of America\",\"France\",\"France\",\"Germany\",\"Canada\",\"United States of America\",\"Germany\",\"United States of America\",\"United States of America\",\"France\",\"Germany\",\"Canada\",\"Canada\",\"Germany\",\"France\",\"United States of America\",\"Canada\",\"Mexico\",\"Canada\",\"United States of America\",\"United States of America\",\"Germany\",\"Mexico\",\"Germany\",\"France\",\"United States of America\",\"France\",\"Canada\",\"United States of America\",\"Canada\",\"United States of America\",\"Germany\",\"France\",\"Mexico\",\"France\",\"France\",\"Canada\",\"Mexico\",\"France\",\"Mexico\",\"Canada\",\"France\",\"Mexico\",\"United States of America\",\"France\",\"France\",\"France\",\"United States of America\",\"Germany\",\"United States of America\",\"France\",\"Germany\",\"Mexico\",\"United States of America\",\"Mexico\",\"Canada\",\"Mexico\",\"Mexico\",\"France\",\"France\",\"Canada\",\"Canada\",\"United States of America\",\"Canada\",\"France\",\"Germany\",\"Canada\",\"Canada\",\"United States of America\",\"France\",\"France\",\"France\",\"France\",\"Germany\",\"Canada\",\"France\",\"Germany\",\"France\",\"United States of America\",\"France\",\"Germany\",\"Canada\",\"Mexico\",\"Germany\",\"France\",\"Mexico\",\"Germany\",\"France\",\"United States of America\",\"United States of America\",\"Germany\",\"Canada\",\"France\",\"Mexico\",\"Canada\",\"France\",\"Germany\",\"Canada\",\"United States of America\",\"Canada\",\"United States of America\",\"Canada\",\"United States of America\",\"Mexico\",\"France\",\"Mexico\",\"France\",\"Canada\",\"Germany\",\"France\",\"Canada\",\"Germany\",\"Mexico\",\"Germany\",\"Germany\",\"Germany\",\"Mexico\",\"United States of America\",\"Germany\",\"Germany\",\"Germany\",\"Mexico\",\"Germany\",\"Mexico\",\"Mexico\",\"Canada\",\"United States of America\",\"Germany\",\"France\",\"Mexico\",\"France\",\"Germany\",\"France\",\"Germany\",\"Canada\",\"United States of America\",\"Canada\",\"United States of America\",\"Germany\",\"Mexico\",\"Germany\",\"Germany\",\"Mexico\",\"Mexico\",\"United States of America\",\"Canada\",\"Mexico\",\"Canada\",\"France\",\"France\",\"Canada\",\"France\",\"Canada\",\"United States of America\",\"Germany\",\"Mexico\",\"Mexico\",\"United States of America\",\"Canada\",\"France\",\"Mexico\",\"France\",\"Germany\",\"United States of America\",\"Mexico\",\"Canada\",\"Germany\",\"Canada\",\"Mexico\",\"Canada\",\"United States of America\",\"Germany\",\"United States of America\",\"Germany\",\"United States of America\",\"France\",\"France\",\"Mexico\",\"United States of America\",\"Canada\",\"Germany\",\"Mexico\",\"Germany\",\"Canada\",\"Germany\",\"Mexico\",\"United States of America\",\"Mexico\",\"Germany\",\"France\",\"Mexico\",\"Germany\",\"France\",\"Mexico\",\"Mexico\",\"Canada\",\"France\",\"United States of America\",\"United States of America\",\"United States of America\",\"United States of America\",\"France\",\"United States of America\",\"United States of America\",\"France\",\"France\",\"Mexico\",\"France\",\"Germany\",\"Germany\",\"Germany\",\"United States of America\",\"France\",\"United States of America\",\"United States of America\",\"Germany\",\"Germany\",\"Canada\",\"France\",\"Mexico\",\"Mexico\",\"United States of America\",\"Mexico\",\"United States of America\",\"France\",\"Canada\",\"Germany\",\"United States of America\",\"Canada\",\"United States of America\",\"Canada\",\"Mexico\",\"Germany\",\"Canada\",\"France\",\"France\",\"France\",\"France\",\"France\",\"Canada\",\"Germany\",\"United States of America\",\"Mexico\",\"United States of America\",\"Germany\",\"Canada\",\"Germany\",\"Germany\",\"France\",\"Canada\",\"Mexico\",\"Germany\",\"Germany\",\"Mexico\",\"Canada\",\"Mexico\",\"Canada\",\"Canada\",\"France\",\"Canada\",\"Mexico\",\"France\",\"Germany\",\"Canada\",\"France\",\"Mexico\",\"Mexico\",\"Canada\",\"France\",\"Mexico\",\"Canada\",\"Germany\",\"Mexico\",\"France\",\"Mexico\",\"Mexico\",\"Mexico\",\"United States of America\",\"Mexico\",\"Canada\",\"Mexico\",\"Canada\",\"United States of America\",\"France\",\"Mexico\",\"Canada\",\"Mexico\",\"France\",\"United States of America\",\"Mexico\",\"Mexico\",\"Mexico\",\"Mexico\",\"France\",\"Germany\",\"Mexico\",\"Mexico\",\"Mexico\",\"Mexico\",\"Mexico\",\"United States of America\",\"Mexico\",\"Canada\",\"France\",\"Canada\",\"United States of America\",\"United States of America\",\"Mexico\",\"United States of America\",\"France\",\"Canada\",\"United States of America\",\"France\",\"Mexico\",\"Germany\",\"France\",\"Germany\",\"Canada\",\"United States of America\",\"United States of America\",\"Canada\",\"France\",\"Germany\",\"United States of America\",\"United States of America\",\"Mexico\",\"Mexico\",\"Canada\",\"United States of America\",\"Germany\",\"United States of America\",\"Germany\",\"Canada\",\"Canada\",\"Mexico\",\"France\",\"Canada\",\"Canada\",\"Germany\",\"Germany\",\"France\",\"Canada\",\"France\",\"Mexico\",\"Germany\",\"Mexico\",\"Mexico\",\"Germany\",\"Canada\",\"Canada\",\"Canada\",\"France\",\"Mexico\",\"Germany\",\"Mexico\",\"United States of America\",\"United States of America\",\"Germany\",\"France\",\"United States of America\",\"Germany\",\"Canada\",\"United States of America\",\"France\",\"Germany\",\"France\",\"United States of America\",\"Mexico\",\"France\",\"Canada\",\"United States of America\",\"Germany\",\"Canada\",\"Mexico\",\"Canada\",\"Germany\",\"Canada\",\"Canada\",\"Mexico\",\"Canada\",\"Mexico\",\"Canada\",\"Canada\",\"United States of America\",\"France\",\"Canada\",\"Canada\",\"United States of America\",\"France\",\"Mexico\",\"United States of America\",\"United States of America\",\"Canada\",\"Germany\",\"Mexico\",\"United States of America\",\"Canada\",\"Canada\",\"United States of America\",\"France\",\"Canada\",\"United States of America\",\"France\",\"Canada\",\"United States of America\",\"France\",\"Mexico\",\"Mexico\",\"France\",\"Germany\",\"Germany\",\"Mexico\",\"Germany\",\"Canada\",\"Mexico\",\"Mexico\",\"Canada\",\"United States of America\",\"Germany\",\"Germany\",\"United States of America\",\"Mexico\",\"United States of America\",\"France\",\"Mexico\",\"France\",\"France\",\"United States of America\",\"United States of America\",\"United States of America\",\"Canada\",\"Germany\",\"United States of America\",\"Germany\",\"Canada\",\"Germany\",\"France\",\"France\",\"Mexico\",\"Mexico\",\"Canada\",\"United States of America\"],\"locationmode\":\"country names\",\"locations\":[\"Canada\",\"Germany\",\"France\",\"Germany\",\"Mexico\",\"Germany\",\"Germany\",\"Canada\",\"France\",\"Germany\",\"Mexico\",\"Canada\",\"Mexico\",\"Germany\",\"Canada\",\"United States of America\",\"Canada\",\"Mexico\",\"Canada\",\"Germany\",\"Germany\",\"Mexico\",\"France\",\"Mexico\",\"Mexico\",\"United States of America\",\"Canada\",\"United States of America\",\"Canada\",\"Canada\",\"Germany\",\"Mexico\",\"France\",\"Germany\",\"Germany\",\"Germany\",\"United States of America\",\"Canada\",\"Canada\",\"Germany\",\"France\",\"Germany\",\"France\",\"France\",\"Canada\",\"France\",\"United States of America\",\"Germany\",\"France\",\"Germany\",\"United States of America\",\"United States of America\",\"United States of America\",\"France\",\"France\",\"France\",\"France\",\"Canada\",\"United States of America\",\"Mexico\",\"United States of America\",\"Canada\",\"United States of America\",\"France\",\"Germany\",\"Mexico\",\"Mexico\",\"France\",\"Mexico\",\"United States of America\",\"France\",\"Canada\",\"United States of America\",\"United States of America\",\"United States of America\",\"United States of America\",\"United States of America\",\"France\",\"Mexico\",\"Germany\",\"Germany\",\"United States of America\",\"France\",\"France\",\"Mexico\",\"Canada\",\"United States of America\",\"Canada\",\"Germany\",\"Canada\",\"United States of America\",\"France\",\"Germany\",\"Mexico\",\"Mexico\",\"France\",\"United States of America\",\"France\",\"Canada\",\"Canada\",\"Germany\",\"France\",\"Canada\",\"United States of America\",\"United States of America\",\"Mexico\",\"Mexico\",\"Canada\",\"France\",\"Germany\",\"United States of America\",\"Mexico\",\"Canada\",\"Germany\",\"Mexico\",\"France\",\"Canada\",\"Canada\",\"Canada\",\"United States of America\",\"United States of America\",\"France\",\"Mexico\",\"United States of America\",\"Germany\",\"Germany\",\"Germany\",\"Mexico\",\"France\",\"Mexico\",\"Mexico\",\"Mexico\",\"Germany\",\"Germany\",\"Canada\",\"United States of America\",\"Mexico\",\"Germany\",\"Mexico\",\"Germany\",\"Germany\",\"United States of America\",\"France\",\"Canada\",\"France\",\"Germany\",\"Germany\",\"United States of America\",\"Canada\",\"Germany\",\"France\",\"France\",\"Germany\",\"France\",\"Germany\",\"France\",\"Canada\",\"France\",\"Germany\",\"Germany\",\"United States of America\",\"Canada\",\"Germany\",\"France\",\"Germany\",\"Canada\",\"United States of America\",\"Mexico\",\"Germany\",\"Canada\",\"Mexico\",\"Germany\",\"Canada\",\"Mexico\",\"Canada\",\"Germany\",\"Mexico\",\"Mexico\",\"France\",\"United States of America\",\"Canada\",\"Germany\",\"United States of America\",\"Canada\",\"Germany\",\"Canada\",\"Germany\",\"Mexico\",\"Canada\",\"Germany\",\"Germany\",\"United States of America\",\"United States of America\",\"France\",\"Canada\",\"Canada\",\"United States of America\",\"United States of America\",\"Mexico\",\"United States of America\",\"Mexico\",\"United States of America\",\"Canada\",\"France\",\"France\",\"United States of America\",\"France\",\"Mexico\",\"Mexico\",\"Mexico\",\"Germany\",\"United States of America\",\"Canada\",\"Germany\",\"Germany\",\"Canada\",\"Mexico\",\"Canada\",\"Canada\",\"Mexico\",\"Mexico\",\"Mexico\",\"Germany\",\"France\",\"Germany\",\"France\",\"United States of America\",\"Germany\",\"Mexico\",\"United States of America\",\"France\",\"France\",\"United States of America\",\"Mexico\",\"Germany\",\"Mexico\",\"France\",\"United States of America\",\"France\",\"Mexico\",\"United States of America\",\"United States of America\",\"United States of America\",\"France\",\"Canada\",\"Canada\",\"United States of America\",\"France\",\"Canada\",\"United States of America\",\"France\",\"Germany\",\"United States of America\",\"Mexico\",\"Germany\",\"United States of America\",\"United States of America\",\"France\",\"United States of America\",\"France\",\"France\",\"Germany\",\"Canada\",\"United States of America\",\"Germany\",\"United States of America\",\"United States of America\",\"France\",\"Germany\",\"Canada\",\"Canada\",\"Germany\",\"France\",\"United States of America\",\"Canada\",\"Mexico\",\"Canada\",\"United States of America\",\"United States of America\",\"Germany\",\"Mexico\",\"Germany\",\"France\",\"United States of America\",\"France\",\"Canada\",\"United States of America\",\"Canada\",\"United States of America\",\"Germany\",\"France\",\"Mexico\",\"France\",\"France\",\"Canada\",\"Mexico\",\"France\",\"Mexico\",\"Canada\",\"France\",\"Mexico\",\"United States of America\",\"France\",\"France\",\"France\",\"United States of America\",\"Germany\",\"United States of America\",\"France\",\"Germany\",\"Mexico\",\"United States of America\",\"Mexico\",\"Canada\",\"Mexico\",\"Mexico\",\"France\",\"France\",\"Canada\",\"Canada\",\"United States of America\",\"Canada\",\"France\",\"Germany\",\"Canada\",\"Canada\",\"United States of America\",\"France\",\"France\",\"France\",\"France\",\"Germany\",\"Canada\",\"France\",\"Germany\",\"France\",\"United States of America\",\"France\",\"Germany\",\"Canada\",\"Mexico\",\"Germany\",\"France\",\"Mexico\",\"Germany\",\"France\",\"United States of America\",\"United States of America\",\"Germany\",\"Canada\",\"France\",\"Mexico\",\"Canada\",\"France\",\"Germany\",\"Canada\",\"United States of America\",\"Canada\",\"United States of America\",\"Canada\",\"United States of America\",\"Mexico\",\"France\",\"Mexico\",\"France\",\"Canada\",\"Germany\",\"France\",\"Canada\",\"Germany\",\"Mexico\",\"Germany\",\"Germany\",\"Germany\",\"Mexico\",\"United States of America\",\"Germany\",\"Germany\",\"Germany\",\"Mexico\",\"Germany\",\"Mexico\",\"Mexico\",\"Canada\",\"United States of America\",\"Germany\",\"France\",\"Mexico\",\"France\",\"Germany\",\"France\",\"Germany\",\"Canada\",\"United States of America\",\"Canada\",\"United States of America\",\"Germany\",\"Mexico\",\"Germany\",\"Germany\",\"Mexico\",\"Mexico\",\"United States of America\",\"Canada\",\"Mexico\",\"Canada\",\"France\",\"France\",\"Canada\",\"France\",\"Canada\",\"United States of America\",\"Germany\",\"Mexico\",\"Mexico\",\"United States of America\",\"Canada\",\"France\",\"Mexico\",\"France\",\"Germany\",\"United States of America\",\"Mexico\",\"Canada\",\"Germany\",\"Canada\",\"Mexico\",\"Canada\",\"United States of America\",\"Germany\",\"United States of America\",\"Germany\",\"United States of America\",\"France\",\"France\",\"Mexico\",\"United States of America\",\"Canada\",\"Germany\",\"Mexico\",\"Germany\",\"Canada\",\"Germany\",\"Mexico\",\"United States of America\",\"Mexico\",\"Germany\",\"France\",\"Mexico\",\"Germany\",\"France\",\"Mexico\",\"Mexico\",\"Canada\",\"France\",\"United States of America\",\"United States of America\",\"United States of America\",\"United States of America\",\"France\",\"United States of America\",\"United States of America\",\"France\",\"France\",\"Mexico\",\"France\",\"Germany\",\"Germany\",\"Germany\",\"United States of America\",\"France\",\"United States of America\",\"United States of America\",\"Germany\",\"Germany\",\"Canada\",\"France\",\"Mexico\",\"Mexico\",\"United States of America\",\"Mexico\",\"United States of America\",\"France\",\"Canada\",\"Germany\",\"United States of America\",\"Canada\",\"United States of America\",\"Canada\",\"Mexico\",\"Germany\",\"Canada\",\"France\",\"France\",\"France\",\"France\",\"France\",\"Canada\",\"Germany\",\"United States of America\",\"Mexico\",\"United States of America\",\"Germany\",\"Canada\",\"Germany\",\"Germany\",\"France\",\"Canada\",\"Mexico\",\"Germany\",\"Germany\",\"Mexico\",\"Canada\",\"Mexico\",\"Canada\",\"Canada\",\"France\",\"Canada\",\"Mexico\",\"France\",\"Germany\",\"Canada\",\"France\",\"Mexico\",\"Mexico\",\"Canada\",\"France\",\"Mexico\",\"Canada\",\"Germany\",\"Mexico\",\"France\",\"Mexico\",\"Mexico\",\"Mexico\",\"United States of America\",\"Mexico\",\"Canada\",\"Mexico\",\"Canada\",\"United States of America\",\"France\",\"Mexico\",\"Canada\",\"Mexico\",\"France\",\"United States of America\",\"Mexico\",\"Mexico\",\"Mexico\",\"Mexico\",\"France\",\"Germany\",\"Mexico\",\"Mexico\",\"Mexico\",\"Mexico\",\"Mexico\",\"United States of America\",\"Mexico\",\"Canada\",\"France\",\"Canada\",\"United States of America\",\"United States of America\",\"Mexico\",\"United States of America\",\"France\",\"Canada\",\"United States of America\",\"France\",\"Mexico\",\"Germany\",\"France\",\"Germany\",\"Canada\",\"United States of America\",\"United States of America\",\"Canada\",\"France\",\"Germany\",\"United States of America\",\"United States of America\",\"Mexico\",\"Mexico\",\"Canada\",\"United States of America\",\"Germany\",\"United States of America\",\"Germany\",\"Canada\",\"Canada\",\"Mexico\",\"France\",\"Canada\",\"Canada\",\"Germany\",\"Germany\",\"France\",\"Canada\",\"France\",\"Mexico\",\"Germany\",\"Mexico\",\"Mexico\",\"Germany\",\"Canada\",\"Canada\",\"Canada\",\"France\",\"Mexico\",\"Germany\",\"Mexico\",\"United States of America\",\"United States of America\",\"Germany\",\"France\",\"United States of America\",\"Germany\",\"Canada\",\"United States of America\",\"France\",\"Germany\",\"France\",\"United States of America\",\"Mexico\",\"France\",\"Canada\",\"United States of America\",\"Germany\",\"Canada\",\"Mexico\",\"Canada\",\"Germany\",\"Canada\",\"Canada\",\"Mexico\",\"Canada\",\"Mexico\",\"Canada\",\"Canada\",\"United States of America\",\"France\",\"Canada\",\"Canada\",\"United States of America\",\"France\",\"Mexico\",\"United States of America\",\"United States of America\",\"Canada\",\"Germany\",\"Mexico\",\"United States of America\",\"Canada\",\"Canada\",\"United States of America\",\"France\",\"Canada\",\"United States of America\",\"France\",\"Canada\",\"United States of America\",\"France\",\"Mexico\",\"Mexico\",\"France\",\"Germany\",\"Germany\",\"Mexico\",\"Germany\",\"Canada\",\"Mexico\",\"Mexico\",\"Canada\",\"United States of America\",\"Germany\",\"Germany\",\"United States of America\",\"Mexico\",\"United States of America\",\"France\",\"Mexico\",\"France\",\"France\",\"United States of America\",\"United States of America\",\"United States of America\",\"Canada\",\"Germany\",\"United States of America\",\"Germany\",\"Canada\",\"Germany\",\"France\",\"France\",\"Mexico\",\"Mexico\",\"Canada\",\"United States of America\"],\"name\":\"\",\"z\":[16185.0,13210.0,10890.0,4440.0,12350.0,136170.0,4605.0,22662.0,18990.0,13905.0,12350.0,13327.5,47900.0,4292.0,1725.0,3075.0,2920.0,4870.0,22662.0,90540.0,3303.0,1766.0,2745.0,39400.0,12360.0,2286.0,155250.0,8208.0,10760.0,18170.0,136170.0,2986.0,9020.0,19449.0,90540.0,13905.0,14105.0,1725.0,100050.0,25542.0,10890.0,4440.0,137430.0,107550.0,18170.0,247500.0,17577.0,21097.5,18990.0,3372.0,19269.0,2286.0,3075.0,7613.850000000002,11135.599999999999,1987.8999999999996,1233.2700000000004,2559.1800000000003,16499.04,104665.0,4880.969999999999,12831.599999999999,1237.5,23718.48,6802.08,23218.0,120840.5,186407.5,10737.900000000001,108147.0,13479.899999999998,3531.8999999999996,117406.0,2486.25,7342.9000000000015,8670.524999999998,2726.25,2951.25,6836.25,3622.9500000000007,6802.08,136535.0,186407.5,37867.200000000004,698.6599999999999,3461.25,2486.25,4037.5599999999995,507.5899999999999,81612.75,2726.25,2951.25,46342.0,23218.0,120840.5,6540.0,17662.32,1556.8500000000004,1856.25,11344.2,9416.0,3989.7000000000007,236716.0,10003.92,15033.599999999999,6044.4,4150.0,11106.099999999999,40392.0,76032.0,10003.92,1655.0,11344.2,2022.5,5362.5,15636.599999999999,84304.0,236716.0,6822.5,9047.5,3744.1800000000003,9241.8,9495.84,15033.599999999999,246178.0,238791.0,2022.5,5362.5,9241.8,5222.4,9495.84,1655.0,9416.0,238791.0,6822.5,22078.0,161020.0,11396.0,48444.0,5690.0,246178.0,11865.599999999999,9033.599999999999,84304.0,5304.375,24252.0,28249.0,16822.08,7845.120000000001,3504.8199999999997,16424.64,973.7600000000002,142861.5,1608.75,2132.5,99814.5,2217.5,16424.64,28249.0,1962.5,11832.48,2511.25,8849.75,1608.75,2132.5,2511.25,116604.0,16554.24,1962.5,76834.0,130539.0,8849.75,7811.4,3150.3999999999996,36194.700000000004,21418.56,8936.400000000001,8936.400000000001,9948.400000000001,6771.200000000001,4903.720000000001,76798.0,20824.0,8654.8,70642.0,4903.720000000001,76798.0,0.0,7311.719999999999,0.0,53751.0,110884.0,262200.0,0.0,959.1999999999998,19080.800000000003,9715.2,2952.3999999999996,6661.5999999999985,20824.0,0.0,12481.8,24343.199999999997,165452.0,7378.32,26524.0,165452.0,6661.5999999999985,141740.0,0.0,144932.0,2952.3999999999996,135128.0,1912.3500000000004,2263.7999999999993,3875.8500000000004,4436.8499999999985,20420.4,20420.4,4436.8499999999985,2776.9500000000007,9433.2,1912.3500000000004,15666.0,9374.4,14067.0,34685.0,1676.3999999999996,11861.75,940.5,4103.549999999999,100376.25,-4533.75,52200.0,19672.8,38500.0,11727.0,-3740.0,-2981.25,56245.0,3839.5499999999993,34685.0,43645.0,11135.0,89030.0,12501.0,-1076.25,-880.0,16218.0,23967.0,3524.3999999999996,8993.0,2358.75,12159.25,-1008.75,43645.0,25488.0,14211.0,-1076.25,-880.0,9297.0,43750.0,12501.0,11385.0,20673.0,23967.0,940.5,4103.549999999999,97875.0,40020.0,89030.0,43750.0,15584.100000000002,9834.0,11660.400000000001,4653.36,19035.72,8323.0,415.53999999999996,-2217.5,67620.0,100740.0,2216.74,22546.44,103224.0,19035.72,50163.0,-2380.0,-6887.5,6273.0,103224.0,2366.84,39072.0,143244.0,11660.400000000001,2366.84,39072.0,9882.400000000001,77952.0,-4968.75,115851.0,50163.0,2216.74,143244.0,15461.599999999999,9011.8,7146.299999999999,4727.299999999999,15461.599999999999,8808.8,2106.1399999999994,4727.299999999999,5932.32,15373.439999999999,15772.400000000001,19094.4,19110.72,1556.8100000000004,4984.9000000000015,1713.8500000000004,825.9700000000003,2388.8199999999997,14186.16,18074.4,2388.8199999999997,1713.8500000000004,115345.5,12992.0,63249.0,16993.6,63249.0,-9375.0,49358.0,12992.0,-13173.75,8298.95,11577.449999999997,13201.0,32567.0,40716.0,22546.08,3208.75,48111.0,5237.4,-7826.25,16993.6,12220.599999999999,39788.0,5056.799999999999,26475.120000000003,27811.0,79663.0,-6168.75,188378.0,-3727.5,9614.8,39788.0,702.7200000000003,10768.8,370.0799999999999,10768.8,-7700.0,1862.0,84444.0,9503.800000000003,5947.200000000001,5418.0,40612.0,33358.0,2701.7999999999993,-5570.0,1812.96,1576.8000000000002,11474.400000000001,63960.0,976.3199999999997,2301.120000000001,3468.959999999999,16245.599999999999,25141.199999999997,133052.0,2802.24,84444.0,4807.92,4186.080000000002,3366.7199999999993,10036.0,16510.0,35619.0,3366.7199999999993,23622.0,26164.0,55484.0,21008.0,5947.200000000001,4186.080000000002,11474.400000000001,63960.0,12768.0,2701.7999999999993,11055.0,16510.0,3666.5999999999995,25162.0,2906.64,87457.5,97461.0,7406.0,18382.32,-11606.25,2207.0699999999997,-17481.25,7682.0,58995.0,141394.5,13413.75,25162.0,4478.549999999999,2906.64,30452.0,14058.0,-17481.25,894.25,87250.5,76459.5,-3543.75,-13187.5,74236.5,15491.52,61157.0,79062.75,6969.6,42941.0,17693.28,4478.549999999999,-5481.25,121153.5,74236.5,3540.5,13890.8,5436.6,1122.03,12513.599999999999,713.77,7978.5999999999985,8511.599999999999,493.1999999999998,15578.64,9592.199999999997,493.1999999999998,21992.4,713.77,8511.599999999999,5951.324999999999,2423.52,3010.8,3026.3999999999996,3010.8,-25841.25,-11115.0,127215.0,-13530.0,7252.0,15632.0,11820.0,7584.5,1928.0,2383.5,1785.0,2765.0,35145.0,-11970.0,45880.0,1928.0,3464.5,-14370.0,17060.0,-2557.5,2243.5,154385.0,8640.0,45880.0,7584.5,-18967.5,102850.0,-4342.5,123200.0,59860.0,27459.899999999998,16312.0,20077.2,38885.0,7252.0,17060.0,9200.64,3114.3599999999997,9200.64,1286.3999999999999,3624.96,1942.17,7718.4,10718.324999999999,3624.96,14876.16,40788.0,47787.0,-21358.75,5226.0,3328.380000000001,39449.0,23337.6,7225.950000000001,14841.0,8751.599999999999,108381.75,30919.68,18627.840000000004,18673.199999999997,6646.4000000000015,-21358.75,23337.6,23222.0,21879.0,2194.25,17716.0,2223.84,13317.119999999999,-4847.5,22893.0,-27693.75,20506.199999999997,-12538.75,-8286.25,17716.0,7225.950000000001,467.4000000000001,42528.0,-24160.0,-21560.0,8604.800000000003,2166.3999999999996,24822.0,2807.2000000000007,3171.4399999999987,13034.0,16604.0,48930.0,42528.0,-21560.0,6878.0,13034.0,76512.0,19026.0,30100.0,57456.0,1216.0,9370.8,66960.0,47328.0,6878.0,15944.04,12398.399999999998,29904.0,47328.0,-23870.0,9370.8,12960.0,3968.9399999999987,3171.4399999999987,8153.5999999999985,19163.399999999998,20117.16,11635.599999999999,1729.5599999999995,11635.599999999999,20873.16,7829.3499999999985,7829.3499999999985,41073.5,79655.0,3270.8,43721.25,1414.8199999999997,4493.76,16687.0,9242.599999999999,1567.9649999999992,8877.0,19543.4,20039.199999999997,117124.0,-17808.75,4248.24,2938.6399999999994,4773.25,9242.599999999999,15886.5,7536.719999999999,12192.375,117124.0,1297.1000000000004,4493.76,2013.0,3050.3999999999996,28655.0,7536.719999999999,-17808.75,4773.25,-18663.75,1297.1000000000004,3050.3999999999996,13168.8,18568.800000000003,12549.599999999999,3055.9199999999983,285.5999999999999,298.8600000000001,3055.9199999999983,806.1999999999998,17481.6,5124.299999999999,10196.76,285.5999999999999,10196.76,14749.8,6408.0,-12787.5,11968.0,8080.0,4387.700000000001,6670.0,-35262.5,91327.5,49159.0,8200.0,395.7600000000002,1761.5400000000009,6670.0,1872.0,7163.0,5054.700000000001,21330.48,1765.619999999999,28700.0,16265.04,48257.0,78802.0,-19687.5,4363.200000000001,19680.0,2152.0,20288.0,2961.0600000000013,20328.0,2152.0,11968.0,8080.0,52521.0,7104.0,-35550.0,18117.0,5054.700000000001,21330.48,1765.619999999999,1761.5400000000009,5423.0,-16142.5,-38046.25,-14918.75,2730.0,8106.0,4438.5,2408.25,106912.5,7037.25,1869.0,-14918.75,3231.25,75262.5,80662.5,6580.799999999999,2051.0,3600.0,7771.5,-9116.25,12870.0,-33522.5,6580.799999999999,6058.5,1353.0,1869.0,3231.25,-40617.5,-7590.0,2051.0,12375.0,2730.0,1299.6000000000004,686.8500000000001,13003.2],\"type\":\"choropleth\"}],                        {\"template\":{\"data\":{\"histogram2dcontour\":[{\"type\":\"histogram2dcontour\",\"colorbar\":{\"outlinewidth\":0,\"ticks\":\"\"},\"colorscale\":[[0.0,\"#0d0887\"],[0.1111111111111111,\"#46039f\"],[0.2222222222222222,\"#7201a8\"],[0.3333333333333333,\"#9c179e\"],[0.4444444444444444,\"#bd3786\"],[0.5555555555555556,\"#d8576b\"],[0.6666666666666666,\"#ed7953\"],[0.7777777777777778,\"#fb9f3a\"],[0.8888888888888888,\"#fdca26\"],[1.0,\"#f0f921\"]]}],\"choropleth\":[{\"type\":\"choropleth\",\"colorbar\":{\"outlinewidth\":0,\"ticks\":\"\"}}],\"histogram2d\":[{\"type\":\"histogram2d\",\"colorbar\":{\"outlinewidth\":0,\"ticks\":\"\"},\"colorscale\":[[0.0,\"#0d0887\"],[0.1111111111111111,\"#46039f\"],[0.2222222222222222,\"#7201a8\"],[0.3333333333333333,\"#9c179e\"],[0.4444444444444444,\"#bd3786\"],[0.5555555555555556,\"#d8576b\"],[0.6666666666666666,\"#ed7953\"],[0.7777777777777778,\"#fb9f3a\"],[0.8888888888888888,\"#fdca26\"],[1.0,\"#f0f921\"]]}],\"heatmap\":[{\"type\":\"heatmap\",\"colorbar\":{\"outlinewidth\":0,\"ticks\":\"\"},\"colorscale\":[[0.0,\"#0d0887\"],[0.1111111111111111,\"#46039f\"],[0.2222222222222222,\"#7201a8\"],[0.3333333333333333,\"#9c179e\"],[0.4444444444444444,\"#bd3786\"],[0.5555555555555556,\"#d8576b\"],[0.6666666666666666,\"#ed7953\"],[0.7777777777777778,\"#fb9f3a\"],[0.8888888888888888,\"#fdca26\"],[1.0,\"#f0f921\"]]}],\"heatmapgl\":[{\"type\":\"heatmapgl\",\"colorbar\":{\"outlinewidth\":0,\"ticks\":\"\"},\"colorscale\":[[0.0,\"#0d0887\"],[0.1111111111111111,\"#46039f\"],[0.2222222222222222,\"#7201a8\"],[0.3333333333333333,\"#9c179e\"],[0.4444444444444444,\"#bd3786\"],[0.5555555555555556,\"#d8576b\"],[0.6666666666666666,\"#ed7953\"],[0.7777777777777778,\"#fb9f3a\"],[0.8888888888888888,\"#fdca26\"],[1.0,\"#f0f921\"]]}],\"contourcarpet\":[{\"type\":\"contourcarpet\",\"colorbar\":{\"outlinewidth\":0,\"ticks\":\"\"}}],\"contour\":[{\"type\":\"contour\",\"colorbar\":{\"outlinewidth\":0,\"ticks\":\"\"},\"colorscale\":[[0.0,\"#0d0887\"],[0.1111111111111111,\"#46039f\"],[0.2222222222222222,\"#7201a8\"],[0.3333333333333333,\"#9c179e\"],[0.4444444444444444,\"#bd3786\"],[0.5555555555555556,\"#d8576b\"],[0.6666666666666666,\"#ed7953\"],[0.7777777777777778,\"#fb9f3a\"],[0.8888888888888888,\"#fdca26\"],[1.0,\"#f0f921\"]]}],\"surface\":[{\"type\":\"surface\",\"colorbar\":{\"outlinewidth\":0,\"ticks\":\"\"},\"colorscale\":[[0.0,\"#0d0887\"],[0.1111111111111111,\"#46039f\"],[0.2222222222222222,\"#7201a8\"],[0.3333333333333333,\"#9c179e\"],[0.4444444444444444,\"#bd3786\"],[0.5555555555555556,\"#d8576b\"],[0.6666666666666666,\"#ed7953\"],[0.7777777777777778,\"#fb9f3a\"],[0.8888888888888888,\"#fdca26\"],[1.0,\"#f0f921\"]]}],\"mesh3d\":[{\"type\":\"mesh3d\",\"colorbar\":{\"outlinewidth\":0,\"ticks\":\"\"}}],\"scatter\":[{\"fillpattern\":{\"fillmode\":\"overlay\",\"size\":10,\"solidity\":0.2},\"type\":\"scatter\"}],\"parcoords\":[{\"type\":\"parcoords\",\"line\":{\"colorbar\":{\"outlinewidth\":0,\"ticks\":\"\"}}}],\"scatterpolargl\":[{\"type\":\"scatterpolargl\",\"marker\":{\"colorbar\":{\"outlinewidth\":0,\"ticks\":\"\"}}}],\"bar\":[{\"error_x\":{\"color\":\"#2a3f5f\"},\"error_y\":{\"color\":\"#2a3f5f\"},\"marker\":{\"line\":{\"color\":\"#E5ECF6\",\"width\":0.5},\"pattern\":{\"fillmode\":\"overlay\",\"size\":10,\"solidity\":0.2}},\"type\":\"bar\"}],\"scattergeo\":[{\"type\":\"scattergeo\",\"marker\":{\"colorbar\":{\"outlinewidth\":0,\"ticks\":\"\"}}}],\"scatterpolar\":[{\"type\":\"scatterpolar\",\"marker\":{\"colorbar\":{\"outlinewidth\":0,\"ticks\":\"\"}}}],\"histogram\":[{\"marker\":{\"pattern\":{\"fillmode\":\"overlay\",\"size\":10,\"solidity\":0.2}},\"type\":\"histogram\"}],\"scattergl\":[{\"type\":\"scattergl\",\"marker\":{\"colorbar\":{\"outlinewidth\":0,\"ticks\":\"\"}}}],\"scatter3d\":[{\"type\":\"scatter3d\",\"line\":{\"colorbar\":{\"outlinewidth\":0,\"ticks\":\"\"}},\"marker\":{\"colorbar\":{\"outlinewidth\":0,\"ticks\":\"\"}}}],\"scattermapbox\":[{\"type\":\"scattermapbox\",\"marker\":{\"colorbar\":{\"outlinewidth\":0,\"ticks\":\"\"}}}],\"scatterternary\":[{\"type\":\"scatterternary\",\"marker\":{\"colorbar\":{\"outlinewidth\":0,\"ticks\":\"\"}}}],\"scattercarpet\":[{\"type\":\"scattercarpet\",\"marker\":{\"colorbar\":{\"outlinewidth\":0,\"ticks\":\"\"}}}],\"carpet\":[{\"aaxis\":{\"endlinecolor\":\"#2a3f5f\",\"gridcolor\":\"white\",\"linecolor\":\"white\",\"minorgridcolor\":\"white\",\"startlinecolor\":\"#2a3f5f\"},\"baxis\":{\"endlinecolor\":\"#2a3f5f\",\"gridcolor\":\"white\",\"linecolor\":\"white\",\"minorgridcolor\":\"white\",\"startlinecolor\":\"#2a3f5f\"},\"type\":\"carpet\"}],\"table\":[{\"cells\":{\"fill\":{\"color\":\"#EBF0F8\"},\"line\":{\"color\":\"white\"}},\"header\":{\"fill\":{\"color\":\"#C8D4E3\"},\"line\":{\"color\":\"white\"}},\"type\":\"table\"}],\"barpolar\":[{\"marker\":{\"line\":{\"color\":\"#E5ECF6\",\"width\":0.5},\"pattern\":{\"fillmode\":\"overlay\",\"size\":10,\"solidity\":0.2}},\"type\":\"barpolar\"}],\"pie\":[{\"automargin\":true,\"type\":\"pie\"}]},\"layout\":{\"autotypenumbers\":\"strict\",\"colorway\":[\"#636efa\",\"#EF553B\",\"#00cc96\",\"#ab63fa\",\"#FFA15A\",\"#19d3f3\",\"#FF6692\",\"#B6E880\",\"#FF97FF\",\"#FECB52\"],\"font\":{\"color\":\"#2a3f5f\"},\"hovermode\":\"closest\",\"hoverlabel\":{\"align\":\"left\"},\"paper_bgcolor\":\"white\",\"plot_bgcolor\":\"#E5ECF6\",\"polar\":{\"bgcolor\":\"#E5ECF6\",\"angularaxis\":{\"gridcolor\":\"white\",\"linecolor\":\"white\",\"ticks\":\"\"},\"radialaxis\":{\"gridcolor\":\"white\",\"linecolor\":\"white\",\"ticks\":\"\"}},\"ternary\":{\"bgcolor\":\"#E5ECF6\",\"aaxis\":{\"gridcolor\":\"white\",\"linecolor\":\"white\",\"ticks\":\"\"},\"baxis\":{\"gridcolor\":\"white\",\"linecolor\":\"white\",\"ticks\":\"\"},\"caxis\":{\"gridcolor\":\"white\",\"linecolor\":\"white\",\"ticks\":\"\"}},\"coloraxis\":{\"colorbar\":{\"outlinewidth\":0,\"ticks\":\"\"}},\"colorscale\":{\"sequential\":[[0.0,\"#0d0887\"],[0.1111111111111111,\"#46039f\"],[0.2222222222222222,\"#7201a8\"],[0.3333333333333333,\"#9c179e\"],[0.4444444444444444,\"#bd3786\"],[0.5555555555555556,\"#d8576b\"],[0.6666666666666666,\"#ed7953\"],[0.7777777777777778,\"#fb9f3a\"],[0.8888888888888888,\"#fdca26\"],[1.0,\"#f0f921\"]],\"sequentialminus\":[[0.0,\"#0d0887\"],[0.1111111111111111,\"#46039f\"],[0.2222222222222222,\"#7201a8\"],[0.3333333333333333,\"#9c179e\"],[0.4444444444444444,\"#bd3786\"],[0.5555555555555556,\"#d8576b\"],[0.6666666666666666,\"#ed7953\"],[0.7777777777777778,\"#fb9f3a\"],[0.8888888888888888,\"#fdca26\"],[1.0,\"#f0f921\"]],\"diverging\":[[0,\"#8e0152\"],[0.1,\"#c51b7d\"],[0.2,\"#de77ae\"],[0.3,\"#f1b6da\"],[0.4,\"#fde0ef\"],[0.5,\"#f7f7f7\"],[0.6,\"#e6f5d0\"],[0.7,\"#b8e186\"],[0.8,\"#7fbc41\"],[0.9,\"#4d9221\"],[1,\"#276419\"]]},\"xaxis\":{\"gridcolor\":\"white\",\"linecolor\":\"white\",\"ticks\":\"\",\"title\":{\"standoff\":15},\"zerolinecolor\":\"white\",\"automargin\":true,\"zerolinewidth\":2},\"yaxis\":{\"gridcolor\":\"white\",\"linecolor\":\"white\",\"ticks\":\"\",\"title\":{\"standoff\":15},\"zerolinecolor\":\"white\",\"automargin\":true,\"zerolinewidth\":2},\"scene\":{\"xaxis\":{\"backgroundcolor\":\"#E5ECF6\",\"gridcolor\":\"white\",\"linecolor\":\"white\",\"showbackground\":true,\"ticks\":\"\",\"zerolinecolor\":\"white\",\"gridwidth\":2},\"yaxis\":{\"backgroundcolor\":\"#E5ECF6\",\"gridcolor\":\"white\",\"linecolor\":\"white\",\"showbackground\":true,\"ticks\":\"\",\"zerolinecolor\":\"white\",\"gridwidth\":2},\"zaxis\":{\"backgroundcolor\":\"#E5ECF6\",\"gridcolor\":\"white\",\"linecolor\":\"white\",\"showbackground\":true,\"ticks\":\"\",\"zerolinecolor\":\"white\",\"gridwidth\":2}},\"shapedefaults\":{\"line\":{\"color\":\"#2a3f5f\"}},\"annotationdefaults\":{\"arrowcolor\":\"#2a3f5f\",\"arrowhead\":0,\"arrowwidth\":1},\"geo\":{\"bgcolor\":\"white\",\"landcolor\":\"#E5ECF6\",\"subunitcolor\":\"white\",\"showland\":true,\"showlakes\":true,\"lakecolor\":\"white\"},\"title\":{\"x\":0.05},\"mapbox\":{\"style\":\"light\"}}},\"geo\":{\"domain\":{\"x\":[0.0,1.0],\"y\":[0.0,1.0]},\"center\":{}},\"coloraxis\":{\"colorbar\":{\"title\":{\"text\":\"Profit\"}},\"colorscale\":[[0.0,\"#0d0887\"],[0.1111111111111111,\"#46039f\"],[0.2222222222222222,\"#7201a8\"],[0.3333333333333333,\"#9c179e\"],[0.4444444444444444,\"#bd3786\"],[0.5555555555555556,\"#d8576b\"],[0.6666666666666666,\"#ed7953\"],[0.7777777777777778,\"#fb9f3a\"],[0.8888888888888888,\"#fdca26\"],[1.0,\"#f0f921\"]]},\"legend\":{\"tracegroupgap\":0},\"title\":{\"text\":\"Soma de lucro (profit) por pa\\u00eds\"}},                        {\"responsive\": true}                    ).then(function(){\n",
       "                            \n",
       "var gd = document.getElementById('ad0ca25e-58c1-4dc3-ac25-b18a189b58dd');\n",
       "var x = new MutationObserver(function (mutations, observer) {{\n",
       "        var display = window.getComputedStyle(gd).display;\n",
       "        if (!display || display === 'none') {{\n",
       "            console.log([gd, 'removed!']);\n",
       "            Plotly.purge(gd);\n",
       "            observer.disconnect();\n",
       "        }}\n",
       "}});\n",
       "\n",
       "// Listen for the removal of the full notebook cells\n",
       "var notebookContainer = gd.closest('#notebook-container');\n",
       "if (notebookContainer) {{\n",
       "    x.observe(notebookContainer, {childList: true});\n",
       "}}\n",
       "\n",
       "// Listen for the clearing of the current output cell\n",
       "var outputEl = gd.closest('.output');\n",
       "if (outputEl) {{\n",
       "    x.observe(outputEl, {childList: true});\n",
       "}}\n",
       "\n",
       "                        })                };                });            </script>        </div>"
      ]
     },
     "metadata": {},
     "output_type": "display_data"
    }
   ],
   "source": [
    "fig = px.choropleth(df_data,\n",
    "                    locations=\"Country\",\n",
    "                    locationmode=\"country names\",\n",
    "                    color=\"Profit\",\n",
    "                    hover_name=\"Country\",\n",
    "                    hover_data=[\"Country\"],\n",
    "                    color_continuous_scale=px.colors.sequential.Plasma,\n",
    "                    title=\"Soma de lucro (profit) por país\")\n",
    "fig.show()"
   ]
  },
  {
   "cell_type": "code",
   "execution_count": 15,
   "id": "64302af8-5c34-4098-b8f8-a96ad93f5da1",
   "metadata": {
    "tags": []
   },
   "outputs": [
    {
     "data": {
      "application/vnd.plotly.v1+json": {
       "config": {
        "plotlyServerURL": "https://plot.ly"
       },
       "data": [
        {
         "domain": {
          "x": [
           0,
           1
          ],
          "y": [
           0,
           1
          ]
         },
         "hovertemplate": "Segment=%{label}<br>Profit=%{value}<extra></extra>",
         "labels": [
          "Government",
          "Government",
          "Midmarket",
          "Midmarket",
          "Midmarket",
          "Government",
          "Midmarket",
          "Channel Partners",
          "Government",
          "Channel Partners",
          "Midmarket",
          "Enterprise",
          "Small Business",
          "Government",
          "Enterprise",
          "Midmarket",
          "Government",
          "Midmarket",
          "Channel Partners",
          "Government",
          "Channel Partners",
          "Government",
          "Midmarket",
          "Small Business",
          "Midmarket",
          "Government",
          "Government",
          "Channel Partners",
          "Midmarket",
          "Government",
          "Government",
          "Government",
          "Enterprise",
          "Channel Partners",
          "Government",
          "Channel Partners",
          "Enterprise",
          "Enterprise",
          "Small Business",
          "Channel Partners",
          "Midmarket",
          "Midmarket",
          "Government",
          "Small Business",
          "Government",
          "Government",
          "Channel Partners",
          "Enterprise",
          "Government",
          "Government",
          "Channel Partners",
          "Government",
          "Midmarket",
          "Government",
          "Midmarket",
          "Government",
          "Government",
          "Government",
          "Channel Partners",
          "Government",
          "Government",
          "Channel Partners",
          "Enterprise",
          "Channel Partners",
          "Channel Partners",
          "Small Business",
          "Government",
          "Government",
          "Midmarket",
          "Small Business",
          "Government",
          "Government",
          "Small Business",
          "Enterprise",
          "Midmarket",
          "Government",
          "Enterprise",
          "Enterprise",
          "Enterprise",
          "Midmarket",
          "Channel Partners",
          "Small Business",
          "Government",
          "Government",
          "Government",
          "Enterprise",
          "Enterprise",
          "Government",
          "Government",
          "Government",
          "Enterprise",
          "Enterprise",
          "Small Business",
          "Small Business",
          "Government",
          "Enterprise",
          "Channel Partners",
          "Midmarket",
          "Enterprise",
          "Channel Partners",
          "Small Business",
          "Government",
          "Government",
          "Channel Partners",
          "Government",
          "Channel Partners",
          "Enterprise",
          "Midmarket",
          "Small Business",
          "Small Business",
          "Channel Partners",
          "Enterprise",
          "Channel Partners",
          "Enterprise",
          "Enterprise",
          "Channel Partners",
          "Small Business",
          "Government",
          "Enterprise",
          "Midmarket",
          "Government",
          "Channel Partners",
          "Channel Partners",
          "Government",
          "Government",
          "Government",
          "Enterprise",
          "Enterprise",
          "Channel Partners",
          "Government",
          "Channel Partners",
          "Enterprise",
          "Small Business",
          "Government",
          "Enterprise",
          "Government",
          "Government",
          "Small Business",
          "Small Business",
          "Enterprise",
          "Government",
          "Government",
          "Government",
          "Small Business",
          "Enterprise",
          "Government",
          "Small Business",
          "Channel Partners",
          "Channel Partners",
          "Government",
          "Channel Partners",
          "Government",
          "Government",
          "Enterprise",
          "Enterprise",
          "Small Business",
          "Enterprise",
          "Channel Partners",
          "Small Business",
          "Enterprise",
          "Channel Partners",
          "Enterprise",
          "Midmarket",
          "Enterprise",
          "Enterprise",
          "Enterprise",
          "Small Business",
          "Channel Partners",
          "Enterprise",
          "Small Business",
          "Government",
          "Midmarket",
          "Government",
          "Government",
          "Government",
          "Channel Partners",
          "Midmarket",
          "Midmarket",
          "Midmarket",
          "Government",
          "Government",
          "Small Business",
          "Government",
          "Midmarket",
          "Small Business",
          "Government",
          "Small Business",
          "Enterprise",
          "Government",
          "Enterprise",
          "Small Business",
          "Small Business",
          "Government",
          "Enterprise",
          "Midmarket",
          "Government",
          "Government",
          "Midmarket",
          "Midmarket",
          "Government",
          "Enterprise",
          "Channel Partners",
          "Government",
          "Government",
          "Channel Partners",
          "Government",
          "Government",
          "Midmarket",
          "Government",
          "Enterprise",
          "Government",
          "Midmarket",
          "Government",
          "Government",
          "Government",
          "Government",
          "Government",
          "Channel Partners",
          "Channel Partners",
          "Government",
          "Government",
          "Channel Partners",
          "Government",
          "Channel Partners",
          "Channel Partners",
          "Government",
          "Small Business",
          "Government",
          "Midmarket",
          "Government",
          "Government",
          "Government",
          "Enterprise",
          "Government",
          "Channel Partners",
          "Small Business",
          "Government",
          "Enterprise",
          "Enterprise",
          "Small Business",
          "Government",
          "Small Business",
          "Government",
          "Midmarket",
          "Government",
          "Government",
          "Enterprise",
          "Enterprise",
          "Government",
          "Government",
          "Government",
          "Midmarket",
          "Midmarket",
          "Midmarket",
          "Enterprise",
          "Government",
          "Government",
          "Government",
          "Enterprise",
          "Enterprise",
          "Government",
          "Small Business",
          "Government",
          "Government",
          "Government",
          "Government",
          "Government",
          "Government",
          "Government",
          "Government",
          "Government",
          "Small Business",
          "Midmarket",
          "Government",
          "Midmarket",
          "Channel Partners",
          "Channel Partners",
          "Midmarket",
          "Government",
          "Enterprise",
          "Government",
          "Government",
          "Government",
          "Channel Partners",
          "Government",
          "Channel Partners",
          "Government",
          "Enterprise",
          "Enterprise",
          "Midmarket",
          "Government",
          "Government",
          "Small Business",
          "Government",
          "Midmarket",
          "Government",
          "Small Business",
          "Government",
          "Small Business",
          "Enterprise",
          "Government",
          "Government",
          "Government",
          "Government",
          "Government",
          "Midmarket",
          "Midmarket",
          "Midmarket",
          "Government",
          "Government",
          "Government",
          "Midmarket",
          "Channel Partners",
          "Channel Partners",
          "Government",
          "Channel Partners",
          "Channel Partners",
          "Government",
          "Midmarket",
          "Government",
          "Government",
          "Government",
          "Channel Partners",
          "Channel Partners",
          "Government",
          "Government",
          "Government",
          "Small Business",
          "Small Business",
          "Government",
          "Small Business",
          "Enterprise",
          "Small Business",
          "Small Business",
          "Enterprise",
          "Midmarket",
          "Midmarket",
          "Government",
          "Small Business",
          "Small Business",
          "Channel Partners",
          "Government",
          "Small Business",
          "Government",
          "Enterprise",
          "Government",
          "Government",
          "Small Business",
          "Government",
          "Channel Partners",
          "Small Business",
          "Small Business",
          "Enterprise",
          "Government",
          "Enterprise",
          "Government",
          "Small Business",
          "Government",
          "Government",
          "Government",
          "Government",
          "Enterprise",
          "Midmarket",
          "Government",
          "Midmarket",
          "Government",
          "Government",
          "Small Business",
          "Small Business",
          "Midmarket",
          "Enterprise",
          "Government",
          "Government",
          "Government",
          "Small Business",
          "Government",
          "Government",
          "Government",
          "Government",
          "Government",
          "Government",
          "Government",
          "Government",
          "Channel Partners",
          "Government",
          "Government",
          "Small Business",
          "Small Business",
          "Government",
          "Government",
          "Government",
          "Government",
          "Small Business",
          "Small Business",
          "Government",
          "Government",
          "Government",
          "Small Business",
          "Government",
          "Midmarket",
          "Channel Partners",
          "Small Business",
          "Government",
          "Small Business",
          "Channel Partners",
          "Small Business",
          "Government",
          "Small Business",
          "Channel Partners",
          "Enterprise",
          "Government",
          "Enterprise",
          "Small Business",
          "Small Business",
          "Government",
          "Midmarket",
          "Small Business",
          "Midmarket",
          "Channel Partners",
          "Small Business",
          "Channel Partners",
          "Enterprise",
          "Midmarket",
          "Small Business",
          "Government",
          "Enterprise",
          "Enterprise",
          "Government",
          "Channel Partners",
          "Small Business",
          "Government",
          "Channel Partners",
          "Small Business",
          "Channel Partners",
          "Midmarket",
          "Enterprise",
          "Government",
          "Government",
          "Midmarket",
          "Government",
          "Government",
          "Government",
          "Channel Partners",
          "Government",
          "Government",
          "Government",
          "Government",
          "Channel Partners",
          "Midmarket",
          "Government",
          "Government",
          "Government",
          "Government",
          "Midmarket",
          "Channel Partners",
          "Channel Partners",
          "Government",
          "Channel Partners",
          "Enterprise",
          "Enterprise",
          "Government",
          "Enterprise",
          "Midmarket",
          "Government",
          "Small Business",
          "Midmarket",
          "Government",
          "Midmarket",
          "Midmarket",
          "Midmarket",
          "Government",
          "Enterprise",
          "Small Business",
          "Government",
          "Government",
          "Enterprise",
          "Small Business",
          "Enterprise",
          "Midmarket",
          "Government",
          "Small Business",
          "Small Business",
          "Midmarket",
          "Enterprise",
          "Government",
          "Enterprise",
          "Government",
          "Small Business",
          "Channel Partners",
          "Government",
          "Channel Partners",
          "Government",
          "Midmarket",
          "Small Business",
          "Channel Partners",
          "Government",
          "Channel Partners",
          "Midmarket",
          "Channel Partners",
          "Government",
          "Channel Partners",
          "Midmarket",
          "Channel Partners",
          "Channel Partners",
          "Government",
          "Small Business",
          "Enterprise",
          "Midmarket",
          "Government",
          "Government",
          "Government",
          "Midmarket",
          "Small Business",
          "Government",
          "Government",
          "Channel Partners",
          "Channel Partners",
          "Government",
          "Midmarket",
          "Enterprise",
          "Government",
          "Small Business",
          "Government",
          "Midmarket",
          "Government",
          "Government",
          "Channel Partners",
          "Enterprise",
          "Government",
          "Enterprise",
          "Government",
          "Enterprise",
          "Enterprise",
          "Government",
          "Midmarket",
          "Government",
          "Government",
          "Enterprise",
          "Enterprise",
          "Midmarket",
          "Midmarket",
          "Small Business",
          "Government",
          "Government",
          "Government",
          "Small Business",
          "Small Business",
          "Government",
          "Enterprise",
          "Government",
          "Government",
          "Government",
          "Small Business",
          "Small Business",
          "Government",
          "Midmarket",
          "Government",
          "Government",
          "Government",
          "Government",
          "Channel Partners",
          "Midmarket",
          "Government",
          "Government",
          "Enterprise",
          "Government",
          "Government",
          "Government",
          "Government",
          "Midmarket",
          "Government",
          "Channel Partners",
          "Government",
          "Government",
          "Government",
          "Channel Partners",
          "Midmarket",
          "Midmarket",
          "Government",
          "Government",
          "Government",
          "Government",
          "Government",
          "Channel Partners",
          "Government",
          "Government",
          "Government",
          "Small Business",
          "Government",
          "Government",
          "Government",
          "Enterprise",
          "Channel Partners",
          "Government",
          "Midmarket",
          "Government",
          "Government",
          "Channel Partners",
          "Midmarket",
          "Government",
          "Government",
          "Channel Partners",
          "Midmarket",
          "Channel Partners",
          "Small Business",
          "Channel Partners",
          "Enterprise",
          "Midmarket",
          "Enterprise",
          "Government",
          "Channel Partners",
          "Channel Partners",
          "Government",
          "Government",
          "Government",
          "Government",
          "Government",
          "Government",
          "Midmarket",
          "Government",
          "Midmarket",
          "Channel Partners",
          "Government",
          "Channel Partners",
          "Channel Partners",
          "Small Business",
          "Enterprise",
          "Small Business",
          "Small Business",
          "Midmarket",
          "Midmarket",
          "Enterprise",
          "Government",
          "Government",
          "Government",
          "Government",
          "Government",
          "Midmarket",
          "Government",
          "Midmarket",
          "Midmarket",
          "Channel Partners",
          "Government",
          "Government",
          "Channel Partners",
          "Government",
          "Government",
          "Enterprise",
          "Government",
          "Small Business",
          "Small Business",
          "Small Business",
          "Government",
          "Small Business",
          "Small Business",
          "Small Business",
          "Small Business",
          "Government",
          "Small Business",
          "Enterprise",
          "Channel Partners",
          "Midmarket",
          "Channel Partners",
          "Government",
          "Government",
          "Midmarket",
          "Enterprise",
          "Enterprise",
          "Enterprise",
          "Small Business",
          "Government",
          "Midmarket",
          "Government",
          "Government",
          "Midmarket",
          "Government",
          "Enterprise",
          "Midmarket",
          "Government",
          "Government",
          "Channel Partners",
          "Government",
          "Channel Partners",
          "Midmarket",
          "Enterprise",
          "Small Business",
          "Enterprise",
          "Channel Partners",
          "Government",
          "Midmarket",
          "Government",
          "Midmarket",
          "Enterprise",
          "Enterprise",
          "Government",
          "Small Business",
          "Small Business",
          "Government",
          "Government",
          "Channel Partners"
         ],
         "legendgroup": "",
         "name": "",
         "showlegend": true,
         "type": "pie",
         "values": [
          16185,
          13210,
          10890,
          4440,
          12350,
          136170,
          4605,
          22662,
          18990,
          13905,
          12350,
          13327.5,
          47900,
          4292,
          1725,
          3075,
          2920,
          4870,
          22662,
          90540,
          3303,
          1766,
          2745,
          39400,
          12360,
          2286,
          155250,
          8208,
          10760,
          18170,
          136170,
          2986,
          9020,
          19449,
          90540,
          13905,
          14105,
          1725,
          100050,
          25542,
          10890,
          4440,
          137430,
          107550,
          18170,
          247500,
          17577,
          21097.5,
          18990,
          3372,
          19269,
          2286,
          3075,
          7613.850000000002,
          11135.599999999999,
          1987.8999999999996,
          1233.2700000000004,
          2559.1800000000003,
          16499.04,
          104665,
          4880.969999999999,
          12831.599999999999,
          1237.5,
          23718.48,
          6802.08,
          23218,
          120840.5,
          186407.5,
          10737.900000000001,
          108147,
          13479.899999999998,
          3531.8999999999996,
          117406,
          2486.25,
          7342.9000000000015,
          8670.524999999998,
          2726.25,
          2951.25,
          6836.25,
          3622.9500000000007,
          6802.08,
          136535,
          186407.5,
          37867.200000000004,
          698.6599999999999,
          3461.25,
          2486.25,
          4037.5599999999995,
          507.5899999999999,
          81612.75,
          2726.25,
          2951.25,
          46342,
          23218,
          120840.5,
          6540,
          17662.32,
          1556.8500000000004,
          1856.25,
          11344.2,
          9416,
          3989.7000000000007,
          236716,
          10003.92,
          15033.599999999999,
          6044.4,
          4150,
          11106.099999999999,
          40392,
          76032,
          10003.92,
          1655,
          11344.2,
          2022.5,
          5362.5,
          15636.599999999999,
          84304,
          236716,
          6822.5,
          9047.5,
          3744.1800000000003,
          9241.8,
          9495.84,
          15033.599999999999,
          246178,
          238791,
          2022.5,
          5362.5,
          9241.8,
          5222.4,
          9495.84,
          1655,
          9416,
          238791,
          6822.5,
          22078,
          161020,
          11396,
          48444,
          5690,
          246178,
          11865.599999999999,
          9033.599999999999,
          84304,
          5304.375,
          24252,
          28249,
          16822.08,
          7845.120000000001,
          3504.8199999999997,
          16424.64,
          973.7600000000002,
          142861.5,
          1608.75,
          2132.5,
          99814.5,
          2217.5,
          16424.64,
          28249,
          1962.5,
          11832.48,
          2511.25,
          8849.75,
          1608.75,
          2132.5,
          2511.25,
          116604,
          16554.24,
          1962.5,
          76834,
          130539,
          8849.75,
          7811.4,
          3150.3999999999996,
          36194.700000000004,
          21418.56,
          8936.400000000001,
          8936.400000000001,
          9948.400000000001,
          6771.200000000001,
          4903.720000000001,
          76798,
          20824,
          8654.8,
          70642,
          4903.720000000001,
          76798,
          0,
          7311.719999999999,
          0,
          53751,
          110884,
          262200,
          0,
          959.1999999999998,
          19080.800000000003,
          9715.2,
          2952.3999999999996,
          6661.5999999999985,
          20824,
          0,
          12481.8,
          24343.199999999997,
          165452,
          7378.32,
          26524,
          165452,
          6661.5999999999985,
          141740,
          0,
          144932,
          2952.3999999999996,
          135128,
          1912.3500000000004,
          2263.7999999999993,
          3875.8500000000004,
          4436.8499999999985,
          20420.4,
          20420.4,
          4436.8499999999985,
          2776.9500000000007,
          9433.2,
          1912.3500000000004,
          15666,
          9374.4,
          14067,
          34685,
          1676.3999999999996,
          11861.75,
          940.5,
          4103.549999999999,
          100376.25,
          -4533.75,
          52200,
          19672.8,
          38500,
          11727,
          -3740,
          -2981.25,
          56245,
          3839.5499999999993,
          34685,
          43645,
          11135,
          89030,
          12501,
          -1076.25,
          -880,
          16218,
          23967,
          3524.3999999999996,
          8993,
          2358.75,
          12159.25,
          -1008.75,
          43645,
          25488,
          14211,
          -1076.25,
          -880,
          9297,
          43750,
          12501,
          11385,
          20673,
          23967,
          940.5,
          4103.549999999999,
          97875,
          40020,
          89030,
          43750,
          15584.100000000002,
          9834,
          11660.400000000001,
          4653.36,
          19035.72,
          8323,
          415.53999999999996,
          -2217.5,
          67620,
          100740,
          2216.74,
          22546.44,
          103224,
          19035.72,
          50163,
          -2380,
          -6887.5,
          6273,
          103224,
          2366.84,
          39072,
          143244,
          11660.400000000001,
          2366.84,
          39072,
          9882.400000000001,
          77952,
          -4968.75,
          115851,
          50163,
          2216.74,
          143244,
          15461.599999999999,
          9011.8,
          7146.299999999999,
          4727.299999999999,
          15461.599999999999,
          8808.8,
          2106.1399999999994,
          4727.299999999999,
          5932.32,
          15373.439999999999,
          15772.400000000001,
          19094.4,
          19110.72,
          1556.8100000000004,
          4984.9000000000015,
          1713.8500000000004,
          825.9700000000003,
          2388.8199999999997,
          14186.16,
          18074.4,
          2388.8199999999997,
          1713.8500000000004,
          115345.5,
          12992,
          63249,
          16993.6,
          63249,
          -9375,
          49358,
          12992,
          -13173.75,
          8298.95,
          11577.449999999997,
          13201,
          32567,
          40716,
          22546.08,
          3208.75,
          48111,
          5237.4,
          -7826.25,
          16993.6,
          12220.599999999999,
          39788,
          5056.799999999999,
          26475.120000000003,
          27811,
          79663,
          -6168.75,
          188378,
          -3727.5,
          9614.8,
          39788,
          702.7200000000003,
          10768.8,
          370.0799999999999,
          10768.8,
          -7700,
          1862,
          84444,
          9503.800000000003,
          5947.200000000001,
          5418,
          40612,
          33358,
          2701.7999999999993,
          -5570,
          1812.96,
          1576.8000000000002,
          11474.400000000001,
          63960,
          976.3199999999997,
          2301.120000000001,
          3468.959999999999,
          16245.599999999999,
          25141.199999999997,
          133052,
          2802.24,
          84444,
          4807.92,
          4186.080000000002,
          3366.7199999999993,
          10036,
          16510,
          35619,
          3366.7199999999993,
          23622,
          26164,
          55484,
          21008,
          5947.200000000001,
          4186.080000000002,
          11474.400000000001,
          63960,
          12768,
          2701.7999999999993,
          11055,
          16510,
          3666.5999999999995,
          25162,
          2906.64,
          87457.5,
          97461,
          7406,
          18382.32,
          -11606.25,
          2207.0699999999997,
          -17481.25,
          7682,
          58995,
          141394.5,
          13413.75,
          25162,
          4478.549999999999,
          2906.64,
          30452,
          14058,
          -17481.25,
          894.25,
          87250.5,
          76459.5,
          -3543.75,
          -13187.5,
          74236.5,
          15491.52,
          61157,
          79062.75,
          6969.6,
          42941,
          17693.28,
          4478.549999999999,
          -5481.25,
          121153.5,
          74236.5,
          3540.5,
          13890.8,
          5436.6,
          1122.03,
          12513.599999999999,
          713.77,
          7978.5999999999985,
          8511.599999999999,
          493.1999999999998,
          15578.64,
          9592.199999999997,
          493.1999999999998,
          21992.4,
          713.77,
          8511.599999999999,
          5951.324999999999,
          2423.52,
          3010.8,
          3026.3999999999996,
          3010.8,
          -25841.25,
          -11115,
          127215,
          -13530,
          7252,
          15632,
          11820,
          7584.5,
          1928,
          2383.5,
          1785,
          2765,
          35145,
          -11970,
          45880,
          1928,
          3464.5,
          -14370,
          17060,
          -2557.5,
          2243.5,
          154385,
          8640,
          45880,
          7584.5,
          -18967.5,
          102850,
          -4342.5,
          123200,
          59860,
          27459.899999999998,
          16312,
          20077.2,
          38885,
          7252,
          17060,
          9200.64,
          3114.3599999999997,
          9200.64,
          1286.3999999999999,
          3624.96,
          1942.17,
          7718.4,
          10718.324999999999,
          3624.96,
          14876.16,
          40788,
          47787,
          -21358.75,
          5226,
          3328.380000000001,
          39449,
          23337.6,
          7225.950000000001,
          14841,
          8751.599999999999,
          108381.75,
          30919.68,
          18627.840000000004,
          18673.199999999997,
          6646.4000000000015,
          -21358.75,
          23337.6,
          23222,
          21879,
          2194.25,
          17716,
          2223.84,
          13317.119999999999,
          -4847.5,
          22893,
          -27693.75,
          20506.199999999997,
          -12538.75,
          -8286.25,
          17716,
          7225.950000000001,
          467.4000000000001,
          42528,
          -24160,
          -21560,
          8604.800000000003,
          2166.3999999999996,
          24822,
          2807.2000000000007,
          3171.4399999999987,
          13034,
          16604,
          48930,
          42528,
          -21560,
          6878,
          13034,
          76512,
          19026,
          30100,
          57456,
          1216,
          9370.8,
          66960,
          47328,
          6878,
          15944.04,
          12398.399999999998,
          29904,
          47328,
          -23870,
          9370.8,
          12960,
          3968.9399999999987,
          3171.4399999999987,
          8153.5999999999985,
          19163.399999999998,
          20117.16,
          11635.599999999999,
          1729.5599999999995,
          11635.599999999999,
          20873.16,
          7829.3499999999985,
          7829.3499999999985,
          41073.5,
          79655,
          3270.8,
          43721.25,
          1414.8199999999997,
          4493.76,
          16687,
          9242.599999999999,
          1567.9649999999992,
          8877,
          19543.4,
          20039.199999999997,
          117124,
          -17808.75,
          4248.24,
          2938.6399999999994,
          4773.25,
          9242.599999999999,
          15886.5,
          7536.719999999999,
          12192.375,
          117124,
          1297.1000000000004,
          4493.76,
          2013,
          3050.3999999999996,
          28655,
          7536.719999999999,
          -17808.75,
          4773.25,
          -18663.75,
          1297.1000000000004,
          3050.3999999999996,
          13168.8,
          18568.800000000003,
          12549.599999999999,
          3055.9199999999983,
          285.5999999999999,
          298.8600000000001,
          3055.9199999999983,
          806.1999999999998,
          17481.6,
          5124.299999999999,
          10196.76,
          285.5999999999999,
          10196.76,
          14749.8,
          6408,
          -12787.5,
          11968,
          8080,
          4387.700000000001,
          6670,
          -35262.5,
          91327.5,
          49159,
          8200,
          395.7600000000002,
          1761.5400000000009,
          6670,
          1872,
          7163,
          5054.700000000001,
          21330.48,
          1765.619999999999,
          28700,
          16265.04,
          48257,
          78802,
          -19687.5,
          4363.200000000001,
          19680,
          2152,
          20288,
          2961.0600000000013,
          20328,
          2152,
          11968,
          8080,
          52521,
          7104,
          -35550,
          18117,
          5054.700000000001,
          21330.48,
          1765.619999999999,
          1761.5400000000009,
          5423,
          -16142.5,
          -38046.25,
          -14918.75,
          2730,
          8106,
          4438.5,
          2408.25,
          106912.5,
          7037.25,
          1869,
          -14918.75,
          3231.25,
          75262.5,
          80662.5,
          6580.799999999999,
          2051,
          3600,
          7771.5,
          -9116.25,
          12870,
          -33522.5,
          6580.799999999999,
          6058.5,
          1353,
          1869,
          3231.25,
          -40617.5,
          -7590,
          2051,
          12375,
          2730,
          1299.6000000000004,
          686.8500000000001,
          13003.2
         ]
        }
       ],
       "layout": {
        "autosize": true,
        "legend": {
         "tracegroupgap": 0
        },
        "template": {
         "data": {
          "bar": [
           {
            "error_x": {
             "color": "#2a3f5f"
            },
            "error_y": {
             "color": "#2a3f5f"
            },
            "marker": {
             "line": {
              "color": "#E5ECF6",
              "width": 0.5
             },
             "pattern": {
              "fillmode": "overlay",
              "size": 10,
              "solidity": 0.2
             }
            },
            "type": "bar"
           }
          ],
          "barpolar": [
           {
            "marker": {
             "line": {
              "color": "#E5ECF6",
              "width": 0.5
             },
             "pattern": {
              "fillmode": "overlay",
              "size": 10,
              "solidity": 0.2
             }
            },
            "type": "barpolar"
           }
          ],
          "carpet": [
           {
            "aaxis": {
             "endlinecolor": "#2a3f5f",
             "gridcolor": "white",
             "linecolor": "white",
             "minorgridcolor": "white",
             "startlinecolor": "#2a3f5f"
            },
            "baxis": {
             "endlinecolor": "#2a3f5f",
             "gridcolor": "white",
             "linecolor": "white",
             "minorgridcolor": "white",
             "startlinecolor": "#2a3f5f"
            },
            "type": "carpet"
           }
          ],
          "choropleth": [
           {
            "colorbar": {
             "outlinewidth": 0,
             "ticks": ""
            },
            "type": "choropleth"
           }
          ],
          "contour": [
           {
            "colorbar": {
             "outlinewidth": 0,
             "ticks": ""
            },
            "colorscale": [
             [
              0,
              "#0d0887"
             ],
             [
              0.1111111111111111,
              "#46039f"
             ],
             [
              0.2222222222222222,
              "#7201a8"
             ],
             [
              0.3333333333333333,
              "#9c179e"
             ],
             [
              0.4444444444444444,
              "#bd3786"
             ],
             [
              0.5555555555555556,
              "#d8576b"
             ],
             [
              0.6666666666666666,
              "#ed7953"
             ],
             [
              0.7777777777777778,
              "#fb9f3a"
             ],
             [
              0.8888888888888888,
              "#fdca26"
             ],
             [
              1,
              "#f0f921"
             ]
            ],
            "type": "contour"
           }
          ],
          "contourcarpet": [
           {
            "colorbar": {
             "outlinewidth": 0,
             "ticks": ""
            },
            "type": "contourcarpet"
           }
          ],
          "heatmap": [
           {
            "colorbar": {
             "outlinewidth": 0,
             "ticks": ""
            },
            "colorscale": [
             [
              0,
              "#0d0887"
             ],
             [
              0.1111111111111111,
              "#46039f"
             ],
             [
              0.2222222222222222,
              "#7201a8"
             ],
             [
              0.3333333333333333,
              "#9c179e"
             ],
             [
              0.4444444444444444,
              "#bd3786"
             ],
             [
              0.5555555555555556,
              "#d8576b"
             ],
             [
              0.6666666666666666,
              "#ed7953"
             ],
             [
              0.7777777777777778,
              "#fb9f3a"
             ],
             [
              0.8888888888888888,
              "#fdca26"
             ],
             [
              1,
              "#f0f921"
             ]
            ],
            "type": "heatmap"
           }
          ],
          "heatmapgl": [
           {
            "colorbar": {
             "outlinewidth": 0,
             "ticks": ""
            },
            "colorscale": [
             [
              0,
              "#0d0887"
             ],
             [
              0.1111111111111111,
              "#46039f"
             ],
             [
              0.2222222222222222,
              "#7201a8"
             ],
             [
              0.3333333333333333,
              "#9c179e"
             ],
             [
              0.4444444444444444,
              "#bd3786"
             ],
             [
              0.5555555555555556,
              "#d8576b"
             ],
             [
              0.6666666666666666,
              "#ed7953"
             ],
             [
              0.7777777777777778,
              "#fb9f3a"
             ],
             [
              0.8888888888888888,
              "#fdca26"
             ],
             [
              1,
              "#f0f921"
             ]
            ],
            "type": "heatmapgl"
           }
          ],
          "histogram": [
           {
            "marker": {
             "pattern": {
              "fillmode": "overlay",
              "size": 10,
              "solidity": 0.2
             }
            },
            "type": "histogram"
           }
          ],
          "histogram2d": [
           {
            "colorbar": {
             "outlinewidth": 0,
             "ticks": ""
            },
            "colorscale": [
             [
              0,
              "#0d0887"
             ],
             [
              0.1111111111111111,
              "#46039f"
             ],
             [
              0.2222222222222222,
              "#7201a8"
             ],
             [
              0.3333333333333333,
              "#9c179e"
             ],
             [
              0.4444444444444444,
              "#bd3786"
             ],
             [
              0.5555555555555556,
              "#d8576b"
             ],
             [
              0.6666666666666666,
              "#ed7953"
             ],
             [
              0.7777777777777778,
              "#fb9f3a"
             ],
             [
              0.8888888888888888,
              "#fdca26"
             ],
             [
              1,
              "#f0f921"
             ]
            ],
            "type": "histogram2d"
           }
          ],
          "histogram2dcontour": [
           {
            "colorbar": {
             "outlinewidth": 0,
             "ticks": ""
            },
            "colorscale": [
             [
              0,
              "#0d0887"
             ],
             [
              0.1111111111111111,
              "#46039f"
             ],
             [
              0.2222222222222222,
              "#7201a8"
             ],
             [
              0.3333333333333333,
              "#9c179e"
             ],
             [
              0.4444444444444444,
              "#bd3786"
             ],
             [
              0.5555555555555556,
              "#d8576b"
             ],
             [
              0.6666666666666666,
              "#ed7953"
             ],
             [
              0.7777777777777778,
              "#fb9f3a"
             ],
             [
              0.8888888888888888,
              "#fdca26"
             ],
             [
              1,
              "#f0f921"
             ]
            ],
            "type": "histogram2dcontour"
           }
          ],
          "mesh3d": [
           {
            "colorbar": {
             "outlinewidth": 0,
             "ticks": ""
            },
            "type": "mesh3d"
           }
          ],
          "parcoords": [
           {
            "line": {
             "colorbar": {
              "outlinewidth": 0,
              "ticks": ""
             }
            },
            "type": "parcoords"
           }
          ],
          "pie": [
           {
            "automargin": true,
            "type": "pie"
           }
          ],
          "scatter": [
           {
            "fillpattern": {
             "fillmode": "overlay",
             "size": 10,
             "solidity": 0.2
            },
            "type": "scatter"
           }
          ],
          "scatter3d": [
           {
            "line": {
             "colorbar": {
              "outlinewidth": 0,
              "ticks": ""
             }
            },
            "marker": {
             "colorbar": {
              "outlinewidth": 0,
              "ticks": ""
             }
            },
            "type": "scatter3d"
           }
          ],
          "scattercarpet": [
           {
            "marker": {
             "colorbar": {
              "outlinewidth": 0,
              "ticks": ""
             }
            },
            "type": "scattercarpet"
           }
          ],
          "scattergeo": [
           {
            "marker": {
             "colorbar": {
              "outlinewidth": 0,
              "ticks": ""
             }
            },
            "type": "scattergeo"
           }
          ],
          "scattergl": [
           {
            "marker": {
             "colorbar": {
              "outlinewidth": 0,
              "ticks": ""
             }
            },
            "type": "scattergl"
           }
          ],
          "scattermapbox": [
           {
            "marker": {
             "colorbar": {
              "outlinewidth": 0,
              "ticks": ""
             }
            },
            "type": "scattermapbox"
           }
          ],
          "scatterpolar": [
           {
            "marker": {
             "colorbar": {
              "outlinewidth": 0,
              "ticks": ""
             }
            },
            "type": "scatterpolar"
           }
          ],
          "scatterpolargl": [
           {
            "marker": {
             "colorbar": {
              "outlinewidth": 0,
              "ticks": ""
             }
            },
            "type": "scatterpolargl"
           }
          ],
          "scatterternary": [
           {
            "marker": {
             "colorbar": {
              "outlinewidth": 0,
              "ticks": ""
             }
            },
            "type": "scatterternary"
           }
          ],
          "surface": [
           {
            "colorbar": {
             "outlinewidth": 0,
             "ticks": ""
            },
            "colorscale": [
             [
              0,
              "#0d0887"
             ],
             [
              0.1111111111111111,
              "#46039f"
             ],
             [
              0.2222222222222222,
              "#7201a8"
             ],
             [
              0.3333333333333333,
              "#9c179e"
             ],
             [
              0.4444444444444444,
              "#bd3786"
             ],
             [
              0.5555555555555556,
              "#d8576b"
             ],
             [
              0.6666666666666666,
              "#ed7953"
             ],
             [
              0.7777777777777778,
              "#fb9f3a"
             ],
             [
              0.8888888888888888,
              "#fdca26"
             ],
             [
              1,
              "#f0f921"
             ]
            ],
            "type": "surface"
           }
          ],
          "table": [
           {
            "cells": {
             "fill": {
              "color": "#EBF0F8"
             },
             "line": {
              "color": "white"
             }
            },
            "header": {
             "fill": {
              "color": "#C8D4E3"
             },
             "line": {
              "color": "white"
             }
            },
            "type": "table"
           }
          ]
         },
         "layout": {
          "annotationdefaults": {
           "arrowcolor": "#2a3f5f",
           "arrowhead": 0,
           "arrowwidth": 1
          },
          "autotypenumbers": "strict",
          "coloraxis": {
           "colorbar": {
            "outlinewidth": 0,
            "ticks": ""
           }
          },
          "colorscale": {
           "diverging": [
            [
             0,
             "#8e0152"
            ],
            [
             0.1,
             "#c51b7d"
            ],
            [
             0.2,
             "#de77ae"
            ],
            [
             0.3,
             "#f1b6da"
            ],
            [
             0.4,
             "#fde0ef"
            ],
            [
             0.5,
             "#f7f7f7"
            ],
            [
             0.6,
             "#e6f5d0"
            ],
            [
             0.7,
             "#b8e186"
            ],
            [
             0.8,
             "#7fbc41"
            ],
            [
             0.9,
             "#4d9221"
            ],
            [
             1,
             "#276419"
            ]
           ],
           "sequential": [
            [
             0,
             "#0d0887"
            ],
            [
             0.1111111111111111,
             "#46039f"
            ],
            [
             0.2222222222222222,
             "#7201a8"
            ],
            [
             0.3333333333333333,
             "#9c179e"
            ],
            [
             0.4444444444444444,
             "#bd3786"
            ],
            [
             0.5555555555555556,
             "#d8576b"
            ],
            [
             0.6666666666666666,
             "#ed7953"
            ],
            [
             0.7777777777777778,
             "#fb9f3a"
            ],
            [
             0.8888888888888888,
             "#fdca26"
            ],
            [
             1,
             "#f0f921"
            ]
           ],
           "sequentialminus": [
            [
             0,
             "#0d0887"
            ],
            [
             0.1111111111111111,
             "#46039f"
            ],
            [
             0.2222222222222222,
             "#7201a8"
            ],
            [
             0.3333333333333333,
             "#9c179e"
            ],
            [
             0.4444444444444444,
             "#bd3786"
            ],
            [
             0.5555555555555556,
             "#d8576b"
            ],
            [
             0.6666666666666666,
             "#ed7953"
            ],
            [
             0.7777777777777778,
             "#fb9f3a"
            ],
            [
             0.8888888888888888,
             "#fdca26"
            ],
            [
             1,
             "#f0f921"
            ]
           ]
          },
          "colorway": [
           "#636efa",
           "#EF553B",
           "#00cc96",
           "#ab63fa",
           "#FFA15A",
           "#19d3f3",
           "#FF6692",
           "#B6E880",
           "#FF97FF",
           "#FECB52"
          ],
          "font": {
           "color": "#2a3f5f"
          },
          "geo": {
           "bgcolor": "white",
           "lakecolor": "white",
           "landcolor": "#E5ECF6",
           "showlakes": true,
           "showland": true,
           "subunitcolor": "white"
          },
          "hoverlabel": {
           "align": "left"
          },
          "hovermode": "closest",
          "mapbox": {
           "style": "light"
          },
          "paper_bgcolor": "white",
          "plot_bgcolor": "#E5ECF6",
          "polar": {
           "angularaxis": {
            "gridcolor": "white",
            "linecolor": "white",
            "ticks": ""
           },
           "bgcolor": "#E5ECF6",
           "radialaxis": {
            "gridcolor": "white",
            "linecolor": "white",
            "ticks": ""
           }
          },
          "scene": {
           "xaxis": {
            "backgroundcolor": "#E5ECF6",
            "gridcolor": "white",
            "gridwidth": 2,
            "linecolor": "white",
            "showbackground": true,
            "ticks": "",
            "zerolinecolor": "white"
           },
           "yaxis": {
            "backgroundcolor": "#E5ECF6",
            "gridcolor": "white",
            "gridwidth": 2,
            "linecolor": "white",
            "showbackground": true,
            "ticks": "",
            "zerolinecolor": "white"
           },
           "zaxis": {
            "backgroundcolor": "#E5ECF6",
            "gridcolor": "white",
            "gridwidth": 2,
            "linecolor": "white",
            "showbackground": true,
            "ticks": "",
            "zerolinecolor": "white"
           }
          },
          "shapedefaults": {
           "line": {
            "color": "#2a3f5f"
           }
          },
          "ternary": {
           "aaxis": {
            "gridcolor": "white",
            "linecolor": "white",
            "ticks": ""
           },
           "baxis": {
            "gridcolor": "white",
            "linecolor": "white",
            "ticks": ""
           },
           "bgcolor": "#E5ECF6",
           "caxis": {
            "gridcolor": "white",
            "linecolor": "white",
            "ticks": ""
           }
          },
          "title": {
           "x": 0.05
          },
          "xaxis": {
           "automargin": true,
           "gridcolor": "white",
           "linecolor": "white",
           "ticks": "",
           "title": {
            "standoff": 15
           },
           "zerolinecolor": "white",
           "zerolinewidth": 2
          },
          "yaxis": {
           "automargin": true,
           "gridcolor": "white",
           "linecolor": "white",
           "ticks": "",
           "title": {
            "standoff": 15
           },
           "zerolinecolor": "white",
           "zerolinewidth": 2
          }
         }
        },
        "title": {
         "text": "Lucro por segmento"
        }
       }
      },
      "image/png": "[encoded data removed]",
      "text/html": [
       "<div>                            <div id=\"70f2b55b-ff5d-4ff0-ba1b-1e0e373405a0\" class=\"plotly-graph-div\" style=\"height:525px; width:100%;\"></div>            <script type=\"text/javascript\">                require([\"plotly\"], function(Plotly) {                    window.PLOTLYENV=window.PLOTLYENV || {};                                    if (document.getElementById(\"70f2b55b-ff5d-4ff0-ba1b-1e0e373405a0\")) {                    Plotly.newPlot(                        \"70f2b55b-ff5d-4ff0-ba1b-1e0e373405a0\",                        [{\"domain\":{\"x\":[0.0,1.0],\"y\":[0.0,1.0]},\"hovertemplate\":\"Segment=%{label}<br>Profit=%{value}<extra></extra>\",\"labels\":[\"Government\",\"Government\",\"Midmarket\",\"Midmarket\",\"Midmarket\",\"Government\",\"Midmarket\",\"Channel Partners\",\"Government\",\"Channel Partners\",\"Midmarket\",\"Enterprise\",\"Small Business\",\"Government\",\"Enterprise\",\"Midmarket\",\"Government\",\"Midmarket\",\"Channel Partners\",\"Government\",\"Channel Partners\",\"Government\",\"Midmarket\",\"Small Business\",\"Midmarket\",\"Government\",\"Government\",\"Channel Partners\",\"Midmarket\",\"Government\",\"Government\",\"Government\",\"Enterprise\",\"Channel Partners\",\"Government\",\"Channel Partners\",\"Enterprise\",\"Enterprise\",\"Small Business\",\"Channel Partners\",\"Midmarket\",\"Midmarket\",\"Government\",\"Small Business\",\"Government\",\"Government\",\"Channel Partners\",\"Enterprise\",\"Government\",\"Government\",\"Channel Partners\",\"Government\",\"Midmarket\",\"Government\",\"Midmarket\",\"Government\",\"Government\",\"Government\",\"Channel Partners\",\"Government\",\"Government\",\"Channel Partners\",\"Enterprise\",\"Channel Partners\",\"Channel Partners\",\"Small Business\",\"Government\",\"Government\",\"Midmarket\",\"Small Business\",\"Government\",\"Government\",\"Small Business\",\"Enterprise\",\"Midmarket\",\"Government\",\"Enterprise\",\"Enterprise\",\"Enterprise\",\"Midmarket\",\"Channel Partners\",\"Small Business\",\"Government\",\"Government\",\"Government\",\"Enterprise\",\"Enterprise\",\"Government\",\"Government\",\"Government\",\"Enterprise\",\"Enterprise\",\"Small Business\",\"Small Business\",\"Government\",\"Enterprise\",\"Channel Partners\",\"Midmarket\",\"Enterprise\",\"Channel Partners\",\"Small Business\",\"Government\",\"Government\",\"Channel Partners\",\"Government\",\"Channel Partners\",\"Enterprise\",\"Midmarket\",\"Small Business\",\"Small Business\",\"Channel Partners\",\"Enterprise\",\"Channel Partners\",\"Enterprise\",\"Enterprise\",\"Channel Partners\",\"Small Business\",\"Government\",\"Enterprise\",\"Midmarket\",\"Government\",\"Channel Partners\",\"Channel Partners\",\"Government\",\"Government\",\"Government\",\"Enterprise\",\"Enterprise\",\"Channel Partners\",\"Government\",\"Channel Partners\",\"Enterprise\",\"Small Business\",\"Government\",\"Enterprise\",\"Government\",\"Government\",\"Small Business\",\"Small Business\",\"Enterprise\",\"Government\",\"Government\",\"Government\",\"Small Business\",\"Enterprise\",\"Government\",\"Small Business\",\"Channel Partners\",\"Channel Partners\",\"Government\",\"Channel Partners\",\"Government\",\"Government\",\"Enterprise\",\"Enterprise\",\"Small Business\",\"Enterprise\",\"Channel Partners\",\"Small Business\",\"Enterprise\",\"Channel Partners\",\"Enterprise\",\"Midmarket\",\"Enterprise\",\"Enterprise\",\"Enterprise\",\"Small Business\",\"Channel Partners\",\"Enterprise\",\"Small Business\",\"Government\",\"Midmarket\",\"Government\",\"Government\",\"Government\",\"Channel Partners\",\"Midmarket\",\"Midmarket\",\"Midmarket\",\"Government\",\"Government\",\"Small Business\",\"Government\",\"Midmarket\",\"Small Business\",\"Government\",\"Small Business\",\"Enterprise\",\"Government\",\"Enterprise\",\"Small Business\",\"Small Business\",\"Government\",\"Enterprise\",\"Midmarket\",\"Government\",\"Government\",\"Midmarket\",\"Midmarket\",\"Government\",\"Enterprise\",\"Channel Partners\",\"Government\",\"Government\",\"Channel Partners\",\"Government\",\"Government\",\"Midmarket\",\"Government\",\"Enterprise\",\"Government\",\"Midmarket\",\"Government\",\"Government\",\"Government\",\"Government\",\"Government\",\"Channel Partners\",\"Channel Partners\",\"Government\",\"Government\",\"Channel Partners\",\"Government\",\"Channel Partners\",\"Channel Partners\",\"Government\",\"Small Business\",\"Government\",\"Midmarket\",\"Government\",\"Government\",\"Government\",\"Enterprise\",\"Government\",\"Channel Partners\",\"Small Business\",\"Government\",\"Enterprise\",\"Enterprise\",\"Small Business\",\"Government\",\"Small Business\",\"Government\",\"Midmarket\",\"Government\",\"Government\",\"Enterprise\",\"Enterprise\",\"Government\",\"Government\",\"Government\",\"Midmarket\",\"Midmarket\",\"Midmarket\",\"Enterprise\",\"Government\",\"Government\",\"Government\",\"Enterprise\",\"Enterprise\",\"Government\",\"Small Business\",\"Government\",\"Government\",\"Government\",\"Government\",\"Government\",\"Government\",\"Government\",\"Government\",\"Government\",\"Small Business\",\"Midmarket\",\"Government\",\"Midmarket\",\"Channel Partners\",\"Channel Partners\",\"Midmarket\",\"Government\",\"Enterprise\",\"Government\",\"Government\",\"Government\",\"Channel Partners\",\"Government\",\"Channel Partners\",\"Government\",\"Enterprise\",\"Enterprise\",\"Midmarket\",\"Government\",\"Government\",\"Small Business\",\"Government\",\"Midmarket\",\"Government\",\"Small Business\",\"Government\",\"Small Business\",\"Enterprise\",\"Government\",\"Government\",\"Government\",\"Government\",\"Government\",\"Midmarket\",\"Midmarket\",\"Midmarket\",\"Government\",\"Government\",\"Government\",\"Midmarket\",\"Channel Partners\",\"Channel Partners\",\"Government\",\"Channel Partners\",\"Channel Partners\",\"Government\",\"Midmarket\",\"Government\",\"Government\",\"Government\",\"Channel Partners\",\"Channel Partners\",\"Government\",\"Government\",\"Government\",\"Small Business\",\"Small Business\",\"Government\",\"Small Business\",\"Enterprise\",\"Small Business\",\"Small Business\",\"Enterprise\",\"Midmarket\",\"Midmarket\",\"Government\",\"Small Business\",\"Small Business\",\"Channel Partners\",\"Government\",\"Small Business\",\"Government\",\"Enterprise\",\"Government\",\"Government\",\"Small Business\",\"Government\",\"Channel Partners\",\"Small Business\",\"Small Business\",\"Enterprise\",\"Government\",\"Enterprise\",\"Government\",\"Small Business\",\"Government\",\"Government\",\"Government\",\"Government\",\"Enterprise\",\"Midmarket\",\"Government\",\"Midmarket\",\"Government\",\"Government\",\"Small Business\",\"Small Business\",\"Midmarket\",\"Enterprise\",\"Government\",\"Government\",\"Government\",\"Small Business\",\"Government\",\"Government\",\"Government\",\"Government\",\"Government\",\"Government\",\"Government\",\"Government\",\"Channel Partners\",\"Government\",\"Government\",\"Small Business\",\"Small Business\",\"Government\",\"Government\",\"Government\",\"Government\",\"Small Business\",\"Small Business\",\"Government\",\"Government\",\"Government\",\"Small Business\",\"Government\",\"Midmarket\",\"Channel Partners\",\"Small Business\",\"Government\",\"Small Business\",\"Channel Partners\",\"Small Business\",\"Government\",\"Small Business\",\"Channel Partners\",\"Enterprise\",\"Government\",\"Enterprise\",\"Small Business\",\"Small Business\",\"Government\",\"Midmarket\",\"Small Business\",\"Midmarket\",\"Channel Partners\",\"Small Business\",\"Channel Partners\",\"Enterprise\",\"Midmarket\",\"Small Business\",\"Government\",\"Enterprise\",\"Enterprise\",\"Government\",\"Channel Partners\",\"Small Business\",\"Government\",\"Channel Partners\",\"Small Business\",\"Channel Partners\",\"Midmarket\",\"Enterprise\",\"Government\",\"Government\",\"Midmarket\",\"Government\",\"Government\",\"Government\",\"Channel Partners\",\"Government\",\"Government\",\"Government\",\"Government\",\"Channel Partners\",\"Midmarket\",\"Government\",\"Government\",\"Government\",\"Government\",\"Midmarket\",\"Channel Partners\",\"Channel Partners\",\"Government\",\"Channel Partners\",\"Enterprise\",\"Enterprise\",\"Government\",\"Enterprise\",\"Midmarket\",\"Government\",\"Small Business\",\"Midmarket\",\"Government\",\"Midmarket\",\"Midmarket\",\"Midmarket\",\"Government\",\"Enterprise\",\"Small Business\",\"Government\",\"Government\",\"Enterprise\",\"Small Business\",\"Enterprise\",\"Midmarket\",\"Government\",\"Small Business\",\"Small Business\",\"Midmarket\",\"Enterprise\",\"Government\",\"Enterprise\",\"Government\",\"Small Business\",\"Channel Partners\",\"Government\",\"Channel Partners\",\"Government\",\"Midmarket\",\"Small Business\",\"Channel Partners\",\"Government\",\"Channel Partners\",\"Midmarket\",\"Channel Partners\",\"Government\",\"Channel Partners\",\"Midmarket\",\"Channel Partners\",\"Channel Partners\",\"Government\",\"Small Business\",\"Enterprise\",\"Midmarket\",\"Government\",\"Government\",\"Government\",\"Midmarket\",\"Small Business\",\"Government\",\"Government\",\"Channel Partners\",\"Channel Partners\",\"Government\",\"Midmarket\",\"Enterprise\",\"Government\",\"Small Business\",\"Government\",\"Midmarket\",\"Government\",\"Government\",\"Channel Partners\",\"Enterprise\",\"Government\",\"Enterprise\",\"Government\",\"Enterprise\",\"Enterprise\",\"Government\",\"Midmarket\",\"Government\",\"Government\",\"Enterprise\",\"Enterprise\",\"Midmarket\",\"Midmarket\",\"Small Business\",\"Government\",\"Government\",\"Government\",\"Small Business\",\"Small Business\",\"Government\",\"Enterprise\",\"Government\",\"Government\",\"Government\",\"Small Business\",\"Small Business\",\"Government\",\"Midmarket\",\"Government\",\"Government\",\"Government\",\"Government\",\"Channel Partners\",\"Midmarket\",\"Government\",\"Government\",\"Enterprise\",\"Government\",\"Government\",\"Government\",\"Government\",\"Midmarket\",\"Government\",\"Channel Partners\",\"Government\",\"Government\",\"Government\",\"Channel Partners\",\"Midmarket\",\"Midmarket\",\"Government\",\"Government\",\"Government\",\"Government\",\"Government\",\"Channel Partners\",\"Government\",\"Government\",\"Government\",\"Small Business\",\"Government\",\"Government\",\"Government\",\"Enterprise\",\"Channel Partners\",\"Government\",\"Midmarket\",\"Government\",\"Government\",\"Channel Partners\",\"Midmarket\",\"Government\",\"Government\",\"Channel Partners\",\"Midmarket\",\"Channel Partners\",\"Small Business\",\"Channel Partners\",\"Enterprise\",\"Midmarket\",\"Enterprise\",\"Government\",\"Channel Partners\",\"Channel Partners\",\"Government\",\"Government\",\"Government\",\"Government\",\"Government\",\"Government\",\"Midmarket\",\"Government\",\"Midmarket\",\"Channel Partners\",\"Government\",\"Channel Partners\",\"Channel Partners\",\"Small Business\",\"Enterprise\",\"Small Business\",\"Small Business\",\"Midmarket\",\"Midmarket\",\"Enterprise\",\"Government\",\"Government\",\"Government\",\"Government\",\"Government\",\"Midmarket\",\"Government\",\"Midmarket\",\"Midmarket\",\"Channel Partners\",\"Government\",\"Government\",\"Channel Partners\",\"Government\",\"Government\",\"Enterprise\",\"Government\",\"Small Business\",\"Small Business\",\"Small Business\",\"Government\",\"Small Business\",\"Small Business\",\"Small Business\",\"Small Business\",\"Government\",\"Small Business\",\"Enterprise\",\"Channel Partners\",\"Midmarket\",\"Channel Partners\",\"Government\",\"Government\",\"Midmarket\",\"Enterprise\",\"Enterprise\",\"Enterprise\",\"Small Business\",\"Government\",\"Midmarket\",\"Government\",\"Government\",\"Midmarket\",\"Government\",\"Enterprise\",\"Midmarket\",\"Government\",\"Government\",\"Channel Partners\",\"Government\",\"Channel Partners\",\"Midmarket\",\"Enterprise\",\"Small Business\",\"Enterprise\",\"Channel Partners\",\"Government\",\"Midmarket\",\"Government\",\"Midmarket\",\"Enterprise\",\"Enterprise\",\"Government\",\"Small Business\",\"Small Business\",\"Government\",\"Government\",\"Channel Partners\"],\"legendgroup\":\"\",\"name\":\"\",\"showlegend\":true,\"values\":[16185.0,13210.0,10890.0,4440.0,12350.0,136170.0,4605.0,22662.0,18990.0,13905.0,12350.0,13327.5,47900.0,4292.0,1725.0,3075.0,2920.0,4870.0,22662.0,90540.0,3303.0,1766.0,2745.0,39400.0,12360.0,2286.0,155250.0,8208.0,10760.0,18170.0,136170.0,2986.0,9020.0,19449.0,90540.0,13905.0,14105.0,1725.0,100050.0,25542.0,10890.0,4440.0,137430.0,107550.0,18170.0,247500.0,17577.0,21097.5,18990.0,3372.0,19269.0,2286.0,3075.0,7613.850000000002,11135.599999999999,1987.8999999999996,1233.2700000000004,2559.1800000000003,16499.04,104665.0,4880.969999999999,12831.599999999999,1237.5,23718.48,6802.08,23218.0,120840.5,186407.5,10737.900000000001,108147.0,13479.899999999998,3531.8999999999996,117406.0,2486.25,7342.9000000000015,8670.524999999998,2726.25,2951.25,6836.25,3622.9500000000007,6802.08,136535.0,186407.5,37867.200000000004,698.6599999999999,3461.25,2486.25,4037.5599999999995,507.5899999999999,81612.75,2726.25,2951.25,46342.0,23218.0,120840.5,6540.0,17662.32,1556.8500000000004,1856.25,11344.2,9416.0,3989.7000000000007,236716.0,10003.92,15033.599999999999,6044.4,4150.0,11106.099999999999,40392.0,76032.0,10003.92,1655.0,11344.2,2022.5,5362.5,15636.599999999999,84304.0,236716.0,6822.5,9047.5,3744.1800000000003,9241.8,9495.84,15033.599999999999,246178.0,238791.0,2022.5,5362.5,9241.8,5222.4,9495.84,1655.0,9416.0,238791.0,6822.5,22078.0,161020.0,11396.0,48444.0,5690.0,246178.0,11865.599999999999,9033.599999999999,84304.0,5304.375,24252.0,28249.0,16822.08,7845.120000000001,3504.8199999999997,16424.64,973.7600000000002,142861.5,1608.75,2132.5,99814.5,2217.5,16424.64,28249.0,1962.5,11832.48,2511.25,8849.75,1608.75,2132.5,2511.25,116604.0,16554.24,1962.5,76834.0,130539.0,8849.75,7811.4,3150.3999999999996,36194.700000000004,21418.56,8936.400000000001,8936.400000000001,9948.400000000001,6771.200000000001,4903.720000000001,76798.0,20824.0,8654.8,70642.0,4903.720000000001,76798.0,0.0,7311.719999999999,0.0,53751.0,110884.0,262200.0,0.0,959.1999999999998,19080.800000000003,9715.2,2952.3999999999996,6661.5999999999985,20824.0,0.0,12481.8,24343.199999999997,165452.0,7378.32,26524.0,165452.0,6661.5999999999985,141740.0,0.0,144932.0,2952.3999999999996,135128.0,1912.3500000000004,2263.7999999999993,3875.8500000000004,4436.8499999999985,20420.4,20420.4,4436.8499999999985,2776.9500000000007,9433.2,1912.3500000000004,15666.0,9374.4,14067.0,34685.0,1676.3999999999996,11861.75,940.5,4103.549999999999,100376.25,-4533.75,52200.0,19672.8,38500.0,11727.0,-3740.0,-2981.25,56245.0,3839.5499999999993,34685.0,43645.0,11135.0,89030.0,12501.0,-1076.25,-880.0,16218.0,23967.0,3524.3999999999996,8993.0,2358.75,12159.25,-1008.75,43645.0,25488.0,14211.0,-1076.25,-880.0,9297.0,43750.0,12501.0,11385.0,20673.0,23967.0,940.5,4103.549999999999,97875.0,40020.0,89030.0,43750.0,15584.100000000002,9834.0,11660.400000000001,4653.36,19035.72,8323.0,415.53999999999996,-2217.5,67620.0,100740.0,2216.74,22546.44,103224.0,19035.72,50163.0,-2380.0,-6887.5,6273.0,103224.0,2366.84,39072.0,143244.0,11660.400000000001,2366.84,39072.0,9882.400000000001,77952.0,-4968.75,115851.0,50163.0,2216.74,143244.0,15461.599999999999,9011.8,7146.299999999999,4727.299999999999,15461.599999999999,8808.8,2106.1399999999994,4727.299999999999,5932.32,15373.439999999999,15772.400000000001,19094.4,19110.72,1556.8100000000004,4984.9000000000015,1713.8500000000004,825.9700000000003,2388.8199999999997,14186.16,18074.4,2388.8199999999997,1713.8500000000004,115345.5,12992.0,63249.0,16993.6,63249.0,-9375.0,49358.0,12992.0,-13173.75,8298.95,11577.449999999997,13201.0,32567.0,40716.0,22546.08,3208.75,48111.0,5237.4,-7826.25,16993.6,12220.599999999999,39788.0,5056.799999999999,26475.120000000003,27811.0,79663.0,-6168.75,188378.0,-3727.5,9614.8,39788.0,702.7200000000003,10768.8,370.0799999999999,10768.8,-7700.0,1862.0,84444.0,9503.800000000003,5947.200000000001,5418.0,40612.0,33358.0,2701.7999999999993,-5570.0,1812.96,1576.8000000000002,11474.400000000001,63960.0,976.3199999999997,2301.120000000001,3468.959999999999,16245.599999999999,25141.199999999997,133052.0,2802.24,84444.0,4807.92,4186.080000000002,3366.7199999999993,10036.0,16510.0,35619.0,3366.7199999999993,23622.0,26164.0,55484.0,21008.0,5947.200000000001,4186.080000000002,11474.400000000001,63960.0,12768.0,2701.7999999999993,11055.0,16510.0,3666.5999999999995,25162.0,2906.64,87457.5,97461.0,7406.0,18382.32,-11606.25,2207.0699999999997,-17481.25,7682.0,58995.0,141394.5,13413.75,25162.0,4478.549999999999,2906.64,30452.0,14058.0,-17481.25,894.25,87250.5,76459.5,-3543.75,-13187.5,74236.5,15491.52,61157.0,79062.75,6969.6,42941.0,17693.28,4478.549999999999,-5481.25,121153.5,74236.5,3540.5,13890.8,5436.6,1122.03,12513.599999999999,713.77,7978.5999999999985,8511.599999999999,493.1999999999998,15578.64,9592.199999999997,493.1999999999998,21992.4,713.77,8511.599999999999,5951.324999999999,2423.52,3010.8,3026.3999999999996,3010.8,-25841.25,-11115.0,127215.0,-13530.0,7252.0,15632.0,11820.0,7584.5,1928.0,2383.5,1785.0,2765.0,35145.0,-11970.0,45880.0,1928.0,3464.5,-14370.0,17060.0,-2557.5,2243.5,154385.0,8640.0,45880.0,7584.5,-18967.5,102850.0,-4342.5,123200.0,59860.0,27459.899999999998,16312.0,20077.2,38885.0,7252.0,17060.0,9200.64,3114.3599999999997,9200.64,1286.3999999999999,3624.96,1942.17,7718.4,10718.324999999999,3624.96,14876.16,40788.0,47787.0,-21358.75,5226.0,3328.380000000001,39449.0,23337.6,7225.950000000001,14841.0,8751.599999999999,108381.75,30919.68,18627.840000000004,18673.199999999997,6646.4000000000015,-21358.75,23337.6,23222.0,21879.0,2194.25,17716.0,2223.84,13317.119999999999,-4847.5,22893.0,-27693.75,20506.199999999997,-12538.75,-8286.25,17716.0,7225.950000000001,467.4000000000001,42528.0,-24160.0,-21560.0,8604.800000000003,2166.3999999999996,24822.0,2807.2000000000007,3171.4399999999987,13034.0,16604.0,48930.0,42528.0,-21560.0,6878.0,13034.0,76512.0,19026.0,30100.0,57456.0,1216.0,9370.8,66960.0,47328.0,6878.0,15944.04,12398.399999999998,29904.0,47328.0,-23870.0,9370.8,12960.0,3968.9399999999987,3171.4399999999987,8153.5999999999985,19163.399999999998,20117.16,11635.599999999999,1729.5599999999995,11635.599999999999,20873.16,7829.3499999999985,7829.3499999999985,41073.5,79655.0,3270.8,43721.25,1414.8199999999997,4493.76,16687.0,9242.599999999999,1567.9649999999992,8877.0,19543.4,20039.199999999997,117124.0,-17808.75,4248.24,2938.6399999999994,4773.25,9242.599999999999,15886.5,7536.719999999999,12192.375,117124.0,1297.1000000000004,4493.76,2013.0,3050.3999999999996,28655.0,7536.719999999999,-17808.75,4773.25,-18663.75,1297.1000000000004,3050.3999999999996,13168.8,18568.800000000003,12549.599999999999,3055.9199999999983,285.5999999999999,298.8600000000001,3055.9199999999983,806.1999999999998,17481.6,5124.299999999999,10196.76,285.5999999999999,10196.76,14749.8,6408.0,-12787.5,11968.0,8080.0,4387.700000000001,6670.0,-35262.5,91327.5,49159.0,8200.0,395.7600000000002,1761.5400000000009,6670.0,1872.0,7163.0,5054.700000000001,21330.48,1765.619999999999,28700.0,16265.04,48257.0,78802.0,-19687.5,4363.200000000001,19680.0,2152.0,20288.0,2961.0600000000013,20328.0,2152.0,11968.0,8080.0,52521.0,7104.0,-35550.0,18117.0,5054.700000000001,21330.48,1765.619999999999,1761.5400000000009,5423.0,-16142.5,-38046.25,-14918.75,2730.0,8106.0,4438.5,2408.25,106912.5,7037.25,1869.0,-14918.75,3231.25,75262.5,80662.5,6580.799999999999,2051.0,3600.0,7771.5,-9116.25,12870.0,-33522.5,6580.799999999999,6058.5,1353.0,1869.0,3231.25,-40617.5,-7590.0,2051.0,12375.0,2730.0,1299.6000000000004,686.8500000000001,13003.2],\"type\":\"pie\"}],                        {\"template\":{\"data\":{\"histogram2dcontour\":[{\"type\":\"histogram2dcontour\",\"colorbar\":{\"outlinewidth\":0,\"ticks\":\"\"},\"colorscale\":[[0.0,\"#0d0887\"],[0.1111111111111111,\"#46039f\"],[0.2222222222222222,\"#7201a8\"],[0.3333333333333333,\"#9c179e\"],[0.4444444444444444,\"#bd3786\"],[0.5555555555555556,\"#d8576b\"],[0.6666666666666666,\"#ed7953\"],[0.7777777777777778,\"#fb9f3a\"],[0.8888888888888888,\"#fdca26\"],[1.0,\"#f0f921\"]]}],\"choropleth\":[{\"type\":\"choropleth\",\"colorbar\":{\"outlinewidth\":0,\"ticks\":\"\"}}],\"histogram2d\":[{\"type\":\"histogram2d\",\"colorbar\":{\"outlinewidth\":0,\"ticks\":\"\"},\"colorscale\":[[0.0,\"#0d0887\"],[0.1111111111111111,\"#46039f\"],[0.2222222222222222,\"#7201a8\"],[0.3333333333333333,\"#9c179e\"],[0.4444444444444444,\"#bd3786\"],[0.5555555555555556,\"#d8576b\"],[0.6666666666666666,\"#ed7953\"],[0.7777777777777778,\"#fb9f3a\"],[0.8888888888888888,\"#fdca26\"],[1.0,\"#f0f921\"]]}],\"heatmap\":[{\"type\":\"heatmap\",\"colorbar\":{\"outlinewidth\":0,\"ticks\":\"\"},\"colorscale\":[[0.0,\"#0d0887\"],[0.1111111111111111,\"#46039f\"],[0.2222222222222222,\"#7201a8\"],[0.3333333333333333,\"#9c179e\"],[0.4444444444444444,\"#bd3786\"],[0.5555555555555556,\"#d8576b\"],[0.6666666666666666,\"#ed7953\"],[0.7777777777777778,\"#fb9f3a\"],[0.8888888888888888,\"#fdca26\"],[1.0,\"#f0f921\"]]}],\"heatmapgl\":[{\"type\":\"heatmapgl\",\"colorbar\":{\"outlinewidth\":0,\"ticks\":\"\"},\"colorscale\":[[0.0,\"#0d0887\"],[0.1111111111111111,\"#46039f\"],[0.2222222222222222,\"#7201a8\"],[0.3333333333333333,\"#9c179e\"],[0.4444444444444444,\"#bd3786\"],[0.5555555555555556,\"#d8576b\"],[0.6666666666666666,\"#ed7953\"],[0.7777777777777778,\"#fb9f3a\"],[0.8888888888888888,\"#fdca26\"],[1.0,\"#f0f921\"]]}],\"contourcarpet\":[{\"type\":\"contourcarpet\",\"colorbar\":{\"outlinewidth\":0,\"ticks\":\"\"}}],\"contour\":[{\"type\":\"contour\",\"colorbar\":{\"outlinewidth\":0,\"ticks\":\"\"},\"colorscale\":[[0.0,\"#0d0887\"],[0.1111111111111111,\"#46039f\"],[0.2222222222222222,\"#7201a8\"],[0.3333333333333333,\"#9c179e\"],[0.4444444444444444,\"#bd3786\"],[0.5555555555555556,\"#d8576b\"],[0.6666666666666666,\"#ed7953\"],[0.7777777777777778,\"#fb9f3a\"],[0.8888888888888888,\"#fdca26\"],[1.0,\"#f0f921\"]]}],\"surface\":[{\"type\":\"surface\",\"colorbar\":{\"outlinewidth\":0,\"ticks\":\"\"},\"colorscale\":[[0.0,\"#0d0887\"],[0.1111111111111111,\"#46039f\"],[0.2222222222222222,\"#7201a8\"],[0.3333333333333333,\"#9c179e\"],[0.4444444444444444,\"#bd3786\"],[0.5555555555555556,\"#d8576b\"],[0.6666666666666666,\"#ed7953\"],[0.7777777777777778,\"#fb9f3a\"],[0.8888888888888888,\"#fdca26\"],[1.0,\"#f0f921\"]]}],\"mesh3d\":[{\"type\":\"mesh3d\",\"colorbar\":{\"outlinewidth\":0,\"ticks\":\"\"}}],\"scatter\":[{\"fillpattern\":{\"fillmode\":\"overlay\",\"size\":10,\"solidity\":0.2},\"type\":\"scatter\"}],\"parcoords\":[{\"type\":\"parcoords\",\"line\":{\"colorbar\":{\"outlinewidth\":0,\"ticks\":\"\"}}}],\"scatterpolargl\":[{\"type\":\"scatterpolargl\",\"marker\":{\"colorbar\":{\"outlinewidth\":0,\"ticks\":\"\"}}}],\"bar\":[{\"error_x\":{\"color\":\"#2a3f5f\"},\"error_y\":{\"color\":\"#2a3f5f\"},\"marker\":{\"line\":{\"color\":\"#E5ECF6\",\"width\":0.5},\"pattern\":{\"fillmode\":\"overlay\",\"size\":10,\"solidity\":0.2}},\"type\":\"bar\"}],\"scattergeo\":[{\"type\":\"scattergeo\",\"marker\":{\"colorbar\":{\"outlinewidth\":0,\"ticks\":\"\"}}}],\"scatterpolar\":[{\"type\":\"scatterpolar\",\"marker\":{\"colorbar\":{\"outlinewidth\":0,\"ticks\":\"\"}}}],\"histogram\":[{\"marker\":{\"pattern\":{\"fillmode\":\"overlay\",\"size\":10,\"solidity\":0.2}},\"type\":\"histogram\"}],\"scattergl\":[{\"type\":\"scattergl\",\"marker\":{\"colorbar\":{\"outlinewidth\":0,\"ticks\":\"\"}}}],\"scatter3d\":[{\"type\":\"scatter3d\",\"line\":{\"colorbar\":{\"outlinewidth\":0,\"ticks\":\"\"}},\"marker\":{\"colorbar\":{\"outlinewidth\":0,\"ticks\":\"\"}}}],\"scattermapbox\":[{\"type\":\"scattermapbox\",\"marker\":{\"colorbar\":{\"outlinewidth\":0,\"ticks\":\"\"}}}],\"scatterternary\":[{\"type\":\"scatterternary\",\"marker\":{\"colorbar\":{\"outlinewidth\":0,\"ticks\":\"\"}}}],\"scattercarpet\":[{\"type\":\"scattercarpet\",\"marker\":{\"colorbar\":{\"outlinewidth\":0,\"ticks\":\"\"}}}],\"carpet\":[{\"aaxis\":{\"endlinecolor\":\"#2a3f5f\",\"gridcolor\":\"white\",\"linecolor\":\"white\",\"minorgridcolor\":\"white\",\"startlinecolor\":\"#2a3f5f\"},\"baxis\":{\"endlinecolor\":\"#2a3f5f\",\"gridcolor\":\"white\",\"linecolor\":\"white\",\"minorgridcolor\":\"white\",\"startlinecolor\":\"#2a3f5f\"},\"type\":\"carpet\"}],\"table\":[{\"cells\":{\"fill\":{\"color\":\"#EBF0F8\"},\"line\":{\"color\":\"white\"}},\"header\":{\"fill\":{\"color\":\"#C8D4E3\"},\"line\":{\"color\":\"white\"}},\"type\":\"table\"}],\"barpolar\":[{\"marker\":{\"line\":{\"color\":\"#E5ECF6\",\"width\":0.5},\"pattern\":{\"fillmode\":\"overlay\",\"size\":10,\"solidity\":0.2}},\"type\":\"barpolar\"}],\"pie\":[{\"automargin\":true,\"type\":\"pie\"}]},\"layout\":{\"autotypenumbers\":\"strict\",\"colorway\":[\"#636efa\",\"#EF553B\",\"#00cc96\",\"#ab63fa\",\"#FFA15A\",\"#19d3f3\",\"#FF6692\",\"#B6E880\",\"#FF97FF\",\"#FECB52\"],\"font\":{\"color\":\"#2a3f5f\"},\"hovermode\":\"closest\",\"hoverlabel\":{\"align\":\"left\"},\"paper_bgcolor\":\"white\",\"plot_bgcolor\":\"#E5ECF6\",\"polar\":{\"bgcolor\":\"#E5ECF6\",\"angularaxis\":{\"gridcolor\":\"white\",\"linecolor\":\"white\",\"ticks\":\"\"},\"radialaxis\":{\"gridcolor\":\"white\",\"linecolor\":\"white\",\"ticks\":\"\"}},\"ternary\":{\"bgcolor\":\"#E5ECF6\",\"aaxis\":{\"gridcolor\":\"white\",\"linecolor\":\"white\",\"ticks\":\"\"},\"baxis\":{\"gridcolor\":\"white\",\"linecolor\":\"white\",\"ticks\":\"\"},\"caxis\":{\"gridcolor\":\"white\",\"linecolor\":\"white\",\"ticks\":\"\"}},\"coloraxis\":{\"colorbar\":{\"outlinewidth\":0,\"ticks\":\"\"}},\"colorscale\":{\"sequential\":[[0.0,\"#0d0887\"],[0.1111111111111111,\"#46039f\"],[0.2222222222222222,\"#7201a8\"],[0.3333333333333333,\"#9c179e\"],[0.4444444444444444,\"#bd3786\"],[0.5555555555555556,\"#d8576b\"],[0.6666666666666666,\"#ed7953\"],[0.7777777777777778,\"#fb9f3a\"],[0.8888888888888888,\"#fdca26\"],[1.0,\"#f0f921\"]],\"sequentialminus\":[[0.0,\"#0d0887\"],[0.1111111111111111,\"#46039f\"],[0.2222222222222222,\"#7201a8\"],[0.3333333333333333,\"#9c179e\"],[0.4444444444444444,\"#bd3786\"],[0.5555555555555556,\"#d8576b\"],[0.6666666666666666,\"#ed7953\"],[0.7777777777777778,\"#fb9f3a\"],[0.8888888888888888,\"#fdca26\"],[1.0,\"#f0f921\"]],\"diverging\":[[0,\"#8e0152\"],[0.1,\"#c51b7d\"],[0.2,\"#de77ae\"],[0.3,\"#f1b6da\"],[0.4,\"#fde0ef\"],[0.5,\"#f7f7f7\"],[0.6,\"#e6f5d0\"],[0.7,\"#b8e186\"],[0.8,\"#7fbc41\"],[0.9,\"#4d9221\"],[1,\"#276419\"]]},\"xaxis\":{\"gridcolor\":\"white\",\"linecolor\":\"white\",\"ticks\":\"\",\"title\":{\"standoff\":15},\"zerolinecolor\":\"white\",\"automargin\":true,\"zerolinewidth\":2},\"yaxis\":{\"gridcolor\":\"white\",\"linecolor\":\"white\",\"ticks\":\"\",\"title\":{\"standoff\":15},\"zerolinecolor\":\"white\",\"automargin\":true,\"zerolinewidth\":2},\"scene\":{\"xaxis\":{\"backgroundcolor\":\"#E5ECF6\",\"gridcolor\":\"white\",\"linecolor\":\"white\",\"showbackground\":true,\"ticks\":\"\",\"zerolinecolor\":\"white\",\"gridwidth\":2},\"yaxis\":{\"backgroundcolor\":\"#E5ECF6\",\"gridcolor\":\"white\",\"linecolor\":\"white\",\"showbackground\":true,\"ticks\":\"\",\"zerolinecolor\":\"white\",\"gridwidth\":2},\"zaxis\":{\"backgroundcolor\":\"#E5ECF6\",\"gridcolor\":\"white\",\"linecolor\":\"white\",\"showbackground\":true,\"ticks\":\"\",\"zerolinecolor\":\"white\",\"gridwidth\":2}},\"shapedefaults\":{\"line\":{\"color\":\"#2a3f5f\"}},\"annotationdefaults\":{\"arrowcolor\":\"#2a3f5f\",\"arrowhead\":0,\"arrowwidth\":1},\"geo\":{\"bgcolor\":\"white\",\"landcolor\":\"#E5ECF6\",\"subunitcolor\":\"white\",\"showland\":true,\"showlakes\":true,\"lakecolor\":\"white\"},\"title\":{\"x\":0.05},\"mapbox\":{\"style\":\"light\"}}},\"legend\":{\"tracegroupgap\":0},\"title\":{\"text\":\"Lucro por segmento\"}},                        {\"responsive\": true}                    ).then(function(){\n",
       "                            \n",
       "var gd = document.getElementById('70f2b55b-ff5d-4ff0-ba1b-1e0e373405a0');\n",
       "var x = new MutationObserver(function (mutations, observer) {{\n",
       "        var display = window.getComputedStyle(gd).display;\n",
       "        if (!display || display === 'none') {{\n",
       "            console.log([gd, 'removed!']);\n",
       "            Plotly.purge(gd);\n",
       "            observer.disconnect();\n",
       "        }}\n",
       "}});\n",
       "\n",
       "// Listen for the removal of the full notebook cells\n",
       "var notebookContainer = gd.closest('#notebook-container');\n",
       "if (notebookContainer) {{\n",
       "    x.observe(notebookContainer, {childList: true});\n",
       "}}\n",
       "\n",
       "// Listen for the clearing of the current output cell\n",
       "var outputEl = gd.closest('.output');\n",
       "if (outputEl) {{\n",
       "    x.observe(outputEl, {childList: true});\n",
       "}}\n",
       "\n",
       "                        })                };                });            </script>        </div>"
      ]
     },
     "metadata": {},
     "output_type": "display_data"
    }
   ],
   "source": [
    "fig = px.pie(df_data, \n",
    "             names='Segment',\n",
    "             values='Profit',\n",
    "             title=\"Lucro por segmento\")\n",
    "fig.show()"
   ]
  },
  {
   "cell_type": "code",
   "execution_count": null,
   "id": "2858d968-54e9-4bf3-ac50-382d5716cf4d",
   "metadata": {},
   "outputs": [],
   "source": []
  }
 ],
 "metadata": {
  "kernelspec": {
   "display_name": "Python 3 (ipykernel)",
   "language": "python",
   "name": "python3"
  },
  "language_info": {
   "codemirror_mode": {
    "name": "ipython",
    "version": 3
   },
   "file_extension": ".py",
   "mimetype": "text/x-python",
   "name": "python",
   "nbconvert_exporter": "python",
   "pygments_lexer": "ipython3",
   "version": "3.11.5"
  }
 },
 "nbformat": 4,
 "nbformat_minor": 5
}
